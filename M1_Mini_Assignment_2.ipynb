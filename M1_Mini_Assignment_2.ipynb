{
  "nbformat": 4,
  "nbformat_minor": 0,
  "metadata": {
    "colab": {
      "name": "M1 - Mini-Assignment 2",
      "version": "0.3.2",
      "provenance": [],
      "collapsed_sections": [],
      "include_colab_link": true
    },
    "kernelspec": {
      "name": "python3",
      "display_name": "Python 3"
    }
  },
  "cells": [
    {
      "cell_type": "markdown",
      "metadata": {
        "id": "view-in-github",
        "colab_type": "text"
      },
      "source": [
        "<a href=\"https://colab.research.google.com/github/pripster/hello-world/blob/master/M1_Mini_Assignment_2.ipynb\" target=\"_parent\"><img src=\"https://colab.research.google.com/assets/colab-badge.svg\" alt=\"Open In Colab\"/></a>"
      ]
    },
    {
      "cell_type": "markdown",
      "metadata": {
        "id": "xaWTovIcWsBz",
        "colab_type": "text"
      },
      "source": [
        "https://colab.research.google.com/drive/1Nu5A95jSdvPJEJIsHeKfWiWv9UrslSdD"
      ]
    },
    {
      "cell_type": "markdown",
      "metadata": {
        "id": "b48DeRCVM2ve",
        "colab_type": "text"
      },
      "source": [
        "# M1 - Mini-Assignment 2"
      ]
    },
    {
      "cell_type": "markdown",
      "metadata": {
        "id": "eAqZFNtGNIIq",
        "colab_type": "text"
      },
      "source": [
        "Initially I import the modules/expansions I expect to use throughout the different exercies as well as the dataframe."
      ]
    },
    {
      "cell_type": "code",
      "metadata": {
        "id": "jbr_I16CP_y9",
        "colab_type": "code",
        "colab": {}
      },
      "source": [
        "# Importing of modules/expansions\n",
        "import numpy as np\n",
        "import pandas as pd\n",
        "import matplotlib.pyplot as plt\n",
        "import seaborn as sns\n",
        "from sklearn import preprocessing\n"
      ],
      "execution_count": 0,
      "outputs": []
    },
    {
      "cell_type": "code",
      "metadata": {
        "id": "qPZxGnwYQ9UP",
        "colab_type": "code",
        "colab": {}
      },
      "source": [
        "# Importing dataframe\n",
        "df_pokemon = pd.read_csv('https://github.com/SDS-AAU/M1-2019/raw/master/data/pokemon.csv')"
      ],
      "execution_count": 0,
      "outputs": []
    },
    {
      "cell_type": "markdown",
      "metadata": {
        "id": "6LkwGLW0M_cS",
        "colab_type": "text"
      },
      "source": [
        "# 1. Unsupervised ML"
      ]
    },
    {
      "cell_type": "markdown",
      "metadata": {
        "id": "6TsSZFXbNG5U",
        "colab_type": "text"
      },
      "source": [
        "***1a. Execute a PCA analysis on all numerical variables in the dataset. Hint: Don't\n",
        "forget to scale them before. Use 4 components. What is the cumulative explained\n",
        "variance ratio?***"
      ]
    },
    {
      "cell_type": "code",
      "metadata": {
        "id": "heuSeI91R_Zu",
        "colab_type": "code",
        "outputId": "fd079cdb-7bd6-42a0-a929-12428aef71a6",
        "colab": {
          "base_uri": "https://localhost:8080/",
          "height": 297
        }
      },
      "source": [
        "# Before executing the PCA analysis I inspect the data to get an overview.\n",
        "pd.DataFrame(df_pokemon).describe()"
      ],
      "execution_count": 49,
      "outputs": [
        {
          "output_type": "execute_result",
          "data": {
            "text/html": [
              "<div>\n",
              "<style scoped>\n",
              "    .dataframe tbody tr th:only-of-type {\n",
              "        vertical-align: middle;\n",
              "    }\n",
              "\n",
              "    .dataframe tbody tr th {\n",
              "        vertical-align: top;\n",
              "    }\n",
              "\n",
              "    .dataframe thead th {\n",
              "        text-align: right;\n",
              "    }\n",
              "</style>\n",
              "<table border=\"1\" class=\"dataframe\">\n",
              "  <thead>\n",
              "    <tr style=\"text-align: right;\">\n",
              "      <th></th>\n",
              "      <th>Number</th>\n",
              "      <th>HitPoints</th>\n",
              "      <th>Attack</th>\n",
              "      <th>Defense</th>\n",
              "      <th>SpecialAttack</th>\n",
              "      <th>SpecialDefense</th>\n",
              "      <th>Speed</th>\n",
              "      <th>Generation</th>\n",
              "    </tr>\n",
              "  </thead>\n",
              "  <tbody>\n",
              "    <tr>\n",
              "      <th>count</th>\n",
              "      <td>800.000000</td>\n",
              "      <td>800.000000</td>\n",
              "      <td>800.000000</td>\n",
              "      <td>800.000000</td>\n",
              "      <td>800.000000</td>\n",
              "      <td>800.000000</td>\n",
              "      <td>800.000000</td>\n",
              "      <td>800.00000</td>\n",
              "    </tr>\n",
              "    <tr>\n",
              "      <th>mean</th>\n",
              "      <td>362.813750</td>\n",
              "      <td>69.258750</td>\n",
              "      <td>79.001250</td>\n",
              "      <td>73.842500</td>\n",
              "      <td>72.820000</td>\n",
              "      <td>71.902500</td>\n",
              "      <td>68.277500</td>\n",
              "      <td>3.32375</td>\n",
              "    </tr>\n",
              "    <tr>\n",
              "      <th>std</th>\n",
              "      <td>208.343798</td>\n",
              "      <td>25.534669</td>\n",
              "      <td>32.457366</td>\n",
              "      <td>31.183501</td>\n",
              "      <td>32.722294</td>\n",
              "      <td>27.828916</td>\n",
              "      <td>29.060474</td>\n",
              "      <td>1.66129</td>\n",
              "    </tr>\n",
              "    <tr>\n",
              "      <th>min</th>\n",
              "      <td>1.000000</td>\n",
              "      <td>1.000000</td>\n",
              "      <td>5.000000</td>\n",
              "      <td>5.000000</td>\n",
              "      <td>10.000000</td>\n",
              "      <td>20.000000</td>\n",
              "      <td>5.000000</td>\n",
              "      <td>1.00000</td>\n",
              "    </tr>\n",
              "    <tr>\n",
              "      <th>25%</th>\n",
              "      <td>184.750000</td>\n",
              "      <td>50.000000</td>\n",
              "      <td>55.000000</td>\n",
              "      <td>50.000000</td>\n",
              "      <td>49.750000</td>\n",
              "      <td>50.000000</td>\n",
              "      <td>45.000000</td>\n",
              "      <td>2.00000</td>\n",
              "    </tr>\n",
              "    <tr>\n",
              "      <th>50%</th>\n",
              "      <td>364.500000</td>\n",
              "      <td>65.000000</td>\n",
              "      <td>75.000000</td>\n",
              "      <td>70.000000</td>\n",
              "      <td>65.000000</td>\n",
              "      <td>70.000000</td>\n",
              "      <td>65.000000</td>\n",
              "      <td>3.00000</td>\n",
              "    </tr>\n",
              "    <tr>\n",
              "      <th>75%</th>\n",
              "      <td>539.250000</td>\n",
              "      <td>80.000000</td>\n",
              "      <td>100.000000</td>\n",
              "      <td>90.000000</td>\n",
              "      <td>95.000000</td>\n",
              "      <td>90.000000</td>\n",
              "      <td>90.000000</td>\n",
              "      <td>5.00000</td>\n",
              "    </tr>\n",
              "    <tr>\n",
              "      <th>max</th>\n",
              "      <td>721.000000</td>\n",
              "      <td>255.000000</td>\n",
              "      <td>190.000000</td>\n",
              "      <td>230.000000</td>\n",
              "      <td>194.000000</td>\n",
              "      <td>230.000000</td>\n",
              "      <td>180.000000</td>\n",
              "      <td>6.00000</td>\n",
              "    </tr>\n",
              "  </tbody>\n",
              "</table>\n",
              "</div>"
            ],
            "text/plain": [
              "           Number   HitPoints  ...       Speed  Generation\n",
              "count  800.000000  800.000000  ...  800.000000   800.00000\n",
              "mean   362.813750   69.258750  ...   68.277500     3.32375\n",
              "std    208.343798   25.534669  ...   29.060474     1.66129\n",
              "min      1.000000    1.000000  ...    5.000000     1.00000\n",
              "25%    184.750000   50.000000  ...   45.000000     2.00000\n",
              "50%    364.500000   65.000000  ...   65.000000     3.00000\n",
              "75%    539.250000   80.000000  ...   90.000000     5.00000\n",
              "max    721.000000  255.000000  ...  180.000000     6.00000\n",
              "\n",
              "[8 rows x 8 columns]"
            ]
          },
          "metadata": {
            "tags": []
          },
          "execution_count": 49
        }
      ]
    },
    {
      "cell_type": "code",
      "metadata": {
        "id": "wlzjYYZ3ara8",
        "colab_type": "code",
        "outputId": "2b0d86ab-9895-46e0-9e75-612ad731c536",
        "colab": {
          "base_uri": "https://localhost:8080/",
          "height": 289
        }
      },
      "source": [
        "df_pokemon.info()"
      ],
      "execution_count": 50,
      "outputs": [
        {
          "output_type": "stream",
          "text": [
            "<class 'pandas.core.frame.DataFrame'>\n",
            "RangeIndex: 800 entries, 0 to 799\n",
            "Data columns (total 11 columns):\n",
            "Number            800 non-null int64\n",
            "Name              800 non-null object\n",
            "Type1             800 non-null object\n",
            "HitPoints         800 non-null int64\n",
            "Attack            800 non-null int64\n",
            "Defense           800 non-null int64\n",
            "SpecialAttack     800 non-null int64\n",
            "SpecialDefense    800 non-null int64\n",
            "Speed             800 non-null int64\n",
            "Generation        800 non-null int64\n",
            "Legendary         800 non-null bool\n",
            "dtypes: bool(1), int64(8), object(2)\n",
            "memory usage: 63.4+ KB\n"
          ],
          "name": "stdout"
        }
      ]
    },
    {
      "cell_type": "markdown",
      "metadata": {
        "id": "c2eBxPYRa4MS",
        "colab_type": "text"
      },
      "source": [
        "As seen above the dataframe consists of 800 rows as well as 11 columns. It has been stated that no preprocessing of missing values is required, but before we can go ahead and do the PCA analysis we have to scale our dataframe as stated in the hint."
      ]
    },
    {
      "cell_type": "code",
      "metadata": {
        "id": "-EqEGaKybN2q",
        "colab_type": "code",
        "colab": {}
      },
      "source": [
        "# Importing scaler from sklearn.\n",
        "from sklearn.preprocessing import StandardScaler\n",
        "scaler = StandardScaler()"
      ],
      "execution_count": 0,
      "outputs": []
    },
    {
      "cell_type": "code",
      "metadata": {
        "id": "nQX48KWnd0Ev",
        "colab_type": "code",
        "colab": {}
      },
      "source": [
        "# I create a new variable in which I store the columns I'm interested in.\n",
        "df_pokemon_sf = df_pokemon.loc[:,'HitPoints':'Generation'] # All columns from 'Hitpoints' to 'Generation'.\n",
        "\n",
        "\n",
        "# The actual scaling of the data\n",
        "scaler = StandardScaler().fit(df_pokemon_sf)\n",
        "df_pokemon_scaled = scaler.transform(df_pokemon_sf)\n"
      ],
      "execution_count": 0,
      "outputs": []
    },
    {
      "cell_type": "code",
      "metadata": {
        "id": "LnnVSQrMeGcz",
        "colab_type": "code",
        "outputId": "6c21dab3-02b6-4872-e238-6b931b5e66bc",
        "colab": {
          "base_uri": "https://localhost:8080/",
          "height": 331
        }
      },
      "source": [
        "# The scaled mean and standard deviation is printed as well as the new dataframe.\n",
        "print(df_pokemon_scaled[:,0].mean())\n",
        "print(df_pokemon_scaled[:,0].std())\n",
        "\n",
        "pd.DataFrame(df_pokemon_scaled).describe()"
      ],
      "execution_count": 53,
      "outputs": [
        {
          "output_type": "stream",
          "text": [
            "-2.486899575160351e-16\n",
            "1.0\n"
          ],
          "name": "stdout"
        },
        {
          "output_type": "execute_result",
          "data": {
            "text/html": [
              "<div>\n",
              "<style scoped>\n",
              "    .dataframe tbody tr th:only-of-type {\n",
              "        vertical-align: middle;\n",
              "    }\n",
              "\n",
              "    .dataframe tbody tr th {\n",
              "        vertical-align: top;\n",
              "    }\n",
              "\n",
              "    .dataframe thead th {\n",
              "        text-align: right;\n",
              "    }\n",
              "</style>\n",
              "<table border=\"1\" class=\"dataframe\">\n",
              "  <thead>\n",
              "    <tr style=\"text-align: right;\">\n",
              "      <th></th>\n",
              "      <th>0</th>\n",
              "      <th>1</th>\n",
              "      <th>2</th>\n",
              "      <th>3</th>\n",
              "      <th>4</th>\n",
              "      <th>5</th>\n",
              "      <th>6</th>\n",
              "    </tr>\n",
              "  </thead>\n",
              "  <tbody>\n",
              "    <tr>\n",
              "      <th>count</th>\n",
              "      <td>8.000000e+02</td>\n",
              "      <td>8.000000e+02</td>\n",
              "      <td>8.000000e+02</td>\n",
              "      <td>8.000000e+02</td>\n",
              "      <td>8.000000e+02</td>\n",
              "      <td>8.000000e+02</td>\n",
              "      <td>8.000000e+02</td>\n",
              "    </tr>\n",
              "    <tr>\n",
              "      <th>mean</th>\n",
              "      <td>-2.660372e-16</td>\n",
              "      <td>-1.355860e-16</td>\n",
              "      <td>2.498002e-17</td>\n",
              "      <td>2.120526e-16</td>\n",
              "      <td>-1.171285e-16</td>\n",
              "      <td>-7.842685e-17</td>\n",
              "      <td>-1.629252e-15</td>\n",
              "    </tr>\n",
              "    <tr>\n",
              "      <th>std</th>\n",
              "      <td>1.000626e+00</td>\n",
              "      <td>1.000626e+00</td>\n",
              "      <td>1.000626e+00</td>\n",
              "      <td>1.000626e+00</td>\n",
              "      <td>1.000626e+00</td>\n",
              "      <td>1.000626e+00</td>\n",
              "      <td>1.000626e+00</td>\n",
              "    </tr>\n",
              "    <tr>\n",
              "      <th>min</th>\n",
              "      <td>-2.674852e+00</td>\n",
              "      <td>-2.281379e+00</td>\n",
              "      <td>-2.209039e+00</td>\n",
              "      <td>-1.920993e+00</td>\n",
              "      <td>-1.866223e+00</td>\n",
              "      <td>-2.178804e+00</td>\n",
              "      <td>-1.399637e+00</td>\n",
              "    </tr>\n",
              "    <tr>\n",
              "      <th>25%</th>\n",
              "      <td>-7.546915e-01</td>\n",
              "      <td>-7.399327e-01</td>\n",
              "      <td>-7.650653e-01</td>\n",
              "      <td>-7.054650e-01</td>\n",
              "      <td>-7.875334e-01</td>\n",
              "      <td>-8.015032e-01</td>\n",
              "      <td>-7.973188e-01</td>\n",
              "    </tr>\n",
              "    <tr>\n",
              "      <th>50%</th>\n",
              "      <td>-1.668874e-01</td>\n",
              "      <td>-1.233542e-01</td>\n",
              "      <td>-1.232993e-01</td>\n",
              "      <td>-2.391303e-01</td>\n",
              "      <td>-6.840691e-02</td>\n",
              "      <td>-1.128526e-01</td>\n",
              "      <td>-1.950005e-01</td>\n",
              "    </tr>\n",
              "    <tr>\n",
              "      <th>75%</th>\n",
              "      <td>4.209167e-01</td>\n",
              "      <td>6.473688e-01</td>\n",
              "      <td>5.184667e-01</td>\n",
              "      <td>6.782494e-01</td>\n",
              "      <td>6.507196e-01</td>\n",
              "      <td>7.479606e-01</td>\n",
              "      <td>1.009636e+00</td>\n",
              "    </tr>\n",
              "    <tr>\n",
              "      <th>max</th>\n",
              "      <td>7.278632e+00</td>\n",
              "      <td>3.421972e+00</td>\n",
              "      <td>5.010829e+00</td>\n",
              "      <td>3.705602e+00</td>\n",
              "      <td>5.684605e+00</td>\n",
              "      <td>3.846888e+00</td>\n",
              "      <td>1.611954e+00</td>\n",
              "    </tr>\n",
              "  </tbody>\n",
              "</table>\n",
              "</div>"
            ],
            "text/plain": [
              "                  0             1  ...             5             6\n",
              "count  8.000000e+02  8.000000e+02  ...  8.000000e+02  8.000000e+02\n",
              "mean  -2.660372e-16 -1.355860e-16  ... -7.842685e-17 -1.629252e-15\n",
              "std    1.000626e+00  1.000626e+00  ...  1.000626e+00  1.000626e+00\n",
              "min   -2.674852e+00 -2.281379e+00  ... -2.178804e+00 -1.399637e+00\n",
              "25%   -7.546915e-01 -7.399327e-01  ... -8.015032e-01 -7.973188e-01\n",
              "50%   -1.668874e-01 -1.233542e-01  ... -1.128526e-01 -1.950005e-01\n",
              "75%    4.209167e-01  6.473688e-01  ...  7.479606e-01  1.009636e+00\n",
              "max    7.278632e+00  3.421972e+00  ...  3.846888e+00  1.611954e+00\n",
              "\n",
              "[8 rows x 7 columns]"
            ]
          },
          "metadata": {
            "tags": []
          },
          "execution_count": 53
        }
      ]
    },
    {
      "cell_type": "markdown",
      "metadata": {
        "id": "xFMoPy1biBAb",
        "colab_type": "text"
      },
      "source": [
        "Now I move ahead with the PCA analysis below"
      ]
    },
    {
      "cell_type": "code",
      "metadata": {
        "id": "uTCvkOBAiFTZ",
        "colab_type": "code",
        "colab": {}
      },
      "source": [
        "# Importing the required module enabaling me to do the Principle Component Analysis (PCA)\n",
        "from sklearn.decomposition import PCA"
      ],
      "execution_count": 0,
      "outputs": []
    },
    {
      "cell_type": "code",
      "metadata": {
        "id": "fg2qh0D8jWvn",
        "colab_type": "code",
        "colab": {}
      },
      "source": [
        "# As stated in the excercise the PCA analysis is completed using four components.\n",
        "pca = PCA(n_components=4)\n",
        "\n",
        "# The dataframe is transformed\n",
        "df_pokemon_transformed = pca.fit_transform(df_pokemon_scaled)"
      ],
      "execution_count": 0,
      "outputs": []
    },
    {
      "cell_type": "code",
      "metadata": {
        "id": "IA_Z9ZMonZav",
        "colab_type": "code",
        "outputId": "4a5a1efe-616b-432a-9252-e17394b0b3a5",
        "colab": {
          "base_uri": "https://localhost:8080/",
          "height": 34
        }
      },
      "source": [
        "# The .shape command is used to verify that have reduced our components to four.\n",
        "df_pokemon_transformed.shape"
      ],
      "execution_count": 56,
      "outputs": [
        {
          "output_type": "execute_result",
          "data": {
            "text/plain": [
              "(800, 4)"
            ]
          },
          "metadata": {
            "tags": []
          },
          "execution_count": 56
        }
      ]
    },
    {
      "cell_type": "code",
      "metadata": {
        "id": "AF9O2A0Nnm2m",
        "colab_type": "code",
        "colab": {}
      },
      "source": [
        "# In order to the cumulative explained variance ratio I plot the dataframe\n",
        "plot_data = pd.DataFrame({'evr': pca.explained_variance_ratio_, 'cumsum': np.cumsum(pca.explained_variance_ratio_)}).stack"
      ],
      "execution_count": 0,
      "outputs": []
    },
    {
      "cell_type": "code",
      "metadata": {
        "id": "5PlwrQd4pli8",
        "colab_type": "code",
        "outputId": "65949574-5c53-4458-883a-9e0fe45ba65e",
        "colab": {
          "base_uri": "https://localhost:8080/",
          "height": 523
        }
      },
      "source": [
        "# In order to the cumulative explained variance ratio I plot the dataframe\n",
        "plot_data = pd.DataFrame({'evr': pca.explained_variance_ratio_, 'cumsum_evr': np.cumsum(pca.explained_variance_ratio_)}).stack()\n",
        "\n",
        "sns.set(rc={'figure.figsize':(11.7,8.27)})\n",
        "sns.lineplot(y = plot_data.values, x = plot_data.index.get_level_values(0), hue=plot_data.index.get_level_values(1))"
      ],
      "execution_count": 58,
      "outputs": [
        {
          "output_type": "execute_result",
          "data": {
            "text/plain": [
              "<matplotlib.axes._subplots.AxesSubplot at 0x7f3e31dc8048>"
            ]
          },
          "metadata": {
            "tags": []
          },
          "execution_count": 58
        },
        {
          "output_type": "display_data",
          "data": {
            "image/png": "[encoded data removed]",
            "text/plain": [
              "<Figure size 842.4x595.44 with 1 Axes>"
            ]
          },
          "metadata": {
            "tags": []
          }
        }
      ]
    },
    {
      "cell_type": "code",
      "metadata": {
        "id": "5gBs1Ms6rn1h",
        "colab_type": "code",
        "outputId": "97af097e-3c3a-4fa2-a5d0-ec2cfbe77661",
        "colab": {
          "base_uri": "https://localhost:8080/",
          "height": 34
        }
      },
      "source": [
        "# Estimating the cumulative explained variance ratio for four components\n",
        "cevr = (pca.explained_variance_ratio_ * 100).sum()\n",
        "cevr"
      ],
      "execution_count": 59,
      "outputs": [
        {
          "output_type": "execute_result",
          "data": {
            "text/plain": [
              "79.80734261924614"
            ]
          },
          "metadata": {
            "tags": []
          },
          "execution_count": 59
        }
      ]
    },
    {
      "cell_type": "markdown",
      "metadata": {
        "id": "d3658O9pp43B",
        "colab_type": "text"
      },
      "source": [
        "**Conclusion:** After reducing the amount of components to four and visualizing it above we can see the that with four components we have only reduced the amount the original knowledge with roughly 20 percent. This is verified with the additional calculation which states the cumulative explained variance ratio to be 79.8 percent. This could be argued to a great loss of data, none the less we continue."
      ]
    },
    {
      "cell_type": "markdown",
      "metadata": {
        "id": "c6GWzGLVRZZl",
        "colab_type": "text"
      },
      "source": [
        "***1b. Perform a cluster analysis (either k-means or hierarchical clustering algorithm) on\n",
        "all numerical variables (scaled & before PCA). Apply the elbow method to\n",
        "determine a “pragmatic” number of clusters.***"
      ]
    },
    {
      "cell_type": "code",
      "metadata": {
        "id": "hxdWhVe0vDxI",
        "colab_type": "code",
        "colab": {}
      },
      "source": [
        "# Initially we import KMeans from sk.learn to perform the cluster analysis.\n",
        "from sklearn.cluster import KMeans"
      ],
      "execution_count": 0,
      "outputs": []
    },
    {
      "cell_type": "code",
      "metadata": {
        "id": "JUG756RuwCCu",
        "colab_type": "code",
        "outputId": "25d0d9f1-4493-4fc0-cae4-116168b98f36",
        "colab": {
          "base_uri": "https://localhost:8080/",
          "height": 523
        }
      },
      "source": [
        "# We visualize to show where the elbow breaks.\n",
        "inertia=[]\n",
        "for i in range(1,10):\n",
        "  k_means = KMeans(n_clusters=i)\n",
        "  inertia.append(k_means.fit(df_pokemon_scaled).inertia_)\n",
        "  \n",
        "sns.lineplot(y=inertia,x=range(1,10))\n",
        "    "
      ],
      "execution_count": 61,
      "outputs": [
        {
          "output_type": "execute_result",
          "data": {
            "text/plain": [
              "<matplotlib.axes._subplots.AxesSubplot at 0x7f3e31d22cc0>"
            ]
          },
          "metadata": {
            "tags": []
          },
          "execution_count": 61
        },
        {
          "output_type": "display_data",
          "data": {
            "image/png": "[encoded data removed]",
            "text/plain": [
              "<Figure size 842.4x595.44 with 1 Axes>"
            ]
          },
          "metadata": {
            "tags": []
          }
        }
      ]
    },
    {
      "cell_type": "markdown",
      "metadata": {
        "id": "a--OZ_buyBb8",
        "colab_type": "text"
      },
      "source": [
        "**Conclusion:** As we can seen on the plot above the major break is identified at two clusters thus this seems as a pragmatic number of clusters.\n",
        "\n"
      ]
    },
    {
      "cell_type": "markdown",
      "metadata": {
        "id": "JA1QjiWXRZnV",
        "colab_type": "text"
      },
      "source": [
        "***1c. Visualize the first 2 principal components and color the datapoints by cluster.***"
      ]
    },
    {
      "cell_type": "code",
      "metadata": {
        "id": "0cmgVPcovB4m",
        "colab_type": "code",
        "outputId": "45a59072-6256-4de5-8228-a7d888df0fe0",
        "colab": {
          "base_uri": "https://localhost:8080/",
          "height": 68
        }
      },
      "source": [
        "# As stated in the previous exercise we specify the number of clusters to two, because of the elbow break.\n",
        "clusterer = KMeans(n_clusters=2) \n",
        "clusterer.fit(df_pokemon_transformed)"
      ],
      "execution_count": 62,
      "outputs": [
        {
          "output_type": "execute_result",
          "data": {
            "text/plain": [
              "KMeans(algorithm='auto', copy_x=True, init='k-means++', max_iter=300,\n",
              "       n_clusters=2, n_init=10, n_jobs=None, precompute_distances='auto',\n",
              "       random_state=None, tol=0.0001, verbose=0)"
            ]
          },
          "metadata": {
            "tags": []
          },
          "execution_count": 62
        }
      ]
    },
    {
      "cell_type": "code",
      "metadata": {
        "id": "PhrFA2VHzXUm",
        "colab_type": "code",
        "outputId": "dca834f3-c026-40cd-bada-9b0c0910e52a",
        "colab": {
          "base_uri": "https://localhost:8080/",
          "height": 709
        }
      },
      "source": [
        "# The datapoints of the two prinical componets are visualized.\n",
        "plt.figure(figsize=(12,12))\n",
        "g = sns.scatterplot(df_pokemon_transformed[:,0], df_pokemon_transformed[:,1], hue=clusterer.labels_, legend='full', palette='viridis')\n",
        "\n",
        "legend = g.get_legend()"
      ],
      "execution_count": 63,
      "outputs": [
        {
          "output_type": "display_data",
          "data": {
            "image/png": "[encoded data removed]",
            "text/plain": [
              "<Figure size 864x864 with 1 Axes>"
            ]
          },
          "metadata": {
            "tags": []
          }
        }
      ]
    },
    {
      "cell_type": "markdown",
      "metadata": {
        "id": "iHs2yv0C0ll_",
        "colab_type": "text"
      },
      "source": [
        "**Conclusion:** The datapoints of two clusters has been visualized. We have a spread with a quite a few green outliers."
      ]
    },
    {
      "cell_type": "markdown",
      "metadata": {
        "id": "gXu0NLeoRZt1",
        "colab_type": "text"
      },
      "source": [
        "***1d. Inspect the distribution of the variable “Type1” across clusters. Does the\n",
        "algorithm separate the different types of pokemon?***"
      ]
    },
    {
      "cell_type": "markdown",
      "metadata": {
        "id": "lrba_nN_K7Zd",
        "colab_type": "text"
      },
      "source": [
        "In order to inspect the variable \"Type!\" across the clusters the interactive tool 'Bokeh' is used to plot and give us unique information about each individual point."
      ]
    },
    {
      "cell_type": "code",
      "metadata": {
        "id": "yIlGp9v43OAU",
        "colab_type": "code",
        "colab": {}
      },
      "source": [
        "# Importing bokeh modules/expansions to perform the inspection.\n",
        "from bokeh.models import ColumnDataSource\n",
        "from bokeh.plotting import figure, show, output_notebook\n",
        "from bokeh.palettes import Spectral6\n",
        "from bokeh.transform import factor_cmap"
      ],
      "execution_count": 0,
      "outputs": []
    },
    {
      "cell_type": "code",
      "metadata": {
        "id": "YSGdNYLo3WJg",
        "colab_type": "code",
        "colab": {}
      },
      "source": [
        "# The data is defined enabling us to do the inspection.\n",
        "data = {'y':df_pokemon_transformed[:,1],'x':df_pokemon_transformed[:,0], 'Type1': df_pokemon['Type1'],'cluster': pd.Series(clusterer.labels_).map({0:'a',1:'b',2:'c'})}"
      ],
      "execution_count": 0,
      "outputs": []
    },
    {
      "cell_type": "code",
      "metadata": {
        "id": "7d7yxsW83pEQ",
        "colab_type": "code",
        "colab": {}
      },
      "source": [
        "# We definde and transform a color-palette for the plot.\n",
        "colors = factor_cmap('cluster', palette=Spectral6, factors=data['cluster'].unique())"
      ],
      "execution_count": 0,
      "outputs": []
    },
    {
      "cell_type": "code",
      "metadata": {
        "id": "adI3IcUF4VL2",
        "colab_type": "code",
        "colab": {}
      },
      "source": [
        "# Data os transformed to the required 'Bokeh' format.\n",
        "data=ColumnDataSource(data)"
      ],
      "execution_count": 0,
      "outputs": []
    },
    {
      "cell_type": "code",
      "metadata": {
        "id": "ukWawqJZ4qQw",
        "colab_type": "code",
        "outputId": "d57ec427-72de-4eba-f12b-488502d40e42",
        "colab": {
          "base_uri": "https://localhost:8080/",
          "height": 617
        }
      },
      "source": [
        "# Finally the requirements for the interactive tool is specifed and plotted. \n",
        "output_notebook()\n",
        "\n",
        "TOOLS=\"hover,crosshair,pan,wheel_zoom,zoom_in,zoom_out,box_zoom,undo,redo,reset,tap,save,box_select,poly_select,lasso_select\"\n",
        "p=figure(tools=TOOLS)\n",
        "p.hover.tooltips=[('Type',\"@Type1\")]\n",
        "p.scatter(x='x',y='y',fill_alpha=0.8,\n",
        "          color=colors,\n",
        "          line_color=None,\n",
        "          radius=0.1,\n",
        "          source=data)\n",
        "show(p)"
      ],
      "execution_count": 68,
      "outputs": [
        {
          "output_type": "display_data",
          "data": {
            "application/javascript": [
              "\n",
              "(function(root) {\n",
              "  function now() {\n",
              "    return new Date();\n",
              "  }\n",
              "\n",
              "  var force = true;\n",
              "\n",
              "  if (typeof (root._bokeh_onload_callbacks) === \"undefined\" || force === true) {\n",
              "    root._bokeh_onload_callbacks = [];\n",
              "    root._bokeh_is_loading = undefined;\n",
              "  }\n",
              "\n",
              "  var JS_MIME_TYPE = 'application/javascript';\n",
              "  var HTML_MIME_TYPE = 'text/html';\n",
              "  var EXEC_MIME_TYPE = 'application/vnd.bokehjs_exec.v0+json';\n",
              "  var CLASS_NAME = 'output_bokeh rendered_html';\n",
              "\n",
              "  /**\n",
              "   * Render data to the DOM node\n",
              "   */\n",
              "  function render(props, node) {\n",
              "    var script = document.createElement(\"script\");\n",
              "    node.appendChild(script);\n",
              "  }\n",
              "\n",
              "  /**\n",
              "   * Handle when an output is cleared or removed\n",
              "   */\n",
              "  function handleClearOutput(event, handle) {\n",
              "    var cell = handle.cell;\n",
              "\n",
              "    var id = cell.output_area._bokeh_element_id;\n",
              "    var server_id = cell.output_area._bokeh_server_id;\n",
              "    // Clean up Bokeh references\n",
              "    if (id != null && id in Bokeh.index) {\n",
              "      Bokeh.index[id].model.document.clear();\n",
              "      delete Bokeh.index[id];\n",
              "    }\n",
              "\n",
              "    if (server_id !== undefined) {\n",
              "      // Clean up Bokeh references\n",
              "      var cmd = \"from bokeh.io.state import curstate; print(curstate().uuid_to_server['\" + server_id + \"'].get_sessions()[0].document.roots[0]._id)\";\n",
              "      cell.notebook.kernel.execute(cmd, {\n",
              "        iopub: {\n",
              "          output: function(msg) {\n",
              "            var id = msg.content.text.trim();\n",
              "            if (id in Bokeh.index) {\n",
              "              Bokeh.index[id].model.document.clear();\n",
              "              delete Bokeh.index[id];\n",
              "            }\n",
              "          }\n",
              "        }\n",
              "      });\n",
              "      // Destroy server and session\n",
              "      var cmd = \"import bokeh.io.notebook as ion; ion.destroy_server('\" + server_id + \"')\";\n",
              "      cell.notebook.kernel.execute(cmd);\n",
              "    }\n",
              "  }\n",
              "\n",
              "  /**\n",
              "   * Handle when a new output is added\n",
              "   */\n",
              "  function handleAddOutput(event, handle) {\n",
              "    var output_area = handle.output_area;\n",
              "    var output = handle.output;\n",
              "\n",
              "    // limit handleAddOutput to display_data with EXEC_MIME_TYPE content only\n",
              "    if ((output.output_type != \"display_data\") || (!output.data.hasOwnProperty(EXEC_MIME_TYPE))) {\n",
              "      return\n",
              "    }\n",
              "\n",
              "    var toinsert = output_area.element.find(\".\" + CLASS_NAME.split(' ')[0]);\n",
              "\n",
              "    if (output.metadata[EXEC_MIME_TYPE][\"id\"] !== undefined) {\n",
              "      toinsert[toinsert.length - 1].firstChild.textContent = output.data[JS_MIME_TYPE];\n",
              "      // store reference to embed id on output_area\n",
              "      output_area._bokeh_element_id = output.metadata[EXEC_MIME_TYPE][\"id\"];\n",
              "    }\n",
              "    if (output.metadata[EXEC_MIME_TYPE][\"server_id\"] !== undefined) {\n",
              "      var bk_div = document.createElement(\"div\");\n",
              "      bk_div.innerHTML = output.data[HTML_MIME_TYPE];\n",
              "      var script_attrs = bk_div.children[0].attributes;\n",
              "      for (var i = 0; i < script_attrs.length; i++) {\n",
              "        toinsert[toinsert.length - 1].firstChild.setAttribute(script_attrs[i].name, script_attrs[i].value);\n",
              "      }\n",
              "      // store reference to server id on output_area\n",
              "      output_area._bokeh_server_id = output.metadata[EXEC_MIME_TYPE][\"server_id\"];\n",
              "    }\n",
              "  }\n",
              "\n",
              "  function register_renderer(events, OutputArea) {\n",
              "\n",
              "    function append_mime(data, metadata, element) {\n",
              "      // create a DOM node to render to\n",
              "      var toinsert = this.create_output_subarea(\n",
              "        metadata,\n",
              "        CLASS_NAME,\n",
              "        EXEC_MIME_TYPE\n",
              "      );\n",
              "      this.keyboard_manager.register_events(toinsert);\n",
              "      // Render to node\n",
              "      var props = {data: data, metadata: metadata[EXEC_MIME_TYPE]};\n",
              "      render(props, toinsert[toinsert.length - 1]);\n",
              "      element.append(toinsert);\n",
              "      return toinsert\n",
              "    }\n",
              "\n",
              "    /* Handle when an output is cleared or removed */\n",
              "    events.on('clear_output.CodeCell', handleClearOutput);\n",
              "    events.on('delete.Cell', handleClearOutput);\n",
              "\n",
              "    /* Handle when a new output is added */\n",
              "    events.on('output_added.OutputArea', handleAddOutput);\n",
              "\n",
              "    /**\n",
              "     * Register the mime type and append_mime function with output_area\n",
              "     */\n",
              "    OutputArea.prototype.register_mime_type(EXEC_MIME_TYPE, append_mime, {\n",
              "      /* Is output safe? */\n",
              "      safe: true,\n",
              "      /* Index of renderer in `output_area.display_order` */\n",
              "      index: 0\n",
              "    });\n",
              "  }\n",
              "\n",
              "  // register the mime type if in Jupyter Notebook environment and previously unregistered\n",
              "  if (root.Jupyter !== undefined) {\n",
              "    var events = require('base/js/events');\n",
              "    var OutputArea = require('notebook/js/outputarea').OutputArea;\n",
              "\n",
              "    if (OutputArea.prototype.mime_types().indexOf(EXEC_MIME_TYPE) == -1) {\n",
              "      register_renderer(events, OutputArea);\n",
              "    }\n",
              "  }\n",
              "\n",
              "  \n",
              "  if (typeof (root._bokeh_timeout) === \"undefined\" || force === true) {\n",
              "    root._bokeh_timeout = Date.now() + 5000;\n",
              "    root._bokeh_failed_load = false;\n",
              "  }\n",
              "\n",
              "  var NB_LOAD_WARNING = {'data': {'text/html':\n",
              "     \"<div style='background-color: #fdd'>\\n\"+\n",
              "     \"<p>\\n\"+\n",
              "     \"BokehJS does not appear to have successfully loaded. If loading BokehJS from CDN, this \\n\"+\n",
              "     \"may be due to a slow or bad network connection. Possible fixes:\\n\"+\n",
              "     \"</p>\\n\"+\n",
              "     \"<ul>\\n\"+\n",
              "     \"<li>re-rerun `output_notebook()` to attempt to load from CDN again, or</li>\\n\"+\n",
              "     \"<li>use INLINE resources instead, as so:</li>\\n\"+\n",
              "     \"</ul>\\n\"+\n",
              "     \"<code>\\n\"+\n",
              "     \"from bokeh.resources import INLINE\\n\"+\n",
              "     \"output_notebook(resources=INLINE)\\n\"+\n",
              "     \"</code>\\n\"+\n",
              "     \"</div>\"}};\n",
              "\n",
              "  function display_loaded() {\n",
              "    var el = document.getElementById(null);\n",
              "    if (el != null) {\n",
              "      el.textContent = \"BokehJS is loading...\";\n",
              "    }\n",
              "    if (root.Bokeh !== undefined) {\n",
              "      if (el != null) {\n",
              "        el.textContent = \"BokehJS \" + root.Bokeh.version + \" successfully loaded.\";\n",
              "      }\n",
              "    } else if (Date.now() < root._bokeh_timeout) {\n",
              "      setTimeout(display_loaded, 100)\n",
              "    }\n",
              "  }\n",
              "\n",
              "\n",
              "  function run_callbacks() {\n",
              "    try {\n",
              "      root._bokeh_onload_callbacks.forEach(function(callback) { callback() });\n",
              "    }\n",
              "    finally {\n",
              "      delete root._bokeh_onload_callbacks\n",
              "    }\n",
              "    console.info(\"Bokeh: all callbacks have finished\");\n",
              "  }\n",
              "\n",
              "  function load_libs(js_urls, callback) {\n",
              "    root._bokeh_onload_callbacks.push(callback);\n",
              "    if (root._bokeh_is_loading > 0) {\n",
              "      console.log(\"Bokeh: BokehJS is being loaded, scheduling callback at\", now());\n",
              "      return null;\n",
              "    }\n",
              "    if (js_urls == null || js_urls.length === 0) {\n",
              "      run_callbacks();\n",
              "      return null;\n",
              "    }\n",
              "    console.log(\"Bokeh: BokehJS not loaded, scheduling load and callback at\", now());\n",
              "    root._bokeh_is_loading = js_urls.length;\n",
              "    for (var i = 0; i < js_urls.length; i++) {\n",
              "      var url = js_urls[i];\n",
              "      var s = document.createElement('script');\n",
              "      s.src = url;\n",
              "      s.async = false;\n",
              "      s.onreadystatechange = s.onload = function() {\n",
              "        root._bokeh_is_loading--;\n",
              "        if (root._bokeh_is_loading === 0) {\n",
              "          console.log(\"Bokeh: all BokehJS libraries loaded\");\n",
              "          run_callbacks()\n",
              "        }\n",
              "      };\n",
              "      s.onerror = function() {\n",
              "        console.warn(\"failed to load library \" + url);\n",
              "      };\n",
              "      console.log(\"Bokeh: injecting script tag for BokehJS library: \", url);\n",
              "      document.getElementsByTagName(\"head\")[0].appendChild(s);\n",
              "    }\n",
              "  };\n",
              "\n",
              "  var js_urls = [\"https://cdn.pydata.org/bokeh/release/bokeh-1.0.4.min.js\", \"https://cdn.pydata.org/bokeh/release/bokeh-widgets-1.0.4.min.js\", \"https://cdn.pydata.org/bokeh/release/bokeh-tables-1.0.4.min.js\", \"https://cdn.pydata.org/bokeh/release/bokeh-gl-1.0.4.min.js\"];\n",
              "\n",
              "  var inline_js = [\n",
              "    function(Bokeh) {\n",
              "      Bokeh.set_log_level(\"info\");\n",
              "    },\n",
              "    \n",
              "    function(Bokeh) {\n",
              "      \n",
              "    },\n",
              "    function(Bokeh) {\n",
              "      console.log(\"Bokeh: injecting CSS: https://cdn.pydata.org/bokeh/release/bokeh-1.0.4.min.css\");\n",
              "      Bokeh.embed.inject_css(\"https://cdn.pydata.org/bokeh/release/bokeh-1.0.4.min.css\");\n",
              "      console.log(\"Bokeh: injecting CSS: https://cdn.pydata.org/bokeh/release/bokeh-widgets-1.0.4.min.css\");\n",
              "      Bokeh.embed.inject_css(\"https://cdn.pydata.org/bokeh/release/bokeh-widgets-1.0.4.min.css\");\n",
              "      console.log(\"Bokeh: injecting CSS: https://cdn.pydata.org/bokeh/release/bokeh-tables-1.0.4.min.css\");\n",
              "      Bokeh.embed.inject_css(\"https://cdn.pydata.org/bokeh/release/bokeh-tables-1.0.4.min.css\");\n",
              "    }\n",
              "  ];\n",
              "\n",
              "  function run_inline_js() {\n",
              "    \n",
              "    if ((root.Bokeh !== undefined) || (force === true)) {\n",
              "      for (var i = 0; i < inline_js.length; i++) {\n",
              "        inline_js[i].call(root, root.Bokeh);\n",
              "      }} else if (Date.now() < root._bokeh_timeout) {\n",
              "      setTimeout(run_inline_js, 100);\n",
              "    } else if (!root._bokeh_failed_load) {\n",
              "      console.log(\"Bokeh: BokehJS failed to load within specified timeout.\");\n",
              "      root._bokeh_failed_load = true;\n",
              "    } else if (force !== true) {\n",
              "      var cell = $(document.getElementById(null)).parents('.cell').data().cell;\n",
              "      cell.output_area.append_execute_result(NB_LOAD_WARNING)\n",
              "    }\n",
              "\n",
              "  }\n",
              "\n",
              "  if (root._bokeh_is_loading === 0) {\n",
              "    console.log(\"Bokeh: BokehJS loaded, going straight to plotting\");\n",
              "    run_inline_js();\n",
              "  } else {\n",
              "    load_libs(js_urls, function() {\n",
              "      console.log(\"Bokeh: BokehJS plotting callback run at\", now());\n",
              "      run_inline_js();\n",
              "    });\n",
              "  }\n",
              "}(window));"
            ],
            "application/vnd.bokehjs_load.v0+json": "\n(function(root) {\n  function now() {\n    return new Date();\n  }\n\n  var force = true;\n\n  if (typeof (root._bokeh_onload_callbacks) === \"undefined\" || force === true) {\n    root._bokeh_onload_callbacks = [];\n    root._bokeh_is_loading = undefined;\n  }\n\n  \n\n  \n  if (typeof (root._bokeh_timeout) === \"undefined\" || force === true) {\n    root._bokeh_timeout = Date.now() + 5000;\n    root._bokeh_failed_load = false;\n  }\n\n  var NB_LOAD_WARNING = {'data': {'text/html':\n     \"<div style='background-color: #fdd'>\\n\"+\n     \"<p>\\n\"+\n     \"BokehJS does not appear to have successfully loaded. If loading BokehJS from CDN, this \\n\"+\n     \"may be due to a slow or bad network connection. Possible fixes:\\n\"+\n     \"</p>\\n\"+\n     \"<ul>\\n\"+\n     \"<li>re-rerun `output_notebook()` to attempt to load from CDN again, or</li>\\n\"+\n     \"<li>use INLINE resources instead, as so:</li>\\n\"+\n     \"</ul>\\n\"+\n     \"<code>\\n\"+\n     \"from bokeh.resources import INLINE\\n\"+\n     \"output_notebook(resources=INLINE)\\n\"+\n     \"</code>\\n\"+\n     \"</div>\"}};\n\n  function display_loaded() {\n    var el = document.getElementById(null);\n    if (el != null) {\n      el.textContent = \"BokehJS is loading...\";\n    }\n    if (root.Bokeh !== undefined) {\n      if (el != null) {\n        el.textContent = \"BokehJS \" + root.Bokeh.version + \" successfully loaded.\";\n      }\n    } else if (Date.now() < root._bokeh_timeout) {\n      setTimeout(display_loaded, 100)\n    }\n  }\n\n\n  function run_callbacks() {\n    try {\n      root._bokeh_onload_callbacks.forEach(function(callback) { callback() });\n    }\n    finally {\n      delete root._bokeh_onload_callbacks\n    }\n    console.info(\"Bokeh: all callbacks have finished\");\n  }\n\n  function load_libs(js_urls, callback) {\n    root._bokeh_onload_callbacks.push(callback);\n    if (root._bokeh_is_loading > 0) {\n      console.log(\"Bokeh: BokehJS is being loaded, scheduling callback at\", now());\n      return null;\n    }\n    if (js_urls == null || js_urls.length === 0) {\n      run_callbacks();\n      return null;\n    }\n    console.log(\"Bokeh: BokehJS not loaded, scheduling load and callback at\", now());\n    root._bokeh_is_loading = js_urls.length;\n    for (var i = 0; i < js_urls.length; i++) {\n      var url = js_urls[i];\n      var s = document.createElement('script');\n      s.src = url;\n      s.async = false;\n      s.onreadystatechange = s.onload = function() {\n        root._bokeh_is_loading--;\n        if (root._bokeh_is_loading === 0) {\n          console.log(\"Bokeh: all BokehJS libraries loaded\");\n          run_callbacks()\n        }\n      };\n      s.onerror = function() {\n        console.warn(\"failed to load library \" + url);\n      };\n      console.log(\"Bokeh: injecting script tag for BokehJS library: \", url);\n      document.getElementsByTagName(\"head\")[0].appendChild(s);\n    }\n  };\n\n  var js_urls = [\"https://cdn.pydata.org/bokeh/release/bokeh-1.0.4.min.js\", \"https://cdn.pydata.org/bokeh/release/bokeh-widgets-1.0.4.min.js\", \"https://cdn.pydata.org/bokeh/release/bokeh-tables-1.0.4.min.js\", \"https://cdn.pydata.org/bokeh/release/bokeh-gl-1.0.4.min.js\"];\n\n  var inline_js = [\n    function(Bokeh) {\n      Bokeh.set_log_level(\"info\");\n    },\n    \n    function(Bokeh) {\n      \n    },\n    function(Bokeh) {\n      console.log(\"Bokeh: injecting CSS: https://cdn.pydata.org/bokeh/release/bokeh-1.0.4.min.css\");\n      Bokeh.embed.inject_css(\"https://cdn.pydata.org/bokeh/release/bokeh-1.0.4.min.css\");\n      console.log(\"Bokeh: injecting CSS: https://cdn.pydata.org/bokeh/release/bokeh-widgets-1.0.4.min.css\");\n      Bokeh.embed.inject_css(\"https://cdn.pydata.org/bokeh/release/bokeh-widgets-1.0.4.min.css\");\n      console.log(\"Bokeh: injecting CSS: https://cdn.pydata.org/bokeh/release/bokeh-tables-1.0.4.min.css\");\n      Bokeh.embed.inject_css(\"https://cdn.pydata.org/bokeh/release/bokeh-tables-1.0.4.min.css\");\n    }\n  ];\n\n  function run_inline_js() {\n    \n    if ((root.Bokeh !== undefined) || (force === true)) {\n      for (var i = 0; i < inline_js.length; i++) {\n        inline_js[i].call(root, root.Bokeh);\n      }} else if (Date.now() < root._bokeh_timeout) {\n      setTimeout(run_inline_js, 100);\n    } else if (!root._bokeh_failed_load) {\n      console.log(\"Bokeh: BokehJS failed to load within specified timeout.\");\n      root._bokeh_failed_load = true;\n    } else if (force !== true) {\n      var cell = $(document.getElementById(null)).parents('.cell').data().cell;\n      cell.output_area.append_execute_result(NB_LOAD_WARNING)\n    }\n\n  }\n\n  if (root._bokeh_is_loading === 0) {\n    console.log(\"Bokeh: BokehJS loaded, going straight to plotting\");\n    run_inline_js();\n  } else {\n    load_libs(js_urls, function() {\n      console.log(\"Bokeh: BokehJS plotting callback run at\", now());\n      run_inline_js();\n    });\n  }\n}(window));"
          },
          "metadata": {
            "tags": []
          }
        },
        {
          "output_type": "display_data",
          "data": {
            "text/html": [
              "\n",
              "\n",
              "\n",
              "\n",
              "\n",
              "\n",
              "  <div class=\"bk-root\" id=\"f883eae3-057a-4e96-ba4a-8dfd8554cf2b\" data-root-id=\"1153\"></div>\n"
            ]
          },
          "metadata": {
            "tags": []
          }
        },
        {
          "output_type": "display_data",
          "data": {
            "application/javascript": [
              "(function(root) {\n",
              "  function embed_document(root) {\n",
              "    \n",
              "  var docs_json = {\"685fc9f7-adbe-4e08-be60-e8b1eceaeaec\":{\"roots\":{\"references\":[{\"attributes\":{\"below\":[{\"id\":\"1162\",\"type\":\"LinearAxis\"}],\"left\":[{\"id\":\"1167\",\"type\":\"LinearAxis\"}],\"renderers\":[{\"id\":\"1162\",\"type\":\"LinearAxis\"},{\"id\":\"1166\",\"type\":\"Grid\"},{\"id\":\"1167\",\"type\":\"LinearAxis\"},{\"id\":\"1171\",\"type\":\"Grid\"},{\"id\":\"1193\",\"type\":\"BoxAnnotation\"},{\"id\":\"1201\",\"type\":\"BoxAnnotation\"},{\"id\":\"1204\",\"type\":\"PolyAnnotation\"},{\"id\":\"1207\",\"type\":\"PolyAnnotation\"},{\"id\":\"1215\",\"type\":\"GlyphRenderer\"}],\"title\":{\"id\":\"1230\",\"type\":\"Title\"},\"toolbar\":{\"id\":\"1187\",\"type\":\"Toolbar\"},\"x_range\":{\"id\":\"1154\",\"type\":\"DataRange1d\"},\"x_scale\":{\"id\":\"1158\",\"type\":\"LinearScale\"},\"y_range\":{\"id\":\"1156\",\"type\":\"DataRange1d\"},\"y_scale\":{\"id\":\"1160\",\"type\":\"LinearScale\"}},\"id\":\"1153\",\"subtype\":\"Figure\",\"type\":\"Plot\"},{\"attributes\":{},\"id\":\"1180\",\"type\":\"RedoTool\"},{\"attributes\":{\"callback\":null},\"id\":\"1154\",\"type\":\"DataRange1d\"},{\"attributes\":{},\"id\":\"1233\",\"type\":\"BasicTickFormatter\"},{\"attributes\":{\"callback\":null,\"overlay\":{\"id\":\"1204\",\"type\":\"PolyAnnotation\"}},\"id\":\"1185\",\"type\":\"PolySelectTool\"},{\"attributes\":{\"callback\":null,\"data\":{\"Type1\":[\"Grass\",\"Grass\",\"Grass\",\"Grass\",\"Fire\",\"Fire\",\"Fire\",\"Fire\",\"Fire\",\"Water\",\"Water\",\"Water\",\"Water\",\"Bug\",\"Bug\",\"Bug\",\"Bug\",\"Bug\",\"Bug\",\"Bug\",\"Normal\",\"Normal\",\"Normal\",\"Normal\",\"Normal\",\"Normal\",\"Normal\",\"Normal\",\"Poison\",\"Poison\",\"Electric\",\"Electric\",\"Ground\",\"Ground\",\"Poison\",\"Poison\",\"Poison\",\"Poison\",\"Poison\",\"Poison\",\"Fairy\",\"Fairy\",\"Fire\",\"Fire\",\"Normal\",\"Normal\",\"Poison\",\"Poison\",\"Grass\",\"Grass\",\"Grass\",\"Bug\",\"Bug\",\"Bug\",\"Bug\",\"Ground\",\"Ground\",\"Normal\",\"Normal\",\"Water\",\"Water\",\"Fighting\",\"Fighting\",\"Fire\",\"Fire\",\"Water\",\"Water\",\"Water\",\"Psychic\",\"Psychic\",\"Psychic\",\"Psychic\",\"Fighting\",\"Fighting\",\"Fighting\",\"Grass\",\"Grass\",\"Grass\",\"Water\",\"Water\",\"Rock\",\"Rock\",\"Rock\",\"Fire\",\"Fire\",\"Water\",\"Water\",\"Water\",\"Electric\",\"Electric\",\"Normal\",\"Normal\",\"Normal\",\"Water\",\"Water\",\"Poison\",\"Poison\",\"Water\",\"Water\",\"Ghost\",\"Ghost\",\"Ghost\",\"Ghost\",\"Rock\",\"Psychic\",\"Psychic\",\"Water\",\"Water\",\"Electric\",\"Electric\",\"Grass\",\"Grass\",\"Ground\",\"Ground\",\"Fighting\",\"Fighting\",\"Normal\",\"Poison\",\"Poison\",\"Ground\",\"Ground\",\"Normal\",\"Grass\",\"Normal\",\"Normal\",\"Water\",\"Water\",\"Water\",\"Water\",\"Water\",\"Water\",\"Psychic\",\"Bug\",\"Ice\",\"Electric\",\"Fire\",\"Bug\",\"Bug\",\"Normal\",\"Water\",\"Water\",\"Water\",\"Water\",\"Normal\",\"Normal\",\"Water\",\"Electric\",\"Fire\",\"Normal\",\"Rock\",\"Rock\",\"Rock\",\"Rock\",\"Rock\",\"Rock\",\"Normal\",\"Ice\",\"Electric\",\"Fire\",\"Dragon\",\"Dragon\",\"Dragon\",\"Psychic\",\"Psychic\",\"Psychic\",\"Psychic\",\"Grass\",\"Grass\",\"Grass\",\"Fire\",\"Fire\",\"Fire\",\"Water\",\"Water\",\"Water\",\"Normal\",\"Normal\",\"Normal\",\"Normal\",\"Bug\",\"Bug\",\"Bug\",\"Bug\",\"Poison\",\"Water\",\"Water\",\"Electric\",\"Fairy\",\"Normal\",\"Fairy\",\"Fairy\",\"Psychic\",\"Psychic\",\"Electric\",\"Electric\",\"Electric\",\"Electric\",\"Grass\",\"Water\",\"Water\",\"Rock\",\"Water\",\"Grass\",\"Grass\",\"Grass\",\"Normal\",\"Grass\",\"Grass\",\"Bug\",\"Water\",\"Water\",\"Psychic\",\"Dark\",\"Dark\",\"Water\",\"Ghost\",\"Psychic\",\"Psychic\",\"Normal\",\"Bug\",\"Bug\",\"Normal\",\"Ground\",\"Steel\",\"Steel\",\"Fairy\",\"Fairy\",\"Water\",\"Bug\",\"Bug\",\"Bug\",\"Bug\",\"Bug\",\"Dark\",\"Normal\",\"Normal\",\"Fire\",\"Fire\",\"Ice\",\"Ice\",\"Water\",\"Water\",\"Water\",\"Ice\",\"Water\",\"Steel\",\"Dark\",\"Dark\",\"Dark\",\"Water\",\"Ground\",\"Ground\",\"Normal\",\"Normal\",\"Normal\",\"Fighting\",\"Fighting\",\"Ice\",\"Electric\",\"Fire\",\"Normal\",\"Normal\",\"Electric\",\"Fire\",\"Water\",\"Rock\",\"Rock\",\"Rock\",\"Rock\",\"Psychic\",\"Fire\",\"Psychic\",\"Grass\",\"Grass\",\"Grass\",\"Grass\",\"Fire\",\"Fire\",\"Fire\",\"Fire\",\"Water\",\"Water\",\"Water\",\"Water\",\"Dark\",\"Dark\",\"Normal\",\"Normal\",\"Bug\",\"Bug\",\"Bug\",\"Bug\",\"Bug\",\"Water\",\"Water\",\"Water\",\"Grass\",\"Grass\",\"Grass\",\"Normal\",\"Normal\",\"Water\",\"Water\",\"Psychic\",\"Psychic\",\"Psychic\",\"Psychic\",\"Bug\",\"Bug\",\"Grass\",\"Grass\",\"Normal\",\"Normal\",\"Normal\",\"Bug\",\"Bug\",\"Bug\",\"Normal\",\"Normal\",\"Normal\",\"Fighting\",\"Fighting\",\"Normal\",\"Rock\",\"Normal\",\"Normal\",\"Dark\",\"Dark\",\"Steel\",\"Steel\",\"Steel\",\"Steel\",\"Steel\",\"Steel\",\"Fighting\",\"Fighting\",\"Fighting\",\"Electric\",\"Electric\",\"Electric\",\"Electric\",\"Electric\",\"Bug\",\"Bug\",\"Grass\",\"Poison\",\"Poison\",\"Water\",\"Water\",\"Water\",\"Water\",\"Water\",\"Fire\",\"Fire\",\"Fire\",\"Fire\",\"Psychic\",\"Psychic\",\"Normal\",\"Ground\",\"Ground\",\"Ground\",\"Grass\",\"Grass\",\"Normal\",\"Dragon\",\"Dragon\",\"Normal\",\"Poison\",\"Rock\",\"Rock\",\"Water\",\"Water\",\"Water\",\"Water\",\"Ground\",\"Ground\",\"Rock\",\"Rock\",\"Rock\",\"Rock\",\"Water\",\"Water\",\"Normal\",\"Normal\",\"Ghost\",\"Ghost\",\"Ghost\",\"Ghost\",\"Ghost\",\"Grass\",\"Psychic\",\"Dark\",\"Dark\",\"Psychic\",\"Ice\",\"Ice\",\"Ice\",\"Ice\",\"Ice\",\"Ice\",\"Water\",\"Water\",\"Water\",\"Water\",\"Water\",\"Dragon\",\"Dragon\",\"Dragon\",\"Dragon\",\"Steel\",\"Steel\",\"Steel\",\"Steel\",\"Rock\",\"Ice\",\"Steel\",\"Dragon\",\"Dragon\",\"Dragon\",\"Dragon\",\"Water\",\"Water\",\"Ground\",\"Ground\",\"Dragon\",\"Dragon\",\"Steel\",\"Psychic\",\"Psychic\",\"Psychic\",\"Psychic\",\"Grass\",\"Grass\",\"Grass\",\"Fire\",\"Fire\",\"Fire\",\"Water\",\"Water\",\"Water\",\"Normal\",\"Normal\",\"Normal\",\"Normal\",\"Normal\",\"Bug\",\"Bug\",\"Electric\",\"Electric\",\"Electric\",\"Grass\",\"Grass\",\"Rock\",\"Rock\",\"Rock\",\"Rock\",\"Bug\",\"Bug\",\"Bug\",\"Bug\",\"Bug\",\"Bug\",\"Bug\",\"Electric\",\"Water\",\"Water\",\"Grass\",\"Grass\",\"Water\",\"Water\",\"Normal\",\"Ghost\",\"Ghost\",\"Normal\",\"Normal\",\"Normal\",\"Ghost\",\"Dark\",\"Normal\",\"Normal\",\"Psychic\",\"Poison\",\"Poison\",\"Steel\",\"Steel\",\"Rock\",\"Psychic\",\"Normal\",\"Normal\",\"Ghost\",\"Dragon\",\"Dragon\",\"Dragon\",\"Dragon\",\"Normal\",\"Fighting\",\"Fighting\",\"Fighting\",\"Ground\",\"Ground\",\"Poison\",\"Poison\",\"Poison\",\"Poison\",\"Grass\",\"Water\",\"Water\",\"Water\",\"Grass\",\"Grass\",\"Grass\",\"Dark\",\"Electric\",\"Normal\",\"Ground\",\"Grass\",\"Electric\",\"Fire\",\"Fairy\",\"Bug\",\"Grass\",\"Ice\",\"Ground\",\"Ice\",\"Normal\",\"Psychic\",\"Psychic\",\"Rock\",\"Ghost\",\"Ice\",\"Electric\",\"Electric\",\"Electric\",\"Electric\",\"Electric\",\"Electric\",\"Psychic\",\"Psychic\",\"Psychic\",\"Steel\",\"Water\",\"Fire\",\"Normal\",\"Ghost\",\"Ghost\",\"Psychic\",\"Water\",\"Water\",\"Dark\",\"Grass\",\"Grass\",\"Normal\",\"Psychic\",\"Grass\",\"Grass\",\"Grass\",\"Fire\",\"Fire\",\"Fire\",\"Water\",\"Water\",\"Water\",\"Normal\",\"Normal\",\"Normal\",\"Normal\",\"Normal\",\"Dark\",\"Dark\",\"Grass\",\"Grass\",\"Fire\",\"Fire\",\"Water\",\"Water\",\"Psychic\",\"Psychic\",\"Normal\",\"Normal\",\"Normal\",\"Electric\",\"Electric\",\"Rock\",\"Rock\",\"Rock\",\"Psychic\",\"Psychic\",\"Ground\",\"Ground\",\"Normal\",\"Normal\",\"Fighting\",\"Fighting\",\"Fighting\",\"Water\",\"Water\",\"Water\",\"Fighting\",\"Fighting\",\"Bug\",\"Bug\",\"Bug\",\"Bug\",\"Bug\",\"Bug\",\"Grass\",\"Grass\",\"Grass\",\"Grass\",\"Water\",\"Ground\",\"Ground\",\"Ground\",\"Fire\",\"Fire\",\"Fire\",\"Grass\",\"Bug\",\"Bug\",\"Dark\",\"Dark\",\"Psychic\",\"Ghost\",\"Ghost\",\"Water\",\"Water\",\"Rock\",\"Rock\",\"Poison\",\"Poison\",\"Dark\",\"Dark\",\"Normal\",\"Normal\",\"Psychic\",\"Psychic\",\"Psychic\",\"Psychic\",\"Psychic\",\"Psychic\",\"Water\",\"Water\",\"Ice\",\"Ice\",\"Ice\",\"Normal\",\"Normal\",\"Electric\",\"Bug\",\"Bug\",\"Grass\",\"Grass\",\"Water\",\"Water\",\"Water\",\"Bug\",\"Bug\",\"Grass\",\"Grass\",\"Steel\",\"Steel\",\"Steel\",\"Electric\",\"Electric\",\"Electric\",\"Psychic\",\"Psychic\",\"Ghost\",\"Ghost\",\"Ghost\",\"Dragon\",\"Dragon\",\"Dragon\",\"Ice\",\"Ice\",\"Ice\",\"Bug\",\"Bug\",\"Ground\",\"Fighting\",\"Fighting\",\"Dragon\",\"Ground\",\"Ground\",\"Dark\",\"Dark\",\"Normal\",\"Normal\",\"Normal\",\"Dark\",\"Dark\",\"Fire\",\"Bug\",\"Dark\",\"Dark\",\"Dark\",\"Bug\",\"Bug\",\"Steel\",\"Rock\",\"Grass\",\"Flying\",\"Flying\",\"Electric\",\"Electric\",\"Dragon\",\"Dragon\",\"Ground\",\"Ground\",\"Dragon\",\"Dragon\",\"Dragon\",\"Water\",\"Water\",\"Normal\",\"Normal\",\"Bug\",\"Grass\",\"Grass\",\"Grass\",\"Fire\",\"Fire\",\"Fire\",\"Water\",\"Water\",\"Water\",\"Normal\",\"Normal\",\"Normal\",\"Fire\",\"Fire\",\"Bug\",\"Bug\",\"Bug\",\"Fire\",\"Fire\",\"Fairy\",\"Fairy\",\"Fairy\",\"Grass\",\"Grass\",\"Fighting\",\"Fighting\",\"Normal\",\"Psychic\",\"Psychic\",\"Psychic\",\"Steel\",\"Steel\",\"Steel\",\"Steel\",\"Fairy\",\"Fairy\",\"Fairy\",\"Fairy\",\"Dark\",\"Dark\",\"Rock\",\"Rock\",\"Poison\",\"Poison\",\"Water\",\"Water\",\"Electric\",\"Electric\",\"Rock\",\"Rock\",\"Rock\",\"Rock\",\"Fairy\",\"Fighting\",\"Electric\",\"Rock\",\"Dragon\",\"Dragon\",\"Dragon\",\"Steel\",\"Ghost\",\"Ghost\",\"Ghost\",\"Ghost\",\"Ghost\",\"Ghost\",\"Ghost\",\"Ghost\",\"Ghost\",\"Ghost\",\"Ice\",\"Ice\",\"Flying\",\"Flying\",\"Fairy\",\"Dark\",\"Dragon\",\"Rock\",\"Rock\",\"Psychic\",\"Psychic\",\"Fire\"],\"cluster\":[\"b\",\"b\",\"a\",\"a\",\"b\",\"b\",\"a\",\"a\",\"a\",\"b\",\"b\",\"a\",\"a\",\"b\",\"b\",\"b\",\"b\",\"b\",\"b\",\"a\",\"b\",\"b\",\"a\",\"a\",\"b\",\"b\",\"b\",\"a\",\"b\",\"a\",\"b\",\"a\",\"b\",\"a\",\"b\",\"b\",\"a\",\"b\",\"b\",\"a\",\"b\",\"a\",\"b\",\"a\",\"b\",\"a\",\"b\",\"a\",\"b\",\"b\",\"a\",\"b\",\"b\",\"b\",\"a\",\"b\",\"b\",\"b\",\"b\",\"b\",\"a\",\"b\",\"a\",\"b\",\"a\",\"b\",\"b\",\"a\",\"b\",\"b\",\"a\",\"a\",\"b\",\"b\",\"a\",\"b\",\"b\",\"a\",\"b\",\"a\",\"b\",\"b\",\"a\",\"b\",\"a\",\"b\",\"a\",\"a\",\"b\",\"a\",\"b\",\"b\",\"a\",\"b\",\"a\",\"b\",\"a\",\"b\",\"a\",\"b\",\"b\",\"a\",\"a\",\"b\",\"b\",\"a\",\"b\",\"a\",\"b\",\"a\",\"b\",\"a\",\"b\",\"b\",\"a\",\"a\",\"b\",\"b\",\"a\",\"b\",\"a\",\"a\",\"b\",\"a\",\"a\",\"b\",\"b\",\"b\",\"a\",\"b\",\"a\",\"a\",\"a\",\"a\",\"a\",\"a\",\"a\",\"a\",\"a\",\"b\",\"a\",\"a\",\"a\",\"b\",\"b\",\"a\",\"a\",\"a\",\"b\",\"b\",\"a\",\"b\",\"a\",\"a\",\"a\",\"a\",\"a\",\"a\",\"a\",\"b\",\"b\",\"a\",\"a\",\"a\",\"a\",\"a\",\"b\",\"b\",\"a\",\"b\",\"b\",\"a\",\"b\",\"b\",\"a\",\"b\",\"b\",\"b\",\"a\",\"b\",\"b\",\"b\",\"b\",\"a\",\"b\",\"a\",\"b\",\"b\",\"b\",\"b\",\"b\",\"b\",\"a\",\"b\",\"b\",\"a\",\"a\",\"a\",\"b\",\"b\",\"b\",\"a\",\"b\",\"b\",\"a\",\"b\",\"b\",\"a\",\"b\",\"b\",\"a\",\"a\",\"a\",\"b\",\"a\",\"a\",\"b\",\"b\",\"a\",\"b\",\"a\",\"b\",\"b\",\"a\",\"a\",\"b\",\"a\",\"b\",\"a\",\"a\",\"a\",\"a\",\"a\",\"b\",\"b\",\"a\",\"b\",\"b\",\"b\",\"a\",\"b\",\"b\",\"a\",\"b\",\"a\",\"a\",\"b\",\"a\",\"a\",\"a\",\"b\",\"a\",\"a\",\"a\",\"b\",\"b\",\"a\",\"b\",\"b\",\"b\",\"a\",\"a\",\"a\",\"a\",\"a\",\"b\",\"b\",\"a\",\"a\",\"a\",\"a\",\"a\",\"b\",\"b\",\"a\",\"a\",\"b\",\"b\",\"a\",\"a\",\"b\",\"b\",\"a\",\"a\",\"b\",\"b\",\"b\",\"b\",\"b\",\"b\",\"b\",\"b\",\"b\",\"b\",\"b\",\"a\",\"b\",\"b\",\"a\",\"b\",\"b\",\"b\",\"b\",\"b\",\"b\",\"a\",\"a\",\"b\",\"b\",\"b\",\"a\",\"b\",\"a\",\"a\",\"b\",\"a\",\"b\",\"b\",\"b\",\"a\",\"b\",\"a\",\"b\",\"b\",\"b\",\"b\",\"b\",\"a\",\"b\",\"a\",\"b\",\"b\",\"a\",\"a\",\"b\",\"b\",\"a\",\"b\",\"a\",\"a\",\"b\",\"b\",\"b\",\"b\",\"b\",\"b\",\"a\",\"b\",\"a\",\"a\",\"b\",\"a\",\"b\",\"a\",\"a\",\"a\",\"b\",\"a\",\"b\",\"b\",\"b\",\"a\",\"b\",\"a\",\"b\",\"a\",\"a\",\"a\",\"a\",\"a\",\"a\",\"b\",\"a\",\"b\",\"a\",\"b\",\"a\",\"b\",\"a\",\"b\",\"a\",\"b\",\"a\",\"b\",\"a\",\"b\",\"a\",\"a\",\"b\",\"a\",\"a\",\"b\",\"a\",\"a\",\"b\",\"b\",\"a\",\"a\",\"b\",\"b\",\"a\",\"b\",\"a\",\"a\",\"a\",\"b\",\"b\",\"b\",\"a\",\"a\",\"b\",\"b\",\"a\",\"a\",\"a\",\"a\",\"a\",\"a\",\"a\",\"a\",\"a\",\"a\",\"a\",\"a\",\"a\",\"a\",\"a\",\"a\",\"a\",\"a\",\"a\",\"a\",\"b\",\"b\",\"a\",\"b\",\"b\",\"a\",\"b\",\"b\",\"a\",\"b\",\"b\",\"a\",\"b\",\"b\",\"b\",\"b\",\"b\",\"b\",\"a\",\"b\",\"a\",\"b\",\"a\",\"b\",\"a\",\"b\",\"a\",\"b\",\"a\",\"b\",\"b\",\"a\",\"b\",\"b\",\"a\",\"b\",\"a\",\"b\",\"a\",\"a\",\"b\",\"a\",\"b\",\"a\",\"a\",\"a\",\"a\",\"b\",\"a\",\"b\",\"b\",\"a\",\"b\",\"a\",\"b\",\"b\",\"b\",\"b\",\"a\",\"b\",\"b\",\"a\",\"a\",\"b\",\"b\",\"a\",\"a\",\"b\",\"a\",\"b\",\"a\",\"b\",\"a\",\"a\",\"b\",\"a\",\"b\",\"b\",\"a\",\"a\",\"a\",\"a\",\"a\",\"a\",\"a\",\"a\",\"a\",\"a\",\"a\",\"a\",\"a\",\"a\",\"a\",\"a\",\"a\",\"a\",\"a\",\"a\",\"a\",\"a\",\"a\",\"a\",\"a\",\"a\",\"a\",\"a\",\"a\",\"a\",\"a\",\"a\",\"a\",\"a\",\"a\",\"a\",\"a\",\"a\",\"a\",\"a\",\"a\",\"a\",\"a\",\"a\",\"b\",\"b\",\"a\",\"b\",\"b\",\"a\",\"b\",\"b\",\"a\",\"b\",\"b\",\"b\",\"b\",\"a\",\"b\",\"a\",\"b\",\"a\",\"b\",\"a\",\"b\",\"a\",\"b\",\"a\",\"b\",\"b\",\"a\",\"b\",\"a\",\"b\",\"b\",\"a\",\"b\",\"b\",\"b\",\"a\",\"a\",\"a\",\"b\",\"b\",\"a\",\"b\",\"b\",\"a\",\"a\",\"a\",\"b\",\"b\",\"a\",\"b\",\"b\",\"a\",\"b\",\"a\",\"b\",\"a\",\"a\",\"b\",\"b\",\"a\",\"b\",\"a\",\"a\",\"a\",\"b\",\"a\",\"b\",\"a\",\"a\",\"b\",\"a\",\"b\",\"a\",\"b\",\"a\",\"b\",\"a\",\"b\",\"a\",\"b\",\"a\",\"b\",\"b\",\"a\",\"b\",\"b\",\"a\",\"b\",\"a\",\"b\",\"b\",\"a\",\"b\",\"a\",\"b\",\"b\",\"a\",\"b\",\"a\",\"b\",\"a\",\"a\",\"b\",\"a\",\"b\",\"a\",\"b\",\"a\",\"a\",\"b\",\"b\",\"a\",\"b\",\"a\",\"b\",\"b\",\"a\",\"b\",\"b\",\"a\",\"b\",\"a\",\"a\",\"b\",\"a\",\"a\",\"b\",\"a\",\"a\",\"b\",\"a\",\"b\",\"a\",\"a\",\"b\",\"a\",\"b\",\"a\",\"a\",\"a\",\"b\",\"b\",\"a\",\"b\",\"a\",\"a\",\"a\",\"a\",\"a\",\"a\",\"a\",\"a\",\"a\",\"a\",\"a\",\"a\",\"a\",\"a\",\"a\",\"a\",\"a\",\"a\",\"a\",\"a\",\"b\",\"b\",\"a\",\"b\",\"b\",\"a\",\"b\",\"b\",\"a\",\"b\",\"b\",\"b\",\"b\",\"a\",\"b\",\"b\",\"b\",\"b\",\"a\",\"b\",\"b\",\"a\",\"b\",\"a\",\"b\",\"a\",\"a\",\"b\",\"a\",\"a\",\"b\",\"a\",\"a\",\"a\",\"b\",\"a\",\"b\",\"a\",\"b\",\"a\",\"b\",\"a\",\"b\",\"a\",\"b\",\"a\",\"b\",\"a\",\"b\",\"a\",\"b\",\"a\",\"a\",\"a\",\"b\",\"a\",\"b\",\"a\",\"a\",\"a\",\"b\",\"a\",\"b\",\"b\",\"b\",\"b\",\"a\",\"a\",\"a\",\"a\",\"b\",\"a\",\"b\",\"a\",\"a\",\"a\",\"a\",\"a\",\"a\",\"a\",\"a\",\"a\"],\"x\":{\"__ndarray__\":\"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\",\"dtype\":\"float64\",\"shape\":[800]},\"y\":{\"__ndarray__\":\"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\",\"dtype\":\"float64\",\"shape\":[800]}},\"selected\":{\"id\":\"1240\",\"type\":\"Selection\"},\"selection_policy\":{\"id\":\"1239\",\"type\":\"UnionRenderers\"}},\"id\":\"1152\",\"type\":\"ColumnDataSource\"},{\"attributes\":{},\"id\":\"1173\",\"type\":\"CrosshairTool\"},{\"attributes\":{},\"id\":\"1181\",\"type\":\"ResetTool\"},{\"attributes\":{},\"id\":\"1160\",\"type\":\"LinearScale\"},{\"attributes\":{\"overlay\":{\"id\":\"1193\",\"type\":\"BoxAnnotation\"}},\"id\":\"1178\",\"type\":\"BoxZoomTool\"},{\"attributes\":{\"dimension\":1,\"plot\":{\"id\":\"1153\",\"subtype\":\"Figure\",\"type\":\"Plot\"},\"ticker\":{\"id\":\"1168\",\"type\":\"BasicTicker\"}},\"id\":\"1171\",\"type\":\"Grid\"},{\"attributes\":{\"fill_alpha\":{\"value\":0.5},\"fill_color\":{\"value\":\"lightgrey\"},\"level\":\"overlay\",\"line_alpha\":{\"value\":1.0},\"line_color\":{\"value\":\"black\"},\"line_dash\":[4,4],\"line_width\":{\"value\":2},\"plot\":null,\"xs_units\":\"screen\",\"ys_units\":\"screen\"},\"id\":\"1204\",\"type\":\"PolyAnnotation\"},{\"attributes\":{\"callback\":null,\"tooltips\":[[\"Type\",\"@Type1\"]]},\"id\":\"1172\",\"type\":\"HoverTool\"},{\"attributes\":{},\"id\":\"1179\",\"type\":\"UndoTool\"},{\"attributes\":{},\"id\":\"1231\",\"type\":\"BasicTickFormatter\"},{\"attributes\":{\"bottom_units\":\"screen\",\"fill_alpha\":{\"value\":0.5},\"fill_color\":{\"value\":\"lightgrey\"},\"left_units\":\"screen\",\"level\":\"overlay\",\"line_alpha\":{\"value\":1.0},\"line_color\":{\"value\":\"black\"},\"line_dash\":[4,4],\"line_width\":{\"value\":2},\"plot\":null,\"render_mode\":\"css\",\"right_units\":\"screen\",\"top_units\":\"screen\"},\"id\":\"1193\",\"type\":\"BoxAnnotation\"},{\"attributes\":{},\"id\":\"1163\",\"type\":\"BasicTicker\"},{\"attributes\":{\"active_drag\":\"auto\",\"active_inspect\":\"auto\",\"active_multi\":null,\"active_scroll\":\"auto\",\"active_tap\":\"auto\",\"tools\":[{\"id\":\"1172\",\"type\":\"HoverTool\"},{\"id\":\"1173\",\"type\":\"CrosshairTool\"},{\"id\":\"1174\",\"type\":\"PanTool\"},{\"id\":\"1175\",\"type\":\"WheelZoomTool\"},{\"id\":\"1176\",\"type\":\"ZoomInTool\"},{\"id\":\"1177\",\"type\":\"ZoomOutTool\"},{\"id\":\"1178\",\"type\":\"BoxZoomTool\"},{\"id\":\"1179\",\"type\":\"UndoTool\"},{\"id\":\"1180\",\"type\":\"RedoTool\"},{\"id\":\"1181\",\"type\":\"ResetTool\"},{\"id\":\"1182\",\"type\":\"TapTool\"},{\"id\":\"1183\",\"type\":\"SaveTool\"},{\"id\":\"1184\",\"type\":\"BoxSelectTool\"},{\"id\":\"1185\",\"type\":\"PolySelectTool\"},{\"id\":\"1186\",\"type\":\"LassoSelectTool\"}]},\"id\":\"1187\",\"type\":\"Toolbar\"},{\"attributes\":{\"fill_alpha\":{\"value\":0.5},\"fill_color\":{\"value\":\"lightgrey\"},\"level\":\"overlay\",\"line_alpha\":{\"value\":1.0},\"line_color\":{\"value\":\"black\"},\"line_dash\":[4,4],\"line_width\":{\"value\":2},\"plot\":null,\"xs_units\":\"screen\",\"ys_units\":\"screen\"},\"id\":\"1207\",\"type\":\"PolyAnnotation\"},{\"attributes\":{},\"id\":\"1176\",\"type\":\"ZoomInTool\"},{\"attributes\":{\"plot\":null,\"text\":\"\"},\"id\":\"1230\",\"type\":\"Title\"},{\"attributes\":{\"source\":{\"id\":\"1152\",\"type\":\"ColumnDataSource\"}},\"id\":\"1216\",\"type\":\"CDSView\"},{\"attributes\":{\"callback\":null},\"id\":\"1156\",\"type\":\"DataRange1d\"},{\"attributes\":{\"callback\":null},\"id\":\"1182\",\"type\":\"TapTool\"},{\"attributes\":{\"plot\":{\"id\":\"1153\",\"subtype\":\"Figure\",\"type\":\"Plot\"},\"ticker\":{\"id\":\"1163\",\"type\":\"BasicTicker\"}},\"id\":\"1166\",\"type\":\"Grid\"},{\"attributes\":{\"data_source\":{\"id\":\"1152\",\"type\":\"ColumnDataSource\"},\"glyph\":{\"id\":\"1213\",\"type\":\"Circle\"},\"hover_glyph\":null,\"muted_glyph\":null,\"nonselection_glyph\":{\"id\":\"1214\",\"type\":\"Circle\"},\"selection_glyph\":null,\"view\":{\"id\":\"1216\",\"type\":\"CDSView\"}},\"id\":\"1215\",\"type\":\"GlyphRenderer\"},{\"attributes\":{\"callback\":null,\"overlay\":{\"id\":\"1201\",\"type\":\"BoxAnnotation\"}},\"id\":\"1184\",\"type\":\"BoxSelectTool\"},{\"attributes\":{\"fill_alpha\":{\"value\":0.1},\"fill_color\":{\"value\":\"#1f77b4\"},\"line_alpha\":{\"value\":0.1},\"line_color\":{\"value\":\"#1f77b4\"},\"radius\":{\"units\":\"data\",\"value\":0.1},\"x\":{\"field\":\"x\"},\"y\":{\"field\":\"y\"}},\"id\":\"1214\",\"type\":\"Circle\"},{\"attributes\":{\"callback\":null,\"overlay\":{\"id\":\"1207\",\"type\":\"PolyAnnotation\"}},\"id\":\"1186\",\"type\":\"LassoSelectTool\"},{\"attributes\":{},\"id\":\"1183\",\"type\":\"SaveTool\"},{\"attributes\":{},\"id\":\"1168\",\"type\":\"BasicTicker\"},{\"attributes\":{},\"id\":\"1158\",\"type\":\"LinearScale\"},{\"attributes\":{\"bottom_units\":\"screen\",\"fill_alpha\":{\"value\":0.5},\"fill_color\":{\"value\":\"lightgrey\"},\"left_units\":\"screen\",\"level\":\"overlay\",\"line_alpha\":{\"value\":1.0},\"line_color\":{\"value\":\"black\"},\"line_dash\":[4,4],\"line_width\":{\"value\":2},\"plot\":null,\"render_mode\":\"css\",\"right_units\":\"screen\",\"top_units\":\"screen\"},\"id\":\"1201\",\"type\":\"BoxAnnotation\"},{\"attributes\":{\"fill_alpha\":{\"value\":0.8},\"fill_color\":{\"field\":\"cluster\",\"transform\":{\"id\":\"1151\",\"type\":\"CategoricalColorMapper\"}},\"line_color\":{\"value\":null},\"radius\":{\"units\":\"data\",\"value\":0.1},\"x\":{\"field\":\"x\"},\"y\":{\"field\":\"y\"}},\"id\":\"1213\",\"type\":\"Circle\"},{\"attributes\":{\"formatter\":{\"id\":\"1231\",\"type\":\"BasicTickFormatter\"},\"plot\":{\"id\":\"1153\",\"subtype\":\"Figure\",\"type\":\"Plot\"},\"ticker\":{\"id\":\"1163\",\"type\":\"BasicTicker\"}},\"id\":\"1162\",\"type\":\"LinearAxis\"},{\"attributes\":{},\"id\":\"1174\",\"type\":\"PanTool\"},{\"attributes\":{\"formatter\":{\"id\":\"1233\",\"type\":\"BasicTickFormatter\"},\"plot\":{\"id\":\"1153\",\"subtype\":\"Figure\",\"type\":\"Plot\"},\"ticker\":{\"id\":\"1168\",\"type\":\"BasicTicker\"}},\"id\":\"1167\",\"type\":\"LinearAxis\"},{\"attributes\":{},\"id\":\"1240\",\"type\":\"Selection\"},{\"attributes\":{},\"id\":\"1239\",\"type\":\"UnionRenderers\"},{\"attributes\":{\"factors\":[\"b\",\"a\"],\"palette\":[\"#3288bd\",\"#99d594\",\"#e6f598\",\"#fee08b\",\"#fc8d59\",\"#d53e4f\"]},\"id\":\"1151\",\"type\":\"CategoricalColorMapper\"},{\"attributes\":{},\"id\":\"1177\",\"type\":\"ZoomOutTool\"},{\"attributes\":{},\"id\":\"1175\",\"type\":\"WheelZoomTool\"}],\"root_ids\":[\"1153\"]},\"title\":\"Bokeh Application\",\"version\":\"1.0.4\"}};\n",
              "  var render_items = [{\"docid\":\"685fc9f7-adbe-4e08-be60-e8b1eceaeaec\",\"roots\":{\"1153\":\"f883eae3-057a-4e96-ba4a-8dfd8554cf2b\"}}];\n",
              "  root.Bokeh.embed.embed_items_notebook(docs_json, render_items);\n",
              "\n",
              "  }\n",
              "  if (root.Bokeh !== undefined) {\n",
              "    embed_document(root);\n",
              "  } else {\n",
              "    var attempts = 0;\n",
              "    var timer = setInterval(function(root) {\n",
              "      if (root.Bokeh !== undefined) {\n",
              "        embed_document(root);\n",
              "        clearInterval(timer);\n",
              "      }\n",
              "      attempts++;\n",
              "      if (attempts > 100) {\n",
              "        console.log(\"Bokeh: ERROR: Unable to run BokehJS code because BokehJS library is missing\");\n",
              "        clearInterval(timer);\n",
              "      }\n",
              "    }, 10, root)\n",
              "  }\n",
              "})(window);"
            ],
            "application/vnd.bokehjs_exec.v0+json": ""
          },
          "metadata": {
            "tags": [],
            "application/vnd.bokehjs_exec.v0+json": {
              "id": "1153"
            }
          }
        }
      ]
    },
    {
      "cell_type": "markdown",
      "metadata": {
        "id": "SyOZF2nP6bPG",
        "colab_type": "text"
      },
      "source": [
        "**Conclusion:** The interactive tool above provides an interactive visualization of the two clusters. Looking at my interactive visualization it provides an option to identifiy individual plots/pokemons."
      ]
    },
    {
      "cell_type": "markdown",
      "metadata": {
        "id": "u9xs2WKD7eH5",
        "colab_type": "text"
      },
      "source": [
        "# 2. Supervised ML"
      ]
    },
    {
      "cell_type": "markdown",
      "metadata": {
        "id": "7Hh6rNZD7isX",
        "colab_type": "text"
      },
      "source": [
        "***2a. Perform necessary ML preprocessing of your data if deemed necessary***"
      ]
    },
    {
      "cell_type": "markdown",
      "metadata": {
        "id": "hhm2UQjn8FRl",
        "colab_type": "text"
      },
      "source": [
        "**Conclusion:** As the data was scaled in the part with Unsupervised ML, there's no further need for preprocessing. "
      ]
    },
    {
      "cell_type": "markdown",
      "metadata": {
        "id": "yo4hntRT7oLA",
        "colab_type": "text"
      },
      "source": [
        "***2b. Split the data in a training (75%) and test (25%) dataset.***"
      ]
    },
    {
      "cell_type": "code",
      "metadata": {
        "id": "VEF2rnpX8Xjh",
        "colab_type": "code",
        "colab": {}
      },
      "source": [
        "# The module/expansions required to perform the split of the data is imported.\n",
        "from sklearn.model_selection import train_test_split"
      ],
      "execution_count": 0,
      "outputs": []
    },
    {
      "cell_type": "markdown",
      "metadata": {
        "id": "gaWH3MzTJHYL",
        "colab_type": "text"
      },
      "source": [
        "Here the dataframe is split into two parts; one consisting of 75% of the dataframe and one with 25%."
      ]
    },
    {
      "cell_type": "code",
      "metadata": {
        "id": "Yv-DqK2a9SZ3",
        "colab_type": "code",
        "colab": {}
      },
      "source": [
        "# The requirements to perform the split are specified.\n",
        "y = df_pokemon.Legendary \n",
        "\n",
        "X_train, X_test, y_train, y_test = train_test_split(df_pokemon_scaled, y, test_size=0.25, random_state=42)"
      ],
      "execution_count": 0,
      "outputs": []
    },
    {
      "cell_type": "markdown",
      "metadata": {
        "id": "CK9c-NYw9yhc",
        "colab_type": "text"
      },
      "source": [
        "**Conclusion:** The datasplit into training and test datasets has succesfully been performed."
      ]
    },
    {
      "cell_type": "markdown",
      "metadata": {
        "id": "5harAoFV7tuC",
        "colab_type": "text"
      },
      "source": [
        "***2c. Define a n-fold cross-validation workflow for your model testing.***"
      ]
    },
    {
      "cell_type": "code",
      "metadata": {
        "id": "9ZR2nMrv4rPm",
        "colab_type": "code",
        "colab": {}
      },
      "source": [
        "# Importing module/expansion\n",
        "from sklearn.model_selection import cross_val_score"
      ],
      "execution_count": 0,
      "outputs": []
    },
    {
      "cell_type": "markdown",
      "metadata": {
        "id": "Nd442OYx7wYF",
        "colab_type": "text"
      },
      "source": [
        "***2d. Fit three separate models on your training data, where you predict the “legendary” variable. Use a 1. Logistic regression, 2. Decision tree, and 3.\n",
        "another algorithm of choice to do so***"
      ]
    },
    {
      "cell_type": "markdown",
      "metadata": {
        "id": "MNQoXXZk41lz",
        "colab_type": "text"
      },
      "source": [
        "**1. Logistic regression**"
      ]
    },
    {
      "cell_type": "code",
      "metadata": {
        "id": "OhGjsQhG4y3J",
        "colab_type": "code",
        "colab": {}
      },
      "source": [
        "# Importing logistic Regression module/expansion.\n",
        "from sklearn.linear_model import LogisticRegression\n",
        "Model_1_LogReg = LogisticRegression()"
      ],
      "execution_count": 0,
      "outputs": []
    },
    {
      "cell_type": "code",
      "metadata": {
        "id": "HhsvofCW5mTo",
        "colab_type": "code",
        "outputId": "1b90d4a6-9b4e-4f3d-a06f-715916577291",
        "colab": {
          "base_uri": "https://localhost:8080/",
          "height": 170
        }
      },
      "source": [
        "# Splitting the variable into 4 parts for train and evaluation.\n",
        "LogReg_scores = cross_val_score(Model_1_LogReg, X_train, y_train, cv = 4)\n",
        "print(LogReg_scores)"
      ],
      "execution_count": 73,
      "outputs": [
        {
          "output_type": "stream",
          "text": [
            "[0.96666667 0.91333333 0.95333333 0.90666667]\n"
          ],
          "name": "stdout"
        },
        {
          "output_type": "stream",
          "text": [
            "/usr/local/lib/python3.6/dist-packages/sklearn/linear_model/logistic.py:432: FutureWarning: Default solver will be changed to 'lbfgs' in 0.22. Specify a solver to silence this warning.\n",
            "  FutureWarning)\n",
            "/usr/local/lib/python3.6/dist-packages/sklearn/linear_model/logistic.py:432: FutureWarning: Default solver will be changed to 'lbfgs' in 0.22. Specify a solver to silence this warning.\n",
            "  FutureWarning)\n",
            "/usr/local/lib/python3.6/dist-packages/sklearn/linear_model/logistic.py:432: FutureWarning: Default solver will be changed to 'lbfgs' in 0.22. Specify a solver to silence this warning.\n",
            "  FutureWarning)\n",
            "/usr/local/lib/python3.6/dist-packages/sklearn/linear_model/logistic.py:432: FutureWarning: Default solver will be changed to 'lbfgs' in 0.22. Specify a solver to silence this warning.\n",
            "  FutureWarning)\n"
          ],
          "name": "stderr"
        }
      ]
    },
    {
      "cell_type": "code",
      "metadata": {
        "id": "n-fFJ9zH6Bet",
        "colab_type": "code",
        "outputId": "a12881fc-1064-42de-cf49-6c38b61cc730",
        "colab": {
          "base_uri": "https://localhost:8080/",
          "height": 68
        }
      },
      "source": [
        "Model_1_LogReg.fit(X_train, y_train)\n",
        "print(Model_1_LogReg.score(X_test, y_test))"
      ],
      "execution_count": 74,
      "outputs": [
        {
          "output_type": "stream",
          "text": [
            "0.945\n"
          ],
          "name": "stdout"
        },
        {
          "output_type": "stream",
          "text": [
            "/usr/local/lib/python3.6/dist-packages/sklearn/linear_model/logistic.py:432: FutureWarning: Default solver will be changed to 'lbfgs' in 0.22. Specify a solver to silence this warning.\n",
            "  FutureWarning)\n"
          ],
          "name": "stderr"
        }
      ]
    },
    {
      "cell_type": "markdown",
      "metadata": {
        "id": "4OUYyOpH46Bb",
        "colab_type": "text"
      },
      "source": [
        "**2. Decision tree**"
      ]
    },
    {
      "cell_type": "code",
      "metadata": {
        "id": "AUP8RWI16PJL",
        "colab_type": "code",
        "colab": {}
      },
      "source": [
        "# Importing DecisionTree module/expansion.\n",
        "from sklearn.tree import DecisionTreeClassifier\n",
        "\n",
        "Model_2_DTree = DecisionTreeClassifier()"
      ],
      "execution_count": 0,
      "outputs": []
    },
    {
      "cell_type": "code",
      "metadata": {
        "id": "th3KK_wB7CTE",
        "colab_type": "code",
        "outputId": "e8dca2a3-cead-41d1-c203-af9e86e38835",
        "colab": {
          "base_uri": "https://localhost:8080/",
          "height": 34
        }
      },
      "source": [
        "# Splitting the variable into 4 parts for train and evaluation.\n",
        "DTree_scores = cross_val_score(Model_2_DTree, X_train, y_train, cv = 4)\n",
        "\n",
        "print(DTree_scores)"
      ],
      "execution_count": 76,
      "outputs": [
        {
          "output_type": "stream",
          "text": [
            "[0.94666667 0.92       0.92       0.92      ]\n"
          ],
          "name": "stdout"
        }
      ]
    },
    {
      "cell_type": "code",
      "metadata": {
        "id": "VDK8EcL-vMr0",
        "colab_type": "code",
        "outputId": "2fcef118-0cb6-41f6-bb42-b653f7775f63",
        "colab": {
          "base_uri": "https://localhost:8080/",
          "height": 34
        }
      },
      "source": [
        "Model_2_DTree.fit(X_train, y_train)\n",
        "print(Model_2_DTree.score(X_test, y_test))\n"
      ],
      "execution_count": 77,
      "outputs": [
        {
          "output_type": "stream",
          "text": [
            "0.92\n"
          ],
          "name": "stdout"
        }
      ]
    },
    {
      "cell_type": "markdown",
      "metadata": {
        "id": "KrB7WRxi46SE",
        "colab_type": "text"
      },
      "source": [
        "**3. XGBoost**"
      ]
    },
    {
      "cell_type": "code",
      "metadata": {
        "id": "SdvVL-jV7wS3",
        "colab_type": "code",
        "colab": {}
      },
      "source": [
        "# Imorting XGBoost module/expansion.\n",
        "import xgboost as xgb\n",
        "\n",
        "Model_3_Boost = xgb.XGBClassifier()"
      ],
      "execution_count": 0,
      "outputs": []
    },
    {
      "cell_type": "code",
      "metadata": {
        "id": "-d5XE4RF73Gy",
        "colab_type": "code",
        "outputId": "be16c604-af7c-4e35-b001-384c654914b0",
        "colab": {
          "base_uri": "https://localhost:8080/",
          "height": 34
        }
      },
      "source": [
        "# Splitting the variable into 4 parts for train and evaluation.\n",
        "Boost_scores = cross_val_score(Model_3_Boost, X_train, y_train, cv = 4)\n",
        "\n",
        "print(Boost_scores)"
      ],
      "execution_count": 79,
      "outputs": [
        {
          "output_type": "stream",
          "text": [
            "[0.94666667 0.93333333 0.96       0.96      ]\n"
          ],
          "name": "stdout"
        }
      ]
    },
    {
      "cell_type": "code",
      "metadata": {
        "id": "WO4aqXQWwFly",
        "colab_type": "code",
        "outputId": "a08ff084-abdb-4add-d8f9-8165a94f0b90",
        "colab": {
          "base_uri": "https://localhost:8080/",
          "height": 34
        }
      },
      "source": [
        "Model_3_Boost.fit(X_train, y_train)\n",
        "print(Model_3_Boost.score(X_test, y_test))"
      ],
      "execution_count": 80,
      "outputs": [
        {
          "output_type": "stream",
          "text": [
            "0.945\n"
          ],
          "name": "stdout"
        }
      ]
    },
    {
      "cell_type": "markdown",
      "metadata": {
        "id": "SpGFY35CSjzM",
        "colab_type": "text"
      },
      "source": [
        "**Conclusion:** As seen above the three models have been fitted. They have a high and similar output thus the models predicts very evenly. "
      ]
    },
    {
      "cell_type": "markdown",
      "metadata": {
        "id": "owq8VQKx721K",
        "colab_type": "text"
      },
      "source": [
        "***2e. Use the fitted models to predict the “legendary” variable in your test data.***"
      ]
    },
    {
      "cell_type": "markdown",
      "metadata": {
        "id": "89ZRNjK1pG_m",
        "colab_type": "text"
      },
      "source": [
        "**1. Logistic regression**"
      ]
    },
    {
      "cell_type": "code",
      "metadata": {
        "id": "wXFpRx61oMPE",
        "colab_type": "code",
        "outputId": "dfb7759c-eadf-4644-9a0f-3bbf4b05938b",
        "colab": {
          "base_uri": "https://localhost:8080/",
          "height": 170
        }
      },
      "source": [
        "# Importing classification report module/expansion.\n",
        "from sklearn.metrics import classification_report\n",
        "\n",
        "# Using the module to evaluate Logistic Regression.\n",
        "y_prediction_LogReg = Model_1_LogReg.predict(X_test)\n",
        "\n",
        "print(classification_report(y_test, y_prediction_LogReg))"
      ],
      "execution_count": 81,
      "outputs": [
        {
          "output_type": "stream",
          "text": [
            "              precision    recall  f1-score   support\n",
            "\n",
            "       False       0.98      0.96      0.97       187\n",
            "        True       0.56      0.69      0.62        13\n",
            "\n",
            "    accuracy                           0.94       200\n",
            "   macro avg       0.77      0.83      0.80       200\n",
            "weighted avg       0.95      0.94      0.95       200\n",
            "\n"
          ],
          "name": "stdout"
        }
      ]
    },
    {
      "cell_type": "markdown",
      "metadata": {
        "id": "G7j79U45pLIE",
        "colab_type": "text"
      },
      "source": [
        "**2. Decision tree**"
      ]
    },
    {
      "cell_type": "code",
      "metadata": {
        "id": "eCOvwIbupQIT",
        "colab_type": "code",
        "outputId": "ab6b3797-0297-4911-be0a-d10ac93ca0d3",
        "colab": {
          "base_uri": "https://localhost:8080/",
          "height": 170
        }
      },
      "source": [
        "# Using the module to evaluate DTree.\n",
        "y_prediction_DTree = Model_2_DTree.predict(X_test)\n",
        "\n",
        "print(classification_report(y_test, y_prediction_DTree))"
      ],
      "execution_count": 82,
      "outputs": [
        {
          "output_type": "stream",
          "text": [
            "              precision    recall  f1-score   support\n",
            "\n",
            "       False       0.96      0.95      0.96       187\n",
            "        True       0.40      0.46      0.43        13\n",
            "\n",
            "    accuracy                           0.92       200\n",
            "   macro avg       0.68      0.71      0.69       200\n",
            "weighted avg       0.93      0.92      0.92       200\n",
            "\n"
          ],
          "name": "stdout"
        }
      ]
    },
    {
      "cell_type": "markdown",
      "metadata": {
        "id": "bYgl3iaqpNdB",
        "colab_type": "text"
      },
      "source": [
        "**3. XGBoost**"
      ]
    },
    {
      "cell_type": "code",
      "metadata": {
        "id": "v1yr0UrjsIAo",
        "colab_type": "code",
        "outputId": "08c0a880-7124-44ee-911c-a21c97db82cd",
        "colab": {
          "base_uri": "https://localhost:8080/",
          "height": 170
        }
      },
      "source": [
        "# Using the module to evaluate XGBoost.\n",
        "y_prediction_boost = Model_3_Boost.predict(X_test)\n",
        "\n",
        "print(classification_report(y_test, y_prediction_boost))"
      ],
      "execution_count": 83,
      "outputs": [
        {
          "output_type": "stream",
          "text": [
            "              precision    recall  f1-score   support\n",
            "\n",
            "       False       0.97      0.97      0.97       187\n",
            "        True       0.58      0.54      0.56        13\n",
            "\n",
            "    accuracy                           0.94       200\n",
            "   macro avg       0.78      0.76      0.77       200\n",
            "weighted avg       0.94      0.94      0.94       200\n",
            "\n"
          ],
          "name": "stdout"
        }
      ]
    },
    {
      "cell_type": "markdown",
      "metadata": {
        "id": "1vvLfa2JT37w",
        "colab_type": "text"
      },
      "source": [
        "**Conclusion:** Comparing the three models they similarly predict 'false' very evenly. The clear difference between is when predicting to true; where Logistic regression and XGBoost are slightly superior than DTree."
      ]
    },
    {
      "cell_type": "markdown",
      "metadata": {
        "id": "Xb-OZxcD79ft",
        "colab_type": "text"
      },
      "source": [
        "***2f. Evaluate the performance of these 3 models by comparing the predicted and the\n",
        "true values of “legendary” in the test data. To do so, also create a confusion\n",
        "matrix.***"
      ]
    },
    {
      "cell_type": "code",
      "metadata": {
        "id": "qdD7uKItRSdm",
        "colab_type": "code",
        "colab": {
          "base_uri": "https://localhost:8080/",
          "height": 255
        },
        "outputId": "fff6e4ab-08d3-4203-ed63-9feef0474b06"
      },
      "source": [
        "!pip install -U mlxtend"
      ],
      "execution_count": 84,
      "outputs": [
        {
          "output_type": "stream",
          "text": [
            "Requirement already up-to-date: mlxtend in /usr/local/lib/python3.6/dist-packages (0.17.0)\n",
            "Requirement already satisfied, skipping upgrade: matplotlib>=3.0.0 in /usr/local/lib/python3.6/dist-packages (from mlxtend) (3.0.3)\n",
            "Requirement already satisfied, skipping upgrade: joblib>=0.13.2 in /usr/local/lib/python3.6/dist-packages (from mlxtend) (0.13.2)\n",
            "Requirement already satisfied, skipping upgrade: setuptools in /usr/local/lib/python3.6/dist-packages (from mlxtend) (41.2.0)\n",
            "Requirement already satisfied, skipping upgrade: scikit-learn>=0.20.3 in /usr/local/lib/python3.6/dist-packages (from mlxtend) (0.21.3)\n",
            "Requirement already satisfied, skipping upgrade: scipy>=1.2.1 in /usr/local/lib/python3.6/dist-packages (from mlxtend) (1.3.1)\n",
            "Requirement already satisfied, skipping upgrade: pandas>=0.24.2 in /usr/local/lib/python3.6/dist-packages (from mlxtend) (0.24.2)\n",
            "Requirement already satisfied, skipping upgrade: numpy>=1.16.2 in /usr/local/lib/python3.6/dist-packages (from mlxtend) (1.16.5)\n",
            "Requirement already satisfied, skipping upgrade: python-dateutil>=2.1 in /usr/local/lib/python3.6/dist-packages (from matplotlib>=3.0.0->mlxtend) (2.5.3)\n",
            "Requirement already satisfied, skipping upgrade: cycler>=0.10 in /usr/local/lib/python3.6/dist-packages (from matplotlib>=3.0.0->mlxtend) (0.10.0)\n",
            "Requirement already satisfied, skipping upgrade: kiwisolver>=1.0.1 in /usr/local/lib/python3.6/dist-packages (from matplotlib>=3.0.0->mlxtend) (1.1.0)\n",
            "Requirement already satisfied, skipping upgrade: pyparsing!=2.0.4,!=2.1.2,!=2.1.6,>=2.0.1 in /usr/local/lib/python3.6/dist-packages (from matplotlib>=3.0.0->mlxtend) (2.4.2)\n",
            "Requirement already satisfied, skipping upgrade: pytz>=2011k in /usr/local/lib/python3.6/dist-packages (from pandas>=0.24.2->mlxtend) (2018.9)\n",
            "Requirement already satisfied, skipping upgrade: six>=1.5 in /usr/local/lib/python3.6/dist-packages (from python-dateutil>=2.1->matplotlib>=3.0.0->mlxtend) (1.12.0)\n"
          ],
          "name": "stdout"
        }
      ]
    },
    {
      "cell_type": "code",
      "metadata": {
        "id": "vNdb_ETXwk_-",
        "colab_type": "code",
        "colab": {}
      },
      "source": [
        "from mlxtend.plotting import plot_confusion_matrix\n",
        "\n",
        "from sklearn.metrics import confusion_matrix"
      ],
      "execution_count": 0,
      "outputs": []
    },
    {
      "cell_type": "markdown",
      "metadata": {
        "id": "APjXnmqoxED6",
        "colab_type": "text"
      },
      "source": [
        "**1. Logistic regression**"
      ]
    },
    {
      "cell_type": "code",
      "metadata": {
        "id": "HkEgkX6hwlc-",
        "colab_type": "code",
        "outputId": "94769d56-7d2a-4cdd-f280-b5600a90d522",
        "colab": {
          "base_uri": "https://localhost:8080/",
          "height": 557
        }
      },
      "source": [
        "# Calculating confusion matrix.\n",
        "confmatrix = confusion_matrix(y_test, y_prediction_LogReg)\n",
        "\n",
        "# Plotting.\n",
        "plot_confusion_matrix(conf_mat=confmatrix,\n",
        "                      colorbar=True,\n",
        "                      show_absolute=True,\n",
        "                      show_normed=True)"
      ],
      "execution_count": 86,
      "outputs": [
        {
          "output_type": "execute_result",
          "data": {
            "text/plain": [
              "(<Figure size 842.4x595.44 with 2 Axes>,\n",
              " <matplotlib.axes._subplots.AxesSubplot at 0x7f3e31c66588>)"
            ]
          },
          "metadata": {
            "tags": []
          },
          "execution_count": 86
        },
        {
          "output_type": "display_data",
          "data": {
            "image/png": "[encoded data removed]",
            "text/plain": [
              "<Figure size 842.4x595.44 with 2 Axes>"
            ]
          },
          "metadata": {
            "tags": []
          }
        }
      ]
    },
    {
      "cell_type": "markdown",
      "metadata": {
        "id": "25nB4IB8xJ0m",
        "colab_type": "text"
      },
      "source": [
        "**2. Decision tree**"
      ]
    },
    {
      "cell_type": "code",
      "metadata": {
        "id": "a5pd-fVrxRZg",
        "colab_type": "code",
        "outputId": "6ef37488-33f4-42d9-eb9e-ec23eb57c40c",
        "colab": {
          "base_uri": "https://localhost:8080/",
          "height": 557
        }
      },
      "source": [
        "# Calculating confusion matrix.\n",
        "confmatrix = confusion_matrix(y_test, y_prediction_DTree)\n",
        "\n",
        "# Plotting.\n",
        "plot_confusion_matrix(conf_mat=confmatrix,\n",
        "                      colorbar=True,\n",
        "                      show_absolute=True,\n",
        "                      show_normed=True)"
      ],
      "execution_count": 87,
      "outputs": [
        {
          "output_type": "execute_result",
          "data": {
            "text/plain": [
              "(<Figure size 842.4x595.44 with 2 Axes>,\n",
              " <matplotlib.axes._subplots.AxesSubplot at 0x7f3e31c0ba20>)"
            ]
          },
          "metadata": {
            "tags": []
          },
          "execution_count": 87
        },
        {
          "output_type": "display_data",
          "data": {
            "image/png": "[encoded data removed]",
            "text/plain": [
              "<Figure size 842.4x595.44 with 2 Axes>"
            ]
          },
          "metadata": {
            "tags": []
          }
        }
      ]
    },
    {
      "cell_type": "markdown",
      "metadata": {
        "id": "yNvXAGULxKNd",
        "colab_type": "text"
      },
      "source": [
        "**3. XGBoost**"
      ]
    },
    {
      "cell_type": "code",
      "metadata": {
        "id": "9Slsv4CQxbOk",
        "colab_type": "code",
        "outputId": "c0bef29c-4dbe-41ee-ca53-b49f75574943",
        "colab": {
          "base_uri": "https://localhost:8080/",
          "height": 557
        }
      },
      "source": [
        "# Calculating confusion matrix.\n",
        "confmatrix = confusion_matrix(y_test, y_prediction_boost)\n",
        "\n",
        "# Plotting.\n",
        "plot_confusion_matrix(conf_mat=confmatrix,\n",
        "                      colorbar=True,\n",
        "                      show_absolute=True,\n",
        "                      show_normed=True)"
      ],
      "execution_count": 88,
      "outputs": [
        {
          "output_type": "execute_result",
          "data": {
            "text/plain": [
              "(<Figure size 842.4x595.44 with 2 Axes>,\n",
              " <matplotlib.axes._subplots.AxesSubplot at 0x7f3e31b7a198>)"
            ]
          },
          "metadata": {
            "tags": []
          },
          "execution_count": 88
        },
        {
          "output_type": "display_data",
          "data": {
            "image/png": "[encoded data removed]",
            "text/plain": [
              "<Figure size 842.4x595.44 with 2 Axes>"
            ]
          },
          "metadata": {
            "tags": []
          }
        }
      ]
    },
    {
      "cell_type": "markdown",
      "metadata": {
        "id": "REjGP95uVs84",
        "colab_type": "text"
      },
      "source": [
        "**Conclusion:** Comparing the three confusion matrixes for predicting true value 'legendary', it's clear to see that our models are best at identifying (0,0) = False, False. For (1,1) = True, True the best model is the logistical regression model. DTree and XGBoost are  similar in predicting True, True. "
      ]
    }
  ]
}