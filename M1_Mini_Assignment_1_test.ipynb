{
  "nbformat": 4,
  "nbformat_minor": 0,
  "metadata": {
    "colab": {
      "name": "M1 - Mini-Assignment 1.ipynb",
      "version": "0.3.2",
      "provenance": [],
      "collapsed_sections": [],
      "toc_visible": true,
      "include_colab_link": true
    },
    "kernelspec": {
      "name": "python3",
      "display_name": "Python 3"
    }
  },
  "cells": [
    {
      "cell_type": "markdown",
      "metadata": {
        "id": "view-in-github",
        "colab_type": "text"
      },
      "source": [
        "<a href=\"https://colab.research.google.com/github/pripster/hello-world/blob/master/M1_Mini_Assignment_1_test.ipynb\" target=\"_parent\"><img src=\"https://colab.research.google.com/assets/colab-badge.svg\" alt=\"Open In Colab\"/></a>"
      ]
    },
    {
      "cell_type": "markdown",
      "metadata": {
        "id": "Jpqb1SFNS7Pk",
        "colab_type": "text"
      },
      "source": [
        "Link to viewable colab: https://colab.research.google.com/drive/11KzwsyNOwz3kkRvG8NgWBy_w30b-CX0J"
      ]
    },
    {
      "cell_type": "markdown",
      "metadata": {
        "id": "1Q5zMf9BZTpI",
        "colab_type": "text"
      },
      "source": [
        "## M1 - Mini-Assignment 1"
      ]
    },
    {
      "cell_type": "markdown",
      "metadata": {
        "id": "9DPFt3faz6Kc",
        "colab_type": "text"
      },
      "source": [
        "Importing pandas and numpy as we are going to use them for this assignment"
      ]
    },
    {
      "cell_type": "code",
      "metadata": {
        "id": "hETZpRK9bggI",
        "colab_type": "code",
        "colab": {}
      },
      "source": [
        "import pandas as pd"
      ],
      "execution_count": 0,
      "outputs": []
    },
    {
      "cell_type": "code",
      "metadata": {
        "id": "lKuxF5U59ZDI",
        "colab_type": "code",
        "colab": {}
      },
      "source": [
        "import numpy as np"
      ],
      "execution_count": 0,
      "outputs": []
    },
    {
      "cell_type": "markdown",
      "metadata": {
        "id": "ChlQpQJBbq7b",
        "colab_type": "text"
      },
      "source": [
        "Importing the provided data"
      ]
    },
    {
      "cell_type": "code",
      "metadata": {
        "id": "Dfg4HyNVb1BZ",
        "colab_type": "code",
        "outputId": "27d039e9-c409-4741-850e-f17dcc8c1cc3",
        "colab": {
          "base_uri": "https://localhost:8080/",
          "height": 309
        }
      },
      "source": [
        "# Initially we want to import our datasets. In order to this as simply as possible use !wget command in combination with the provided URLs.\n",
        "\n",
        "!wget https://github.com/SDS-AAU/M1-2019/raw/master/data/trips.csv"
      ],
      "execution_count": 0,
      "outputs": [
        {
          "output_type": "stream",
          "text": [
            "--2019-09-10 14:21:08--  https://github.com/SDS-AAU/M1-2019/raw/master/data/trips.csv\n",
            "Resolving github.com (github.com)... 140.82.118.4\n",
            "Connecting to github.com (github.com)|140.82.118.4|:443... connected.\n",
            "HTTP request sent, awaiting response... 302 Found\n",
            "Location: https://raw.githubusercontent.com/SDS-AAU/M1-2019/master/data/trips.csv [following]\n",
            "--2019-09-10 14:21:09--  https://raw.githubusercontent.com/SDS-AAU/M1-2019/master/data/trips.csv\n",
            "Resolving raw.githubusercontent.com (raw.githubusercontent.com)... 151.101.0.133, 151.101.64.133, 151.101.128.133, ...\n",
            "Connecting to raw.githubusercontent.com (raw.githubusercontent.com)|151.101.0.133|:443... connected.\n",
            "HTTP request sent, awaiting response... 200 OK\n",
            "Length: 4373125 (4.2M) [text/plain]\n",
            "Saving to: ‘trips.csv’\n",
            "\n",
            "trips.csv           100%[===================>]   4.17M  --.-KB/s    in 0.09s   \n",
            "\n",
            "2019-09-10 14:21:09 (44.5 MB/s) - ‘trips.csv’ saved [4373125/4373125]\n",
            "\n"
          ],
          "name": "stdout"
        }
      ]
    },
    {
      "cell_type": "code",
      "metadata": {
        "id": "DWGnnQKRb7Pd",
        "colab_type": "code",
        "outputId": "1ef61b62-9770-4915-f322-00d2b1a25d07",
        "colab": {
          "base_uri": "https://localhost:8080/",
          "height": 309
        }
      },
      "source": [
        "# The same step is repeated for the people.csv dataset\n",
        "\n",
        "!wget https://github.com/SDS-AAU/M1-2019/raw/master/data/people.csv"
      ],
      "execution_count": 0,
      "outputs": [
        {
          "output_type": "stream",
          "text": [
            "--2019-09-10 14:21:12--  https://github.com/SDS-AAU/M1-2019/raw/master/data/people.csv\n",
            "Resolving github.com (github.com)... 140.82.118.4\n",
            "Connecting to github.com (github.com)|140.82.118.4|:443... connected.\n",
            "HTTP request sent, awaiting response... 302 Found\n",
            "Location: https://raw.githubusercontent.com/SDS-AAU/M1-2019/master/data/people.csv [following]\n",
            "--2019-09-10 14:21:12--  https://raw.githubusercontent.com/SDS-AAU/M1-2019/master/data/people.csv\n",
            "Resolving raw.githubusercontent.com (raw.githubusercontent.com)... 151.101.0.133, 151.101.64.133, 151.101.128.133, ...\n",
            "Connecting to raw.githubusercontent.com (raw.githubusercontent.com)|151.101.0.133|:443... connected.\n",
            "HTTP request sent, awaiting response... 200 OK\n",
            "Length: 142179 (139K) [text/plain]\n",
            "Saving to: ‘people.csv’\n",
            "\n",
            "\rpeople.csv            0%[                    ]       0  --.-KB/s               \rpeople.csv          100%[===================>] 138.85K  --.-KB/s    in 0.01s   \n",
            "\n",
            "2019-09-10 14:21:12 (12.4 MB/s) - ‘people.csv’ saved [142179/142179]\n",
            "\n"
          ],
          "name": "stdout"
        }
      ]
    },
    {
      "cell_type": "code",
      "metadata": {
        "id": "7tyDfmh2b7a_",
        "colab_type": "code",
        "outputId": "4e7e4506-f9fb-438c-8848-90c113e351f1",
        "colab": {
          "base_uri": "https://localhost:8080/",
          "height": 309
        }
      },
      "source": [
        "# And finally the countrylist.csv dataset\n",
        "\n",
        "!wget https://github.com/SDS-AAU/M1-2019/raw/master/data/countrylist.csv"
      ],
      "execution_count": 0,
      "outputs": [
        {
          "output_type": "stream",
          "text": [
            "--2019-09-10 14:21:14--  https://github.com/SDS-AAU/M1-2019/raw/master/data/countrylist.csv\n",
            "Resolving github.com (github.com)... 140.82.118.4\n",
            "Connecting to github.com (github.com)|140.82.118.4|:443... connected.\n",
            "HTTP request sent, awaiting response... 302 Found\n",
            "Location: https://raw.githubusercontent.com/SDS-AAU/M1-2019/master/data/countrylist.csv [following]\n",
            "--2019-09-10 14:21:14--  https://raw.githubusercontent.com/SDS-AAU/M1-2019/master/data/countrylist.csv\n",
            "Resolving raw.githubusercontent.com (raw.githubusercontent.com)... 151.101.0.133, 151.101.64.133, 151.101.128.133, ...\n",
            "Connecting to raw.githubusercontent.com (raw.githubusercontent.com)|151.101.0.133|:443... connected.\n",
            "HTTP request sent, awaiting response... 200 OK\n",
            "Length: 7347 (7.2K) [text/plain]\n",
            "Saving to: ‘countrylist.csv’\n",
            "\n",
            "\rcountrylist.csv       0%[                    ]       0  --.-KB/s               \rcountrylist.csv     100%[===================>]   7.17K  --.-KB/s    in 0s      \n",
            "\n",
            "2019-09-10 14:21:14 (145 MB/s) - ‘countrylist.csv’ saved [7347/7347]\n",
            "\n"
          ],
          "name": "stdout"
        }
      ]
    },
    {
      "cell_type": "code",
      "metadata": {
        "id": "57dxtlfPbs8J",
        "colab_type": "code",
        "colab": {}
      },
      "source": [
        "# Rather than working with the appbriviation pd is a convention. We also load the data using pandas's read_csv command. Pandas will try to infer the appropriate datatypes for all columns. We set the low_memory argument to False, which is often done in cases with possible mixed datatypes. \n",
        "\n",
        "df_trips = pd.read_csv('trips.csv', low_memory=False)\n",
        "\n",
        "# Importing people data naming it people\n",
        "\n",
        "df_people = pd.read_csv('people.csv', low_memory=False)\n",
        "\n",
        "# Importing countrylist data naming it countrylist\n",
        "\n",
        "df_countrylist = pd.read_csv('countrylist.csv', low_memory=False)"
      ],
      "execution_count": 0,
      "outputs": []
    },
    {
      "cell_type": "code",
      "metadata": {
        "id": "yhYy0k7PfU0c",
        "colab_type": "code",
        "outputId": "fbb7a6e2-df44-4447-b5f4-0df4af8b8663",
        "colab": {
          "base_uri": "https://localhost:8080/",
          "height": 326
        }
      },
      "source": [
        "# We want to verify that data has been loaded correctly for the file trips.csv. Thus we use the .head() command data to display a section of the data.\n",
        "\n",
        "df_trips.head()"
      ],
      "execution_count": 0,
      "outputs": [
        {
          "output_type": "execute_result",
          "data": {
            "text/html": [
              "<div>\n",
              "<style scoped>\n",
              "    .dataframe tbody tr th:only-of-type {\n",
              "        vertical-align: middle;\n",
              "    }\n",
              "\n",
              "    .dataframe tbody tr th {\n",
              "        vertical-align: top;\n",
              "    }\n",
              "\n",
              "    .dataframe thead th {\n",
              "        text-align: right;\n",
              "    }\n",
              "</style>\n",
              "<table border=\"1\" class=\"dataframe\">\n",
              "  <thead>\n",
              "    <tr style=\"text-align: right;\">\n",
              "      <th></th>\n",
              "      <th>Unnamed: 0</th>\n",
              "      <th>username</th>\n",
              "      <th>country</th>\n",
              "      <th>country_code</th>\n",
              "      <th>country_slug</th>\n",
              "      <th>date_end</th>\n",
              "      <th>date_start</th>\n",
              "      <th>latitude</th>\n",
              "      <th>longitude</th>\n",
              "      <th>place</th>\n",
              "      <th>place_slug</th>\n",
              "    </tr>\n",
              "  </thead>\n",
              "  <tbody>\n",
              "    <tr>\n",
              "      <th>0</th>\n",
              "      <td>0</td>\n",
              "      <td>@lewellenmichael</td>\n",
              "      <td>Mexico</td>\n",
              "      <td>MX</td>\n",
              "      <td>mexico</td>\n",
              "      <td>2018-06-15</td>\n",
              "      <td>2018-06-04</td>\n",
              "      <td>21</td>\n",
              "      <td>-101</td>\n",
              "      <td>Guanajuato</td>\n",
              "      <td>mexico</td>\n",
              "    </tr>\n",
              "    <tr>\n",
              "      <th>1</th>\n",
              "      <td>1</td>\n",
              "      <td>@lewellenmichael</td>\n",
              "      <td>Mexico</td>\n",
              "      <td>MX</td>\n",
              "      <td>mexico</td>\n",
              "      <td>2018-06-03</td>\n",
              "      <td>2018-05-31</td>\n",
              "      <td>19</td>\n",
              "      <td>-99</td>\n",
              "      <td>Mexico City</td>\n",
              "      <td>mexico-city-mexico</td>\n",
              "    </tr>\n",
              "    <tr>\n",
              "      <th>2</th>\n",
              "      <td>2</td>\n",
              "      <td>@lewellenmichael</td>\n",
              "      <td>Mexico</td>\n",
              "      <td>MX</td>\n",
              "      <td>mexico</td>\n",
              "      <td>2017-11-05</td>\n",
              "      <td>2017-11-01</td>\n",
              "      <td>21</td>\n",
              "      <td>-86</td>\n",
              "      <td>Cancun</td>\n",
              "      <td>cancun-mexico</td>\n",
              "    </tr>\n",
              "    <tr>\n",
              "      <th>3</th>\n",
              "      <td>3</td>\n",
              "      <td>@lewellenmichael</td>\n",
              "      <td>Jordan</td>\n",
              "      <td>JO</td>\n",
              "      <td>jordan</td>\n",
              "      <td>2017-08-07</td>\n",
              "      <td>2017-07-24</td>\n",
              "      <td>31</td>\n",
              "      <td>35</td>\n",
              "      <td>Amman</td>\n",
              "      <td>amman-jordan</td>\n",
              "    </tr>\n",
              "    <tr>\n",
              "      <th>4</th>\n",
              "      <td>4</td>\n",
              "      <td>@waylandchin</td>\n",
              "      <td>China</td>\n",
              "      <td>CN</td>\n",
              "      <td>china</td>\n",
              "      <td>2017-03-18</td>\n",
              "      <td>2017-02-17</td>\n",
              "      <td>40</td>\n",
              "      <td>122</td>\n",
              "      <td>Yingkou</td>\n",
              "      <td>china</td>\n",
              "    </tr>\n",
              "  </tbody>\n",
              "</table>\n",
              "</div>"
            ],
            "text/plain": [
              "   Unnamed: 0          username  ...        place          place_slug\n",
              "0           0  @lewellenmichael  ...   Guanajuato              mexico\n",
              "1           1  @lewellenmichael  ...  Mexico City  mexico-city-mexico\n",
              "2           2  @lewellenmichael  ...       Cancun       cancun-mexico\n",
              "3           3  @lewellenmichael  ...        Amman        amman-jordan\n",
              "4           4      @waylandchin  ...      Yingkou               china\n",
              "\n",
              "[5 rows x 11 columns]"
            ]
          },
          "metadata": {
            "tags": []
          },
          "execution_count": 9
        }
      ]
    },
    {
      "cell_type": "code",
      "metadata": {
        "id": "LMAh2pnwfW_b",
        "colab_type": "code",
        "outputId": "43e77606-cfa2-4403-f242-1cf1aae6e234",
        "colab": {
          "base_uri": "https://localhost:8080/",
          "height": 289
        }
      },
      "source": [
        "# The .info() command tells us how many observations we have in each column and as stated below we have some missing observations which we'll have to look into later.  The brackets displays that we have 46510 rows and 11 columns as depicted below.\n",
        "\n",
        "df_trips.info()"
      ],
      "execution_count": 0,
      "outputs": [
        {
          "output_type": "stream",
          "text": [
            "<class 'pandas.core.frame.DataFrame'>\n",
            "RangeIndex: 46510 entries, 0 to 46509\n",
            "Data columns (total 11 columns):\n",
            "Unnamed: 0      46510 non-null int64\n",
            "username        46510 non-null object\n",
            "country         46473 non-null object\n",
            "country_code    45909 non-null object\n",
            "country_slug    46473 non-null object\n",
            "date_end        46335 non-null object\n",
            "date_start      46510 non-null object\n",
            "latitude        46510 non-null int64\n",
            "longitude       46510 non-null int64\n",
            "place           46510 non-null object\n",
            "place_slug      46473 non-null object\n",
            "dtypes: int64(3), object(8)\n",
            "memory usage: 3.9+ MB\n"
          ],
          "name": "stdout"
        }
      ]
    },
    {
      "cell_type": "code",
      "metadata": {
        "id": "tCDtCCVZfcNG",
        "colab_type": "code",
        "outputId": "464095e0-e92c-4434-ebe9-171ee587bb6e",
        "colab": {
          "base_uri": "https://localhost:8080/",
          "height": 238
        }
      },
      "source": [
        "# The same goes for our file people.csv\n",
        "\n",
        "df_people.head()"
      ],
      "execution_count": 0,
      "outputs": [
        {
          "output_type": "execute_result",
          "data": {
            "text/html": [
              "<div>\n",
              "<style scoped>\n",
              "    .dataframe tbody tr th:only-of-type {\n",
              "        vertical-align: middle;\n",
              "    }\n",
              "\n",
              "    .dataframe tbody tr th {\n",
              "        vertical-align: top;\n",
              "    }\n",
              "\n",
              "    .dataframe thead th {\n",
              "        text-align: right;\n",
              "    }\n",
              "</style>\n",
              "<table border=\"1\" class=\"dataframe\">\n",
              "  <thead>\n",
              "    <tr style=\"text-align: right;\">\n",
              "      <th></th>\n",
              "      <th>Unnamed: 0</th>\n",
              "      <th>username</th>\n",
              "      <th>followers</th>\n",
              "      <th>following</th>\n",
              "      <th>work_raw</th>\n",
              "      <th>education_raw</th>\n",
              "    </tr>\n",
              "  </thead>\n",
              "  <tbody>\n",
              "    <tr>\n",
              "      <th>0</th>\n",
              "      <td>0</td>\n",
              "      <td>@lewellenmichael</td>\n",
              "      <td>1</td>\n",
              "      <td>2</td>\n",
              "      <td>Software Dev, Startup Founder, Finance, Crypto...</td>\n",
              "      <td>High School, Bachelor's Degree</td>\n",
              "    </tr>\n",
              "    <tr>\n",
              "      <th>1</th>\n",
              "      <td>1</td>\n",
              "      <td>@waylandchin</td>\n",
              "      <td>0</td>\n",
              "      <td>2</td>\n",
              "      <td>NaN</td>\n",
              "      <td>NaN</td>\n",
              "    </tr>\n",
              "    <tr>\n",
              "      <th>2</th>\n",
              "      <td>2</td>\n",
              "      <td>@karan</td>\n",
              "      <td>2</td>\n",
              "      <td>1</td>\n",
              "      <td>NaN</td>\n",
              "      <td>NaN</td>\n",
              "    </tr>\n",
              "    <tr>\n",
              "      <th>3</th>\n",
              "      <td>3</td>\n",
              "      <td>@skaboss217</td>\n",
              "      <td>0</td>\n",
              "      <td>1</td>\n",
              "      <td>NaN</td>\n",
              "      <td>NaN</td>\n",
              "    </tr>\n",
              "    <tr>\n",
              "      <th>4</th>\n",
              "      <td>4</td>\n",
              "      <td>@apwn</td>\n",
              "      <td>17</td>\n",
              "      <td>426</td>\n",
              "      <td>Web Dev</td>\n",
              "      <td>NaN</td>\n",
              "    </tr>\n",
              "  </tbody>\n",
              "</table>\n",
              "</div>"
            ],
            "text/plain": [
              "   Unnamed: 0  ...                   education_raw\n",
              "0           0  ...  High School, Bachelor's Degree\n",
              "1           1  ...                             NaN\n",
              "2           2  ...                             NaN\n",
              "3           3  ...                             NaN\n",
              "4           4  ...                             NaN\n",
              "\n",
              "[5 rows x 6 columns]"
            ]
          },
          "metadata": {
            "tags": []
          },
          "execution_count": 11
        }
      ]
    },
    {
      "cell_type": "code",
      "metadata": {
        "id": "6UtpxqPBfcYe",
        "colab_type": "code",
        "outputId": "19cf1020-4e30-469b-a490-e39caee04781",
        "colab": {
          "base_uri": "https://localhost:8080/",
          "height": 204
        }
      },
      "source": [
        "df_people.info()"
      ],
      "execution_count": 0,
      "outputs": [
        {
          "output_type": "stream",
          "text": [
            "<class 'pandas.core.frame.DataFrame'>\n",
            "RangeIndex: 4016 entries, 0 to 4015\n",
            "Data columns (total 6 columns):\n",
            "Unnamed: 0       4016 non-null int64\n",
            "username         4016 non-null object\n",
            "followers        4016 non-null int64\n",
            "following        4016 non-null int64\n",
            "work_raw         1582 non-null object\n",
            "education_raw    451 non-null object\n",
            "dtypes: int64(3), object(3)\n",
            "memory usage: 188.3+ KB\n"
          ],
          "name": "stdout"
        }
      ]
    },
    {
      "cell_type": "code",
      "metadata": {
        "id": "sbf9mt_PfiS4",
        "colab_type": "code",
        "outputId": "4fe750cc-c8b0-460f-f67e-c45aea5b53f9",
        "colab": {
          "base_uri": "https://localhost:8080/",
          "height": 204
        }
      },
      "source": [
        "# The same goes for our file countrylist.csv\n",
        "\n",
        "df_countrylist.head()"
      ],
      "execution_count": 0,
      "outputs": [
        {
          "output_type": "execute_result",
          "data": {
            "text/html": [
              "<div>\n",
              "<style scoped>\n",
              "    .dataframe tbody tr th:only-of-type {\n",
              "        vertical-align: middle;\n",
              "    }\n",
              "\n",
              "    .dataframe tbody tr th {\n",
              "        vertical-align: top;\n",
              "    }\n",
              "\n",
              "    .dataframe thead th {\n",
              "        text-align: right;\n",
              "    }\n",
              "</style>\n",
              "<table border=\"1\" class=\"dataframe\">\n",
              "  <thead>\n",
              "    <tr style=\"text-align: right;\">\n",
              "      <th></th>\n",
              "      <th>alpha_2</th>\n",
              "      <th>region</th>\n",
              "      <th>sub_region</th>\n",
              "    </tr>\n",
              "  </thead>\n",
              "  <tbody>\n",
              "    <tr>\n",
              "      <th>0</th>\n",
              "      <td>AF</td>\n",
              "      <td>Asia</td>\n",
              "      <td>Southern Asia</td>\n",
              "    </tr>\n",
              "    <tr>\n",
              "      <th>1</th>\n",
              "      <td>AX</td>\n",
              "      <td>Europe</td>\n",
              "      <td>Northern Europe</td>\n",
              "    </tr>\n",
              "    <tr>\n",
              "      <th>2</th>\n",
              "      <td>AL</td>\n",
              "      <td>Europe</td>\n",
              "      <td>Southern Europe</td>\n",
              "    </tr>\n",
              "    <tr>\n",
              "      <th>3</th>\n",
              "      <td>DZ</td>\n",
              "      <td>Africa</td>\n",
              "      <td>Northern Africa</td>\n",
              "    </tr>\n",
              "    <tr>\n",
              "      <th>4</th>\n",
              "      <td>AS</td>\n",
              "      <td>Oceania</td>\n",
              "      <td>Polynesia</td>\n",
              "    </tr>\n",
              "  </tbody>\n",
              "</table>\n",
              "</div>"
            ],
            "text/plain": [
              "  alpha_2   region       sub_region\n",
              "0      AF     Asia    Southern Asia\n",
              "1      AX   Europe  Northern Europe\n",
              "2      AL   Europe  Southern Europe\n",
              "3      DZ   Africa  Northern Africa\n",
              "4      AS  Oceania        Polynesia"
            ]
          },
          "metadata": {
            "tags": []
          },
          "execution_count": 13
        }
      ]
    },
    {
      "cell_type": "code",
      "metadata": {
        "id": "gAPXHnCsfiYY",
        "colab_type": "code",
        "outputId": "0a6a23a7-d5e5-4aaa-d9d7-c542096d2799",
        "colab": {
          "base_uri": "https://localhost:8080/",
          "height": 153
        }
      },
      "source": [
        "df_countrylist.info()"
      ],
      "execution_count": 0,
      "outputs": [
        {
          "output_type": "stream",
          "text": [
            "<class 'pandas.core.frame.DataFrame'>\n",
            "RangeIndex: 249 entries, 0 to 248\n",
            "Data columns (total 3 columns):\n",
            "alpha_2       248 non-null object\n",
            "region        248 non-null object\n",
            "sub_region    248 non-null object\n",
            "dtypes: object(3)\n",
            "memory usage: 5.9+ KB\n"
          ],
          "name": "stdout"
        }
      ]
    },
    {
      "cell_type": "markdown",
      "metadata": {
        "id": "lBhl0LMnhO3O",
        "colab_type": "text"
      },
      "source": [
        "# Exercise 1: Preprocessing"
      ]
    },
    {
      "cell_type": "markdown",
      "metadata": {
        "id": "HdttgYKuf7vf",
        "colab_type": "text"
      },
      "source": [
        "# a. Trips: transform dates into timestamps (note: in Python, you will have to ‘coerce’ errors forfaulty dates)"
      ]
    },
    {
      "cell_type": "code",
      "metadata": {
        "id": "xtMut7RVj6GN",
        "colab_type": "code",
        "outputId": "a9eaac2f-ad00-45b4-a1bd-40c6d07607f0",
        "colab": {
          "base_uri": "https://localhost:8080/",
          "height": 221
        }
      },
      "source": [
        "# In order to inspect the data for missing values we use the following command:\n",
        "\n",
        "df_trips.isnull().sum()"
      ],
      "execution_count": 0,
      "outputs": [
        {
          "output_type": "execute_result",
          "data": {
            "text/plain": [
              "Unnamed: 0        0\n",
              "username          0\n",
              "country          37\n",
              "country_code    601\n",
              "country_slug     37\n",
              "date_end        175\n",
              "date_start        0\n",
              "latitude          0\n",
              "longitude         0\n",
              "place             0\n",
              "place_slug       37\n",
              "dtype: int64"
            ]
          },
          "metadata": {
            "tags": []
          },
          "execution_count": 15
        }
      ]
    },
    {
      "cell_type": "code",
      "metadata": {
        "id": "g9x73rAlkWxg",
        "colab_type": "code",
        "colab": {}
      },
      "source": [
        "# We drop all the rows where we have false values/missing data for the data start and end date.\n",
        "df_trips.dropna(subset=['date_start', 'date_end'], inplace=True)"
      ],
      "execution_count": 0,
      "outputs": []
    },
    {
      "cell_type": "code",
      "metadata": {
        "id": "lR9QTiuhjlVb",
        "colab_type": "code",
        "outputId": "7dfa8a0e-788d-4338-87c7-13d40e32f092",
        "colab": {
          "base_uri": "https://localhost:8080/",
          "height": 289
        }
      },
      "source": [
        "# We use the .head() to verify that the previous command used removed the unwanted datepoints.\n",
        "df_trips.info()"
      ],
      "execution_count": 0,
      "outputs": [
        {
          "output_type": "stream",
          "text": [
            "<class 'pandas.core.frame.DataFrame'>\n",
            "Int64Index: 46335 entries, 0 to 46509\n",
            "Data columns (total 11 columns):\n",
            "Unnamed: 0      46335 non-null int64\n",
            "username        46335 non-null object\n",
            "country         46298 non-null object\n",
            "country_code    45736 non-null object\n",
            "country_slug    46298 non-null object\n",
            "date_end        46335 non-null object\n",
            "date_start      46335 non-null object\n",
            "latitude        46335 non-null int64\n",
            "longitude       46335 non-null int64\n",
            "place           46335 non-null object\n",
            "place_slug      46298 non-null object\n",
            "dtypes: int64(3), object(8)\n",
            "memory usage: 4.2+ MB\n"
          ],
          "name": "stdout"
        }
      ]
    },
    {
      "cell_type": "code",
      "metadata": {
        "id": "DmxcfyWrzk6-",
        "colab_type": "code",
        "outputId": "00b8ae59-7c5b-4575-c2f7-354b39b63479",
        "colab": {
          "base_uri": "https://localhost:8080/",
          "height": 289
        }
      },
      "source": [
        "# In order to change our data from objects to timestamp we use the pd.to_datetime command as depicted below. \n",
        "df_trips['date_start'] = pd.to_datetime(df_trips['date_start'], format='%Y-%m-%d', errors='coerce')\n",
        "df_trips['date_end'] = pd.to_datetime(df_trips['date_end'], format='%Y-%m-%d', errors='coerce')\n",
        "df_trips.info()"
      ],
      "execution_count": 0,
      "outputs": [
        {
          "output_type": "stream",
          "text": [
            "<class 'pandas.core.frame.DataFrame'>\n",
            "Int64Index: 46335 entries, 0 to 46509\n",
            "Data columns (total 11 columns):\n",
            "Unnamed: 0      46335 non-null int64\n",
            "username        46335 non-null object\n",
            "country         46298 non-null object\n",
            "country_code    45736 non-null object\n",
            "country_slug    46298 non-null object\n",
            "date_end        46285 non-null datetime64[ns]\n",
            "date_start      46318 non-null datetime64[ns]\n",
            "latitude        46335 non-null int64\n",
            "longitude       46335 non-null int64\n",
            "place           46335 non-null object\n",
            "place_slug      46298 non-null object\n",
            "dtypes: datetime64[ns](2), int64(3), object(6)\n",
            "memory usage: 4.2+ MB\n"
          ],
          "name": "stdout"
        }
      ]
    },
    {
      "cell_type": "markdown",
      "metadata": {
        "id": "zOUSJ1dWMlyl",
        "colab_type": "text"
      },
      "source": [
        "Thus we have transformed the dates into timestamps"
      ]
    },
    {
      "cell_type": "markdown",
      "metadata": {
        "id": "HxufXCEh1w7_",
        "colab_type": "text"
      },
      "source": [
        "# b. Calculate trip duration in days (you can use loops, list comprehensions or map-lambda-functions (python) to create a column that holds the numerical value of the day. You can also use the “datetime” package.)"
      ]
    },
    {
      "cell_type": "code",
      "metadata": {
        "id": "_qqDccOQ107n",
        "colab_type": "code",
        "outputId": "cef0c5e6-27ed-4706-c89e-b21df1e49c00",
        "colab": {
          "base_uri": "https://localhost:8080/",
          "height": 326
        }
      },
      "source": [
        "# To calculate the trip duration we have to create a new column named 'duration'. Then we subtract our date_start from date_end which equals the duration of the trip.\n",
        "df_trips['duration'] = df_trips['date_end'] - df_trips['date_start']\n",
        "df_trips.head()"
      ],
      "execution_count": 0,
      "outputs": [
        {
          "output_type": "execute_result",
          "data": {
            "text/html": [
              "<div>\n",
              "<style scoped>\n",
              "    .dataframe tbody tr th:only-of-type {\n",
              "        vertical-align: middle;\n",
              "    }\n",
              "\n",
              "    .dataframe tbody tr th {\n",
              "        vertical-align: top;\n",
              "    }\n",
              "\n",
              "    .dataframe thead th {\n",
              "        text-align: right;\n",
              "    }\n",
              "</style>\n",
              "<table border=\"1\" class=\"dataframe\">\n",
              "  <thead>\n",
              "    <tr style=\"text-align: right;\">\n",
              "      <th></th>\n",
              "      <th>Unnamed: 0</th>\n",
              "      <th>username</th>\n",
              "      <th>country</th>\n",
              "      <th>country_code</th>\n",
              "      <th>country_slug</th>\n",
              "      <th>date_end</th>\n",
              "      <th>date_start</th>\n",
              "      <th>latitude</th>\n",
              "      <th>longitude</th>\n",
              "      <th>place</th>\n",
              "      <th>place_slug</th>\n",
              "      <th>duration</th>\n",
              "    </tr>\n",
              "  </thead>\n",
              "  <tbody>\n",
              "    <tr>\n",
              "      <th>0</th>\n",
              "      <td>0</td>\n",
              "      <td>@lewellenmichael</td>\n",
              "      <td>Mexico</td>\n",
              "      <td>MX</td>\n",
              "      <td>mexico</td>\n",
              "      <td>2018-06-15</td>\n",
              "      <td>2018-06-04</td>\n",
              "      <td>21</td>\n",
              "      <td>-101</td>\n",
              "      <td>Guanajuato</td>\n",
              "      <td>mexico</td>\n",
              "      <td>11 days</td>\n",
              "    </tr>\n",
              "    <tr>\n",
              "      <th>1</th>\n",
              "      <td>1</td>\n",
              "      <td>@lewellenmichael</td>\n",
              "      <td>Mexico</td>\n",
              "      <td>MX</td>\n",
              "      <td>mexico</td>\n",
              "      <td>2018-06-03</td>\n",
              "      <td>2018-05-31</td>\n",
              "      <td>19</td>\n",
              "      <td>-99</td>\n",
              "      <td>Mexico City</td>\n",
              "      <td>mexico-city-mexico</td>\n",
              "      <td>3 days</td>\n",
              "    </tr>\n",
              "    <tr>\n",
              "      <th>2</th>\n",
              "      <td>2</td>\n",
              "      <td>@lewellenmichael</td>\n",
              "      <td>Mexico</td>\n",
              "      <td>MX</td>\n",
              "      <td>mexico</td>\n",
              "      <td>2017-11-05</td>\n",
              "      <td>2017-11-01</td>\n",
              "      <td>21</td>\n",
              "      <td>-86</td>\n",
              "      <td>Cancun</td>\n",
              "      <td>cancun-mexico</td>\n",
              "      <td>4 days</td>\n",
              "    </tr>\n",
              "    <tr>\n",
              "      <th>3</th>\n",
              "      <td>3</td>\n",
              "      <td>@lewellenmichael</td>\n",
              "      <td>Jordan</td>\n",
              "      <td>JO</td>\n",
              "      <td>jordan</td>\n",
              "      <td>2017-08-07</td>\n",
              "      <td>2017-07-24</td>\n",
              "      <td>31</td>\n",
              "      <td>35</td>\n",
              "      <td>Amman</td>\n",
              "      <td>amman-jordan</td>\n",
              "      <td>14 days</td>\n",
              "    </tr>\n",
              "    <tr>\n",
              "      <th>4</th>\n",
              "      <td>4</td>\n",
              "      <td>@waylandchin</td>\n",
              "      <td>China</td>\n",
              "      <td>CN</td>\n",
              "      <td>china</td>\n",
              "      <td>2017-03-18</td>\n",
              "      <td>2017-02-17</td>\n",
              "      <td>40</td>\n",
              "      <td>122</td>\n",
              "      <td>Yingkou</td>\n",
              "      <td>china</td>\n",
              "      <td>29 days</td>\n",
              "    </tr>\n",
              "  </tbody>\n",
              "</table>\n",
              "</div>"
            ],
            "text/plain": [
              "   Unnamed: 0          username  ...          place_slug duration\n",
              "0           0  @lewellenmichael  ...              mexico  11 days\n",
              "1           1  @lewellenmichael  ...  mexico-city-mexico   3 days\n",
              "2           2  @lewellenmichael  ...       cancun-mexico   4 days\n",
              "3           3  @lewellenmichael  ...        amman-jordan  14 days\n",
              "4           4      @waylandchin  ...               china  29 days\n",
              "\n",
              "[5 rows x 12 columns]"
            ]
          },
          "metadata": {
            "tags": []
          },
          "execution_count": 19
        }
      ]
    },
    {
      "cell_type": "markdown",
      "metadata": {
        "id": "XvImb2BDM1Aj",
        "colab_type": "text"
      },
      "source": [
        "As depicted in the column to the right, we now have a column named duration."
      ]
    },
    {
      "cell_type": "markdown",
      "metadata": {
        "id": "ieKXRwhA20BG",
        "colab_type": "text"
      },
      "source": [
        "# c. Filter extreme (fake?) observations for durations as well as dates - start and end (trips that last 234565 days / are in the 17 th or 23 rd century) The minimum duration of a trip is 1 day!"
      ]
    },
    {
      "cell_type": "code",
      "metadata": {
        "id": "9o1Xx40Z282M",
        "colab_type": "code",
        "outputId": "4f54fcae-be90-4b2a-c090-4c178e02b187",
        "colab": {
          "base_uri": "https://localhost:8080/",
          "height": 293
        }
      },
      "source": [
        "# To get an idea of the extreme observations we plot our 'duration' observation using the .plot command.\n",
        "df_trips['duration'].plot()"
      ],
      "execution_count": 0,
      "outputs": [
        {
          "output_type": "execute_result",
          "data": {
            "text/plain": [
              "<matplotlib.axes._subplots.AxesSubplot at 0x7f78e0e9eb70>"
            ]
          },
          "metadata": {
            "tags": []
          },
          "execution_count": 20
        },
        {
          "output_type": "display_data",
          "data": {
            "image/png": "[encoded data removed]",
            "text/plain": [
              "<Figure size 432x288 with 1 Axes>"
            ]
          },
          "metadata": {
            "tags": []
          }
        }
      ]
    },
    {
      "cell_type": "code",
      "metadata": {
        "id": "GRw2Es53_cT8",
        "colab_type": "code",
        "outputId": "51e3750c-e73f-4de4-944a-034ad71e0642",
        "colab": {
          "base_uri": "https://localhost:8080/",
          "height": 286
        }
      },
      "source": [
        "# We have confirmed we have extreme observations and want to filter them. Using 'more than' and 'less than' symbol for our date_start column enabes us to filter them. \n",
        "df_trips = df_trips[(df_trips['date_start'] > '01-01-1950')]\n",
        "df_trips = df_trips[(df_trips['date_start'] < '01-01-2025')]\n",
        "# We plot the date_start column once again to verify that we succesfully have filtered the extreme observations\n",
        "df_trips['date_start'].plot()"
      ],
      "execution_count": 0,
      "outputs": [
        {
          "output_type": "execute_result",
          "data": {
            "text/plain": [
              "<matplotlib.axes._subplots.AxesSubplot at 0x7f78e0df1c50>"
            ]
          },
          "metadata": {
            "tags": []
          },
          "execution_count": 21
        },
        {
          "output_type": "display_data",
          "data": {
            "image/png": "[encoded data removed]",
            "text/plain": [
              "<Figure size 432x288 with 1 Axes>"
            ]
          },
          "metadata": {
            "tags": []
          }
        }
      ]
    },
    {
      "cell_type": "code",
      "metadata": {
        "id": "y36Jid2d-69M",
        "colab_type": "code",
        "colab": {}
      },
      "source": [
        "# Still a crazy plot - we use np.percentile method is used to finalize the filtering \n",
        "extreme_value_check = np.percentile(df_trips['duration'], [1, 97])"
      ],
      "execution_count": 0,
      "outputs": []
    },
    {
      "cell_type": "code",
      "metadata": {
        "id": "h2IDz6Xr_3tp",
        "colab_type": "code",
        "colab": {}
      },
      "source": [
        "# Everything which is isn't within the specified boundary is removed using the method below. \n",
        "df_trips = df_trips[(df_trips['duration'] > extreme_value_check[0]) & (df_trips['duration'] < extreme_value_check[1])]  "
      ],
      "execution_count": 0,
      "outputs": []
    },
    {
      "cell_type": "code",
      "metadata": {
        "id": "zHm5T61jBCOI",
        "colab_type": "code",
        "outputId": "62ccdb91-36a8-4be0-cbf0-609d7a01ddc6",
        "colab": {
          "base_uri": "https://localhost:8080/",
          "height": 293
        }
      },
      "source": [
        "# We plot to verify that everything went as expected and we have filtered the extreme observations.\n",
        "df_trips['duration'].plot()"
      ],
      "execution_count": 0,
      "outputs": [
        {
          "output_type": "execute_result",
          "data": {
            "text/plain": [
              "<matplotlib.axes._subplots.AxesSubplot at 0x7f78de5b03c8>"
            ]
          },
          "metadata": {
            "tags": []
          },
          "execution_count": 24
        },
        {
          "output_type": "display_data",
          "data": {
            "image/png": "[encoded data removed]",
            "text/plain": [
              "<Figure size 432x288 with 1 Axes>"
            ]
          },
          "metadata": {
            "tags": []
          }
        }
      ]
    },
    {
      "cell_type": "markdown",
      "metadata": {
        "id": "8asMcKtsM7Ln",
        "colab_type": "text"
      },
      "source": [
        "As seen on the plot we have filtered in extreme values compared to the previous two plots"
      ]
    },
    {
      "cell_type": "markdown",
      "metadata": {
        "id": "iwNbuHroBgQ9",
        "colab_type": "text"
      },
      "source": [
        "# d. Join the countrylist data to the trips data-frame using the countrycode as a key"
      ]
    },
    {
      "cell_type": "code",
      "metadata": {
        "id": "QLIlGxC0Fzrs",
        "colab_type": "code",
        "outputId": "d343d10b-167f-4f54-eac8-660f862c42e7",
        "colab": {
          "base_uri": "https://localhost:8080/",
          "height": 428
        }
      },
      "source": [
        "# In order to join the two date-frames we initially have to rename 'alpha_2' to 'countrycode' as this is our key. This done using the .rename command.\n",
        "df_countrylist = df_countrylist.rename(columns={'alpha_2':'country_code'})\n",
        "# Then we are able to join the data-frames, which is completed using .merge.     \n",
        "df_trips = df_trips.merge(df_countrylist, how='left', left_on='country_code', right_on='country_code')\n",
        "df_trips.head()"
      ],
      "execution_count": 0,
      "outputs": [
        {
          "output_type": "execute_result",
          "data": {
            "text/html": [
              "<div>\n",
              "<style scoped>\n",
              "    .dataframe tbody tr th:only-of-type {\n",
              "        vertical-align: middle;\n",
              "    }\n",
              "\n",
              "    .dataframe tbody tr th {\n",
              "        vertical-align: top;\n",
              "    }\n",
              "\n",
              "    .dataframe thead th {\n",
              "        text-align: right;\n",
              "    }\n",
              "</style>\n",
              "<table border=\"1\" class=\"dataframe\">\n",
              "  <thead>\n",
              "    <tr style=\"text-align: right;\">\n",
              "      <th></th>\n",
              "      <th>Unnamed: 0</th>\n",
              "      <th>username</th>\n",
              "      <th>country</th>\n",
              "      <th>country_code</th>\n",
              "      <th>country_slug</th>\n",
              "      <th>date_end</th>\n",
              "      <th>date_start</th>\n",
              "      <th>latitude</th>\n",
              "      <th>longitude</th>\n",
              "      <th>place</th>\n",
              "      <th>place_slug</th>\n",
              "      <th>duration</th>\n",
              "      <th>region</th>\n",
              "      <th>sub_region</th>\n",
              "    </tr>\n",
              "  </thead>\n",
              "  <tbody>\n",
              "    <tr>\n",
              "      <th>0</th>\n",
              "      <td>0</td>\n",
              "      <td>@lewellenmichael</td>\n",
              "      <td>Mexico</td>\n",
              "      <td>MX</td>\n",
              "      <td>mexico</td>\n",
              "      <td>2018-06-15</td>\n",
              "      <td>2018-06-04</td>\n",
              "      <td>21</td>\n",
              "      <td>-101</td>\n",
              "      <td>Guanajuato</td>\n",
              "      <td>mexico</td>\n",
              "      <td>11 days</td>\n",
              "      <td>Americas</td>\n",
              "      <td>Latin America and the Caribbean</td>\n",
              "    </tr>\n",
              "    <tr>\n",
              "      <th>1</th>\n",
              "      <td>1</td>\n",
              "      <td>@lewellenmichael</td>\n",
              "      <td>Mexico</td>\n",
              "      <td>MX</td>\n",
              "      <td>mexico</td>\n",
              "      <td>2018-06-03</td>\n",
              "      <td>2018-05-31</td>\n",
              "      <td>19</td>\n",
              "      <td>-99</td>\n",
              "      <td>Mexico City</td>\n",
              "      <td>mexico-city-mexico</td>\n",
              "      <td>3 days</td>\n",
              "      <td>Americas</td>\n",
              "      <td>Latin America and the Caribbean</td>\n",
              "    </tr>\n",
              "    <tr>\n",
              "      <th>2</th>\n",
              "      <td>2</td>\n",
              "      <td>@lewellenmichael</td>\n",
              "      <td>Mexico</td>\n",
              "      <td>MX</td>\n",
              "      <td>mexico</td>\n",
              "      <td>2017-11-05</td>\n",
              "      <td>2017-11-01</td>\n",
              "      <td>21</td>\n",
              "      <td>-86</td>\n",
              "      <td>Cancun</td>\n",
              "      <td>cancun-mexico</td>\n",
              "      <td>4 days</td>\n",
              "      <td>Americas</td>\n",
              "      <td>Latin America and the Caribbean</td>\n",
              "    </tr>\n",
              "    <tr>\n",
              "      <th>3</th>\n",
              "      <td>3</td>\n",
              "      <td>@lewellenmichael</td>\n",
              "      <td>Jordan</td>\n",
              "      <td>JO</td>\n",
              "      <td>jordan</td>\n",
              "      <td>2017-08-07</td>\n",
              "      <td>2017-07-24</td>\n",
              "      <td>31</td>\n",
              "      <td>35</td>\n",
              "      <td>Amman</td>\n",
              "      <td>amman-jordan</td>\n",
              "      <td>14 days</td>\n",
              "      <td>Asia</td>\n",
              "      <td>Western Asia</td>\n",
              "    </tr>\n",
              "    <tr>\n",
              "      <th>4</th>\n",
              "      <td>4</td>\n",
              "      <td>@waylandchin</td>\n",
              "      <td>China</td>\n",
              "      <td>CN</td>\n",
              "      <td>china</td>\n",
              "      <td>2017-03-18</td>\n",
              "      <td>2017-02-17</td>\n",
              "      <td>40</td>\n",
              "      <td>122</td>\n",
              "      <td>Yingkou</td>\n",
              "      <td>china</td>\n",
              "      <td>29 days</td>\n",
              "      <td>Asia</td>\n",
              "      <td>Eastern Asia</td>\n",
              "    </tr>\n",
              "  </tbody>\n",
              "</table>\n",
              "</div>"
            ],
            "text/plain": [
              "   Unnamed: 0          username  ...    region                       sub_region\n",
              "0           0  @lewellenmichael  ...  Americas  Latin America and the Caribbean\n",
              "1           1  @lewellenmichael  ...  Americas  Latin America and the Caribbean\n",
              "2           2  @lewellenmichael  ...  Americas  Latin America and the Caribbean\n",
              "3           3  @lewellenmichael  ...      Asia                     Western Asia\n",
              "4           4      @waylandchin  ...      Asia                     Eastern Asia\n",
              "\n",
              "[5 rows x 14 columns]"
            ]
          },
          "metadata": {
            "tags": []
          },
          "execution_count": 26
        }
      ]
    },
    {
      "cell_type": "markdown",
      "metadata": {
        "id": "6SXYnaqwNFEC",
        "colab_type": "text"
      },
      "source": [
        "As seen above we have merged the two dataframes."
      ]
    },
    {
      "cell_type": "markdown",
      "metadata": {
        "id": "sfMMC_DYJ_Ib",
        "colab_type": "text"
      },
      "source": [
        "# e. [ Only for python users ] Set DateTime index as the start date of a trip"
      ]
    },
    {
      "cell_type": "code",
      "metadata": {
        "id": "GzGEu1HKKBiC",
        "colab_type": "code",
        "outputId": "23a5e48e-2e5e-402f-ad33-86334116fd08",
        "colab": {
          "base_uri": "https://localhost:8080/",
          "height": 1000
        }
      },
      "source": [
        "# We set DateTime index as 'date_start' using .set_index method.\n",
        "df_trips = df_trips.set_index('date_start')\n",
        "df_trips = df_trips.sort_values('date_start')\n",
        "df_trips.head\n"
      ],
      "execution_count": 0,
      "outputs": [
        {
          "output_type": "execute_result",
          "data": {
            "text/plain": [
              "<bound method NDFrame.head of             Unnamed: 0  ...                       sub_region\n",
              "date_start              ...                                 \n",
              "1979-07-02       40967  ...                 Northern America\n",
              "1981-07-12       40965  ...                 Northern America\n",
              "1981-07-26       40964  ...                 Northern America\n",
              "1981-12-12       40963  ...                  Northern Europe\n",
              "1983-12-12       40961  ...  Latin America and the Caribbean\n",
              "1984-05-01       45536  ...  Latin America and the Caribbean\n",
              "1985-07-12       40958  ...                  Northern Europe\n",
              "1986-06-01       45535  ...                 Northern America\n",
              "1987-07-01       14330  ...                   Eastern Europe\n",
              "1987-10-27       45579  ...                 Northern America\n",
              "1987-11-01       45578  ...                 Northern America\n",
              "1988-11-20       44548  ...                     Eastern Asia\n",
              "1989-04-15       45577  ...  Latin America and the Caribbean\n",
              "1989-07-20       45576  ...  Latin America and the Caribbean\n",
              "1989-10-12       35051  ...                   Western Europe\n",
              "1990-02-15       44547  ...                     Eastern Asia\n",
              "1990-06-10        4081  ...                 Northern America\n",
              "1990-07-02       27343  ...                   Western Europe\n",
              "1990-10-01       45575  ...  Latin America and the Caribbean\n",
              "1990-10-13        1254  ...                    Southern Asia\n",
              "1991-01-01       37694  ...                 Northern America\n",
              "1991-03-01       37693  ...                              NaN\n",
              "1991-04-02       37692  ...                              NaN\n",
              "1991-05-03       37691  ...                              NaN\n",
              "1991-06-01       37690  ...                   Western Europe\n",
              "1991-06-01       37689  ...                   Western Europe\n",
              "1991-07-03       37688  ...                   Western Europe\n",
              "1991-07-04       37687  ...                  Southern Europe\n",
              "1991-07-05       37686  ...                  Southern Europe\n",
              "1991-07-09       37685  ...                  Southern Europe\n",
              "...                ...  ...                              ...\n",
              "2019-05-06       38103  ...               South-eastern Asia\n",
              "2019-05-08       20580  ...                     Eastern Asia\n",
              "2019-05-10       15512  ...                   Eastern Europe\n",
              "2019-05-10       25818  ...                     Western Asia\n",
              "2019-05-11       20579  ...               South-eastern Asia\n",
              "2019-05-28       24743  ...  Latin America and the Caribbean\n",
              "2019-06-01       22008  ...                   Western Europe\n",
              "2019-06-01       38787  ...               South-eastern Asia\n",
              "2019-06-08       25817  ...  Latin America and the Caribbean\n",
              "2019-06-27       24742  ...  Latin America and the Caribbean\n",
              "2019-06-27       46500  ...  Latin America and the Caribbean\n",
              "2019-07-01       26072  ...                     Eastern Asia\n",
              "2019-07-07       25816  ...  Latin America and the Caribbean\n",
              "2019-07-27       24741  ...                 Northern America\n",
              "2019-08-01       38786  ...               South-eastern Asia\n",
              "2019-08-05       25815  ...                  Southern Europe\n",
              "2019-08-23       33807  ...                 Northern America\n",
              "2019-08-26       24740  ...                 Northern America\n",
              "2019-08-26       33806  ...                 Northern America\n",
              "2019-09-01       45951  ...                 Northern America\n",
              "2019-09-03       25814  ...                  Northern Europe\n",
              "2019-09-03       33805  ...                 Northern America\n",
              "2019-09-18       44657  ...                 Northern America\n",
              "2019-09-25       24739  ...                   Western Europe\n",
              "2019-10-25       24738  ...                   Western Europe\n",
              "2019-11-24       24737  ...                   Western Europe\n",
              "2019-11-30       26071  ...               South-eastern Asia\n",
              "2019-12-20        7949  ...        Australia and New Zealand\n",
              "2020-07-12       33116  ...                  Northern Europe\n",
              "2024-07-24       33115  ...        Australia and New Zealand\n",
              "\n",
              "[43318 rows x 13 columns]>"
            ]
          },
          "metadata": {
            "tags": []
          },
          "execution_count": 27
        }
      ]
    },
    {
      "cell_type": "markdown",
      "metadata": {
        "id": "lD39sSHrNQiF",
        "colab_type": "text"
      },
      "source": [
        "As seen above we have succesfully set the DateTime index as the start date of a trip"
      ]
    },
    {
      "cell_type": "markdown",
      "metadata": {
        "id": "KriRIKtRQseq",
        "colab_type": "text"
      },
      "source": [
        "# Exercise 2: People"
      ]
    },
    {
      "cell_type": "markdown",
      "metadata": {
        "id": "bblKPKQYUIXM",
        "colab_type": "text"
      },
      "source": [
        "# a. How many people have at least a “High School” diploma?Hint: For this calculation remove missing value-rows or fill with “False”"
      ]
    },
    {
      "cell_type": "code",
      "metadata": {
        "id": "gWJtINMhQ3ph",
        "colab_type": "code",
        "outputId": "0959eb1c-6da6-4bf3-bef6-e2e8d3175764",
        "colab": {
          "base_uri": "https://localhost:8080/",
          "height": 238
        }
      },
      "source": [
        "# Initially the .head() command is used to take a glance at the data-frame.\n",
        "df_people.head()"
      ],
      "execution_count": 0,
      "outputs": [
        {
          "output_type": "execute_result",
          "data": {
            "text/html": [
              "<div>\n",
              "<style scoped>\n",
              "    .dataframe tbody tr th:only-of-type {\n",
              "        vertical-align: middle;\n",
              "    }\n",
              "\n",
              "    .dataframe tbody tr th {\n",
              "        vertical-align: top;\n",
              "    }\n",
              "\n",
              "    .dataframe thead th {\n",
              "        text-align: right;\n",
              "    }\n",
              "</style>\n",
              "<table border=\"1\" class=\"dataframe\">\n",
              "  <thead>\n",
              "    <tr style=\"text-align: right;\">\n",
              "      <th></th>\n",
              "      <th>Unnamed: 0</th>\n",
              "      <th>username</th>\n",
              "      <th>followers</th>\n",
              "      <th>following</th>\n",
              "      <th>work_raw</th>\n",
              "      <th>education_raw</th>\n",
              "    </tr>\n",
              "  </thead>\n",
              "  <tbody>\n",
              "    <tr>\n",
              "      <th>0</th>\n",
              "      <td>0</td>\n",
              "      <td>@lewellenmichael</td>\n",
              "      <td>1</td>\n",
              "      <td>2</td>\n",
              "      <td>Software Dev, Startup Founder, Finance, Crypto...</td>\n",
              "      <td>High School, Bachelor's Degree</td>\n",
              "    </tr>\n",
              "    <tr>\n",
              "      <th>1</th>\n",
              "      <td>1</td>\n",
              "      <td>@waylandchin</td>\n",
              "      <td>0</td>\n",
              "      <td>2</td>\n",
              "      <td>NaN</td>\n",
              "      <td>NaN</td>\n",
              "    </tr>\n",
              "    <tr>\n",
              "      <th>2</th>\n",
              "      <td>2</td>\n",
              "      <td>@karan</td>\n",
              "      <td>2</td>\n",
              "      <td>1</td>\n",
              "      <td>NaN</td>\n",
              "      <td>NaN</td>\n",
              "    </tr>\n",
              "    <tr>\n",
              "      <th>3</th>\n",
              "      <td>3</td>\n",
              "      <td>@skaboss217</td>\n",
              "      <td>0</td>\n",
              "      <td>1</td>\n",
              "      <td>NaN</td>\n",
              "      <td>NaN</td>\n",
              "    </tr>\n",
              "    <tr>\n",
              "      <th>4</th>\n",
              "      <td>4</td>\n",
              "      <td>@apwn</td>\n",
              "      <td>17</td>\n",
              "      <td>426</td>\n",
              "      <td>Web Dev</td>\n",
              "      <td>NaN</td>\n",
              "    </tr>\n",
              "  </tbody>\n",
              "</table>\n",
              "</div>"
            ],
            "text/plain": [
              "   Unnamed: 0  ...                   education_raw\n",
              "0           0  ...  High School, Bachelor's Degree\n",
              "1           1  ...                             NaN\n",
              "2           2  ...                             NaN\n",
              "3           3  ...                             NaN\n",
              "4           4  ...                             NaN\n",
              "\n",
              "[5 rows x 6 columns]"
            ]
          },
          "metadata": {
            "tags": []
          },
          "execution_count": 28
        }
      ]
    },
    {
      "cell_type": "code",
      "metadata": {
        "id": "n2n6hMoVRjUM",
        "colab_type": "code",
        "outputId": "cec39bd5-8698-49fc-9823-4600c0eef7b3",
        "colab": {
          "base_uri": "https://localhost:8080/",
          "height": 34
        }
      },
      "source": [
        "# Since the the column 'education_raw' depicts the education all we have to is sum the the amount of times 'High School' is present in the column using str.contains command.\n",
        "df_people['education_raw'].str.contains('High School').sum()"
      ],
      "execution_count": 0,
      "outputs": [
        {
          "output_type": "execute_result",
          "data": {
            "text/plain": [
              "130"
            ]
          },
          "metadata": {
            "tags": []
          },
          "execution_count": 29
        }
      ]
    },
    {
      "cell_type": "markdown",
      "metadata": {
        "id": "d5DD4I4ZNYma",
        "colab_type": "text"
      },
      "source": [
        "As depicted above 130 people have a High School diploma"
      ]
    },
    {
      "cell_type": "markdown",
      "metadata": {
        "id": "VdWux0vASIZk",
        "colab_type": "text"
      },
      "source": [
        "# b. How many people working with “Software Dev” have a “Master's Degree”?"
      ]
    },
    {
      "cell_type": "code",
      "metadata": {
        "id": "VSxGQt0lSLRv",
        "colab_type": "code",
        "outputId": "056ef173-d51b-4927-d033-a4741b11c809",
        "colab": {
          "base_uri": "https://localhost:8080/",
          "height": 34
        }
      },
      "source": [
        "# For this we basically have to repeat the previous step except this time we use '&' as two conditions apply this time.\n",
        "# The first condition is that the column 'education_raw' contains 'Master's Degree' which again is done using the command str.cotains\n",
        "# For the second conditions the previous step is repeated but this time it's the column 'work_raw' which must contain the value \"Software Dev\".\n",
        "# Finally this is saved under 'Software_Dev' and we are able to sum the amount of observations which fulfulls the two conditions.\n",
        "Software_Dev = df_people['education_raw'].str.contains(\"Master's Degree\") & df_people['work_raw'].str.contains(\"Software Dev\")\n",
        "Software_Dev.sum()"
      ],
      "execution_count": 0,
      "outputs": [
        {
          "output_type": "execute_result",
          "data": {
            "text/plain": [
              "57"
            ]
          },
          "metadata": {
            "tags": []
          },
          "execution_count": 30
        }
      ]
    },
    {
      "cell_type": "markdown",
      "metadata": {
        "id": "5qPXgNh3NgZ6",
        "colab_type": "text"
      },
      "source": [
        "As depicted above 57 people with Master's Degree also work with Software Development."
      ]
    },
    {
      "cell_type": "markdown",
      "metadata": {
        "id": "VAYF1WzaUevc",
        "colab_type": "text"
      },
      "source": [
        "# c. Who is the person with a Master's Degree that has the highest number of followers? [Explore who this person is. :-) ]"
      ]
    },
    {
      "cell_type": "code",
      "metadata": {
        "id": "GfUPy4JtUpdk",
        "colab_type": "code",
        "outputId": "495ac4b6-9fa6-47ac-847b-b6be5e90edff",
        "colab": {
          "base_uri": "https://localhost:8080/",
          "height": 1000
        }
      },
      "source": [
        "# Using str.contians we require 'Master's Degree' to be true using '>'. \n",
        "df_high_followers = df_people[df_people['education_raw'].str.contains(\"Master's Degree\") > 0]\n",
        "# Afterwards we look for the max value and sort values accordingly.\n",
        "df_high_followers['followers'].max()\n",
        "df_high_followers.sort_values('followers')"
      ],
      "execution_count": 0,
      "outputs": [
        {
          "output_type": "execute_result",
          "data": {
            "text/html": [
              "<div>\n",
              "<style scoped>\n",
              "    .dataframe tbody tr th:only-of-type {\n",
              "        vertical-align: middle;\n",
              "    }\n",
              "\n",
              "    .dataframe tbody tr th {\n",
              "        vertical-align: top;\n",
              "    }\n",
              "\n",
              "    .dataframe thead th {\n",
              "        text-align: right;\n",
              "    }\n",
              "</style>\n",
              "<table border=\"1\" class=\"dataframe\">\n",
              "  <thead>\n",
              "    <tr style=\"text-align: right;\">\n",
              "      <th></th>\n",
              "      <th>Unnamed: 0</th>\n",
              "      <th>username</th>\n",
              "      <th>followers</th>\n",
              "      <th>following</th>\n",
              "      <th>work_raw</th>\n",
              "      <th>education_raw</th>\n",
              "    </tr>\n",
              "  </thead>\n",
              "  <tbody>\n",
              "    <tr>\n",
              "      <th>2195</th>\n",
              "      <td>2195</td>\n",
              "      <td>@bryanjschaaf</td>\n",
              "      <td>0</td>\n",
              "      <td>0</td>\n",
              "      <td>Education, Medical, Politics, Journalism, Blog...</td>\n",
              "      <td>Master's Degree</td>\n",
              "    </tr>\n",
              "    <tr>\n",
              "      <th>2917</th>\n",
              "      <td>2917</td>\n",
              "      <td>@fabrejulien</td>\n",
              "      <td>0</td>\n",
              "      <td>1</td>\n",
              "      <td>Startup Founder, Product Manager, Creative, Bl...</td>\n",
              "      <td>Master's Degree</td>\n",
              "    </tr>\n",
              "    <tr>\n",
              "      <th>2909</th>\n",
              "      <td>2909</td>\n",
              "      <td>@hoperto</td>\n",
              "      <td>0</td>\n",
              "      <td>0</td>\n",
              "      <td>Software Dev, Startup Founder, Crypto</td>\n",
              "      <td>Master's Degree</td>\n",
              "    </tr>\n",
              "    <tr>\n",
              "      <th>2906</th>\n",
              "      <td>2906</td>\n",
              "      <td>@petepollard</td>\n",
              "      <td>0</td>\n",
              "      <td>0</td>\n",
              "      <td>Software Dev, Education, Medical, Creative, La...</td>\n",
              "      <td>Master's Degree</td>\n",
              "    </tr>\n",
              "    <tr>\n",
              "      <th>2889</th>\n",
              "      <td>2889</td>\n",
              "      <td>@karinec</td>\n",
              "      <td>0</td>\n",
              "      <td>0</td>\n",
              "      <td>NaN</td>\n",
              "      <td>Master's Degree</td>\n",
              "    </tr>\n",
              "    <tr>\n",
              "      <th>2869</th>\n",
              "      <td>2869</td>\n",
              "      <td>@dekim24</td>\n",
              "      <td>0</td>\n",
              "      <td>0</td>\n",
              "      <td>Finance, Data, SaaS</td>\n",
              "      <td>High School, Bachelor's Degree, Master's Degree</td>\n",
              "    </tr>\n",
              "    <tr>\n",
              "      <th>2858</th>\n",
              "      <td>2858</td>\n",
              "      <td>@jadeefruit</td>\n",
              "      <td>0</td>\n",
              "      <td>0</td>\n",
              "      <td>UI/UX Design, Ecommerce</td>\n",
              "      <td>Master's Degree</td>\n",
              "    </tr>\n",
              "    <tr>\n",
              "      <th>2821</th>\n",
              "      <td>2821</td>\n",
              "      <td>@therese624</td>\n",
              "      <td>0</td>\n",
              "      <td>0</td>\n",
              "      <td>Startup Founder, Education, Coach</td>\n",
              "      <td>Master's Degree</td>\n",
              "    </tr>\n",
              "    <tr>\n",
              "      <th>2802</th>\n",
              "      <td>2802</td>\n",
              "      <td>@flavia</td>\n",
              "      <td>0</td>\n",
              "      <td>0</td>\n",
              "      <td>Education, Coach</td>\n",
              "      <td>Master's Degree</td>\n",
              "    </tr>\n",
              "    <tr>\n",
              "      <th>2759</th>\n",
              "      <td>2759</td>\n",
              "      <td>@carololiveira</td>\n",
              "      <td>0</td>\n",
              "      <td>0</td>\n",
              "      <td>Data, Sales, Ecommerce, Support</td>\n",
              "      <td>Bachelor's Degree, Master's Degree</td>\n",
              "    </tr>\n",
              "    <tr>\n",
              "      <th>2725</th>\n",
              "      <td>2725</td>\n",
              "      <td>@thomas250</td>\n",
              "      <td>0</td>\n",
              "      <td>0</td>\n",
              "      <td>UI/UX Design, Startup Founder, Creative, Coach...</td>\n",
              "      <td>Master's Degree</td>\n",
              "    </tr>\n",
              "    <tr>\n",
              "      <th>2705</th>\n",
              "      <td>2705</td>\n",
              "      <td>@martijn</td>\n",
              "      <td>0</td>\n",
              "      <td>0</td>\n",
              "      <td>UI/UX Design, Crypto, Product Manager, Creativ...</td>\n",
              "      <td>Master's Degree</td>\n",
              "    </tr>\n",
              "    <tr>\n",
              "      <th>2918</th>\n",
              "      <td>2918</td>\n",
              "      <td>@jeremygotteland</td>\n",
              "      <td>0</td>\n",
              "      <td>0</td>\n",
              "      <td>Software Dev, Mobile Dev, Education, Data</td>\n",
              "      <td>Master's Degree</td>\n",
              "    </tr>\n",
              "    <tr>\n",
              "      <th>2678</th>\n",
              "      <td>2678</td>\n",
              "      <td>@theycallmemtr</td>\n",
              "      <td>0</td>\n",
              "      <td>0</td>\n",
              "      <td>Finance, Crypto, Medical, Creative, Data, Mark...</td>\n",
              "      <td>Master's Degree</td>\n",
              "    </tr>\n",
              "    <tr>\n",
              "      <th>2612</th>\n",
              "      <td>2612</td>\n",
              "      <td>@antoinechr</td>\n",
              "      <td>0</td>\n",
              "      <td>0</td>\n",
              "      <td>Startup Founder, Creative, Marketing, Ecommerce</td>\n",
              "      <td>Master's Degree</td>\n",
              "    </tr>\n",
              "    <tr>\n",
              "      <th>2599</th>\n",
              "      <td>2599</td>\n",
              "      <td>@elizabethtallen</td>\n",
              "      <td>0</td>\n",
              "      <td>0</td>\n",
              "      <td>Education, Politics, Law, Blogging</td>\n",
              "      <td>Master's Degree</td>\n",
              "    </tr>\n",
              "    <tr>\n",
              "      <th>2570</th>\n",
              "      <td>2570</td>\n",
              "      <td>@jasoninbend</td>\n",
              "      <td>0</td>\n",
              "      <td>0</td>\n",
              "      <td>Education, Data, Geo</td>\n",
              "      <td>Master's Degree</td>\n",
              "    </tr>\n",
              "    <tr>\n",
              "      <th>2536</th>\n",
              "      <td>2536</td>\n",
              "      <td>@jdonati</td>\n",
              "      <td>0</td>\n",
              "      <td>0</td>\n",
              "      <td>Product Manager</td>\n",
              "      <td>Master's Degree</td>\n",
              "    </tr>\n",
              "    <tr>\n",
              "      <th>2526</th>\n",
              "      <td>2526</td>\n",
              "      <td>@solsin</td>\n",
              "      <td>0</td>\n",
              "      <td>0</td>\n",
              "      <td>NaN</td>\n",
              "      <td>Master's Degree</td>\n",
              "    </tr>\n",
              "    <tr>\n",
              "      <th>2483</th>\n",
              "      <td>2483</td>\n",
              "      <td>@colomeranna</td>\n",
              "      <td>0</td>\n",
              "      <td>0</td>\n",
              "      <td>NaN</td>\n",
              "      <td>Master's Degree</td>\n",
              "    </tr>\n",
              "    <tr>\n",
              "      <th>2468</th>\n",
              "      <td>2468</td>\n",
              "      <td>@bea</td>\n",
              "      <td>0</td>\n",
              "      <td>4</td>\n",
              "      <td>Education, Creative, Blogging</td>\n",
              "      <td>Master's Degree</td>\n",
              "    </tr>\n",
              "    <tr>\n",
              "      <th>2359</th>\n",
              "      <td>2359</td>\n",
              "      <td>@winby</td>\n",
              "      <td>0</td>\n",
              "      <td>0</td>\n",
              "      <td>Product Manager, Data, Fitness, Marketing, Eco...</td>\n",
              "      <td>Master's Degree</td>\n",
              "    </tr>\n",
              "    <tr>\n",
              "      <th>2350</th>\n",
              "      <td>2350</td>\n",
              "      <td>@ericayala</td>\n",
              "      <td>0</td>\n",
              "      <td>0</td>\n",
              "      <td>Marketing, Sales</td>\n",
              "      <td>Master's Degree</td>\n",
              "    </tr>\n",
              "    <tr>\n",
              "      <th>2346</th>\n",
              "      <td>2346</td>\n",
              "      <td>@benjturner</td>\n",
              "      <td>0</td>\n",
              "      <td>0</td>\n",
              "      <td>Web Dev, Blogging, Marketing</td>\n",
              "      <td>Master's Degree</td>\n",
              "    </tr>\n",
              "    <tr>\n",
              "      <th>2298</th>\n",
              "      <td>2298</td>\n",
              "      <td>@knocte</td>\n",
              "      <td>0</td>\n",
              "      <td>1</td>\n",
              "      <td>Software Dev, Mobile Dev, Crypto</td>\n",
              "      <td>Master's Degree</td>\n",
              "    </tr>\n",
              "    <tr>\n",
              "      <th>2615</th>\n",
              "      <td>2615</td>\n",
              "      <td>@inessadoud</td>\n",
              "      <td>0</td>\n",
              "      <td>0</td>\n",
              "      <td>Startup Founder, Blogging, Community, Marketin...</td>\n",
              "      <td>Master's Degree</td>\n",
              "    </tr>\n",
              "    <tr>\n",
              "      <th>2932</th>\n",
              "      <td>2932</td>\n",
              "      <td>@gtroppee</td>\n",
              "      <td>0</td>\n",
              "      <td>0</td>\n",
              "      <td>Web Dev</td>\n",
              "      <td>Master's Degree</td>\n",
              "    </tr>\n",
              "    <tr>\n",
              "      <th>2957</th>\n",
              "      <td>2957</td>\n",
              "      <td>@lblogueur</td>\n",
              "      <td>0</td>\n",
              "      <td>1</td>\n",
              "      <td>Software Dev, Ecommerce, SaaS, Sports</td>\n",
              "      <td>Master's Degree</td>\n",
              "    </tr>\n",
              "    <tr>\n",
              "      <th>2965</th>\n",
              "      <td>2965</td>\n",
              "      <td>@katrin</td>\n",
              "      <td>0</td>\n",
              "      <td>0</td>\n",
              "      <td>Startup Founder, Creative</td>\n",
              "      <td>Master's Degree</td>\n",
              "    </tr>\n",
              "    <tr>\n",
              "      <th>3778</th>\n",
              "      <td>3778</td>\n",
              "      <td>@millerclayton</td>\n",
              "      <td>0</td>\n",
              "      <td>0</td>\n",
              "      <td>NaN</td>\n",
              "      <td>Bachelor's Degree, Master's Degree</td>\n",
              "    </tr>\n",
              "    <tr>\n",
              "      <th>...</th>\n",
              "      <td>...</td>\n",
              "      <td>...</td>\n",
              "      <td>...</td>\n",
              "      <td>...</td>\n",
              "      <td>...</td>\n",
              "      <td>...</td>\n",
              "    </tr>\n",
              "    <tr>\n",
              "      <th>2658</th>\n",
              "      <td>2658</td>\n",
              "      <td>@harryguinness</td>\n",
              "      <td>9</td>\n",
              "      <td>9</td>\n",
              "      <td>Journalism, Blogging</td>\n",
              "      <td>High School, Bachelor's Degree, Master's Degree</td>\n",
              "    </tr>\n",
              "    <tr>\n",
              "      <th>2116</th>\n",
              "      <td>2116</td>\n",
              "      <td>@jeremy</td>\n",
              "      <td>10</td>\n",
              "      <td>16</td>\n",
              "      <td>Startup Founder, Data, Marketing, Ecommerce, S...</td>\n",
              "      <td>Master's Degree</td>\n",
              "    </tr>\n",
              "    <tr>\n",
              "      <th>1610</th>\n",
              "      <td>1610</td>\n",
              "      <td>@travpreneur</td>\n",
              "      <td>10</td>\n",
              "      <td>9</td>\n",
              "      <td>Startup Founder, Crypto, Marketing</td>\n",
              "      <td>Master's Degree</td>\n",
              "    </tr>\n",
              "    <tr>\n",
              "      <th>1898</th>\n",
              "      <td>1898</td>\n",
              "      <td>@mfrezz</td>\n",
              "      <td>11</td>\n",
              "      <td>7</td>\n",
              "      <td>Startup Founder, Marketing, Ecommerce</td>\n",
              "      <td>Master's Degree</td>\n",
              "    </tr>\n",
              "    <tr>\n",
              "      <th>1791</th>\n",
              "      <td>1791</td>\n",
              "      <td>@gridinoc</td>\n",
              "      <td>11</td>\n",
              "      <td>17</td>\n",
              "      <td>Web Dev, Journalism</td>\n",
              "      <td>Master's Degree</td>\n",
              "    </tr>\n",
              "    <tr>\n",
              "      <th>2617</th>\n",
              "      <td>2617</td>\n",
              "      <td>@lilyxl8</td>\n",
              "      <td>12</td>\n",
              "      <td>4</td>\n",
              "      <td>Software Dev, Mobile Dev, Product Manager, Dat...</td>\n",
              "      <td>Master's Degree</td>\n",
              "    </tr>\n",
              "    <tr>\n",
              "      <th>659</th>\n",
              "      <td>659</td>\n",
              "      <td>@spillere</td>\n",
              "      <td>13</td>\n",
              "      <td>27</td>\n",
              "      <td>Web Dev, Software Dev, Startup Founder, SaaS</td>\n",
              "      <td>High School, Bachelor's Degree, Master's Degree</td>\n",
              "    </tr>\n",
              "    <tr>\n",
              "      <th>891</th>\n",
              "      <td>891</td>\n",
              "      <td>@far0s</td>\n",
              "      <td>14</td>\n",
              "      <td>12</td>\n",
              "      <td>Web Dev, UI/UX Design</td>\n",
              "      <td>Master's Degree</td>\n",
              "    </tr>\n",
              "    <tr>\n",
              "      <th>110</th>\n",
              "      <td>110</td>\n",
              "      <td>@mattgelgota</td>\n",
              "      <td>14</td>\n",
              "      <td>10</td>\n",
              "      <td>Marketing, Ecommerce</td>\n",
              "      <td>Master's Degree</td>\n",
              "    </tr>\n",
              "    <tr>\n",
              "      <th>173</th>\n",
              "      <td>173</td>\n",
              "      <td>@justeos</td>\n",
              "      <td>14</td>\n",
              "      <td>17</td>\n",
              "      <td>Web Dev, Mobile Dev</td>\n",
              "      <td>Master's Degree</td>\n",
              "    </tr>\n",
              "    <tr>\n",
              "      <th>1081</th>\n",
              "      <td>1081</td>\n",
              "      <td>@kzaaaam</td>\n",
              "      <td>14</td>\n",
              "      <td>12</td>\n",
              "      <td>Product Manager</td>\n",
              "      <td>Master's Degree</td>\n",
              "    </tr>\n",
              "    <tr>\n",
              "      <th>1932</th>\n",
              "      <td>1932</td>\n",
              "      <td>@vfonic</td>\n",
              "      <td>16</td>\n",
              "      <td>26</td>\n",
              "      <td>Web Dev, Software Dev, Mobile Dev, UI/UX Desig...</td>\n",
              "      <td>Master's Degree</td>\n",
              "    </tr>\n",
              "    <tr>\n",
              "      <th>147</th>\n",
              "      <td>147</td>\n",
              "      <td>@iamfledge</td>\n",
              "      <td>17</td>\n",
              "      <td>27</td>\n",
              "      <td>Software Dev, Startup Founder, Finance</td>\n",
              "      <td>Master's Degree</td>\n",
              "    </tr>\n",
              "    <tr>\n",
              "      <th>529</th>\n",
              "      <td>529</td>\n",
              "      <td>@gawin</td>\n",
              "      <td>17</td>\n",
              "      <td>33</td>\n",
              "      <td>Web Dev, Software Dev, Mobile Dev, UI/UX Desig...</td>\n",
              "      <td>High School, Bachelor's Degree, Master's Degree</td>\n",
              "    </tr>\n",
              "    <tr>\n",
              "      <th>535</th>\n",
              "      <td>535</td>\n",
              "      <td>@eduardoborges</td>\n",
              "      <td>18</td>\n",
              "      <td>28</td>\n",
              "      <td>Startup Founder, Finance, Product Manager, Edu...</td>\n",
              "      <td>High School, Bachelor's Degree, Master's Degree</td>\n",
              "    </tr>\n",
              "    <tr>\n",
              "      <th>1648</th>\n",
              "      <td>1648</td>\n",
              "      <td>@patrickheneise</td>\n",
              "      <td>19</td>\n",
              "      <td>15</td>\n",
              "      <td>Web Dev, Software Dev, Finance, Crypto, SaaS, ...</td>\n",
              "      <td>Master's Degree</td>\n",
              "    </tr>\n",
              "    <tr>\n",
              "      <th>163</th>\n",
              "      <td>163</td>\n",
              "      <td>@julianx</td>\n",
              "      <td>20</td>\n",
              "      <td>22</td>\n",
              "      <td>Web Dev, UI/UX Design, Startup Founder, Marketing</td>\n",
              "      <td>Master's Degree</td>\n",
              "    </tr>\n",
              "    <tr>\n",
              "      <th>2046</th>\n",
              "      <td>2046</td>\n",
              "      <td>@camrabier</td>\n",
              "      <td>22</td>\n",
              "      <td>59</td>\n",
              "      <td>Startup Founder, Product Manager, Marketing</td>\n",
              "      <td>Master's Degree</td>\n",
              "    </tr>\n",
              "    <tr>\n",
              "      <th>1708</th>\n",
              "      <td>1708</td>\n",
              "      <td>@mathieudutour</td>\n",
              "      <td>22</td>\n",
              "      <td>9</td>\n",
              "      <td>Web Dev, Software Dev, Startup Founder, SaaS</td>\n",
              "      <td>Master's Degree</td>\n",
              "    </tr>\n",
              "    <tr>\n",
              "      <th>2587</th>\n",
              "      <td>2587</td>\n",
              "      <td>@maebert</td>\n",
              "      <td>23</td>\n",
              "      <td>10</td>\n",
              "      <td>Startup Founder, Data</td>\n",
              "      <td>Master's Degree</td>\n",
              "    </tr>\n",
              "    <tr>\n",
              "      <th>1451</th>\n",
              "      <td>1451</td>\n",
              "      <td>@wimgz</td>\n",
              "      <td>24</td>\n",
              "      <td>315</td>\n",
              "      <td>Web Dev, Finance, Marketing</td>\n",
              "      <td>Master's Degree</td>\n",
              "    </tr>\n",
              "    <tr>\n",
              "      <th>1915</th>\n",
              "      <td>1915</td>\n",
              "      <td>@ireade</td>\n",
              "      <td>25</td>\n",
              "      <td>7</td>\n",
              "      <td>Web Dev, Software Dev, UI/UX Design</td>\n",
              "      <td>High School, Bachelor's Degree, Master's Degree</td>\n",
              "    </tr>\n",
              "    <tr>\n",
              "      <th>2079</th>\n",
              "      <td>2079</td>\n",
              "      <td>@hfauq</td>\n",
              "      <td>25</td>\n",
              "      <td>18</td>\n",
              "      <td>UI/UX Design, Product Manager, Marketing</td>\n",
              "      <td>Master's Degree</td>\n",
              "    </tr>\n",
              "    <tr>\n",
              "      <th>832</th>\n",
              "      <td>832</td>\n",
              "      <td>@nico_lrx</td>\n",
              "      <td>27</td>\n",
              "      <td>154</td>\n",
              "      <td>Web Dev, Startup Founder, Marketing, SaaS</td>\n",
              "      <td>Master's Degree</td>\n",
              "    </tr>\n",
              "    <tr>\n",
              "      <th>1829</th>\n",
              "      <td>1829</td>\n",
              "      <td>@siddharthkshetrapal</td>\n",
              "      <td>29</td>\n",
              "      <td>24</td>\n",
              "      <td>Web Dev, Software Dev, UI/UX Design, Creative</td>\n",
              "      <td>Master's Degree</td>\n",
              "    </tr>\n",
              "    <tr>\n",
              "      <th>3036</th>\n",
              "      <td>3036</td>\n",
              "      <td>@html5cat</td>\n",
              "      <td>32</td>\n",
              "      <td>18</td>\n",
              "      <td>Software Dev, Mobile Dev, Startup Founder, Pro...</td>\n",
              "      <td>Master's Degree</td>\n",
              "    </tr>\n",
              "    <tr>\n",
              "      <th>609</th>\n",
              "      <td>609</td>\n",
              "      <td>@zackllnyoung</td>\n",
              "      <td>60</td>\n",
              "      <td>92</td>\n",
              "      <td>Startup Founder, Blogging, Coach, Marketing</td>\n",
              "      <td>High School, Bachelor's Degree, Master's Degree</td>\n",
              "    </tr>\n",
              "    <tr>\n",
              "      <th>1949</th>\n",
              "      <td>1949</td>\n",
              "      <td>@neosilky</td>\n",
              "      <td>102</td>\n",
              "      <td>6</td>\n",
              "      <td>Web Dev, Software Dev</td>\n",
              "      <td>High School, Bachelor's Degree, Master's Degree</td>\n",
              "    </tr>\n",
              "    <tr>\n",
              "      <th>1298</th>\n",
              "      <td>1298</td>\n",
              "      <td>@aaz</td>\n",
              "      <td>259</td>\n",
              "      <td>46</td>\n",
              "      <td>Web Dev, Software Dev, Startup Founder, Bloggi...</td>\n",
              "      <td>High School, Bachelor's Degree, Master's Degree</td>\n",
              "    </tr>\n",
              "    <tr>\n",
              "      <th>2043</th>\n",
              "      <td>2043</td>\n",
              "      <td>@levelsio</td>\n",
              "      <td>2182</td>\n",
              "      <td>353</td>\n",
              "      <td>Software Dev, Startup Founder, Creative</td>\n",
              "      <td>High School, Bachelor's Degree, Master's Degree</td>\n",
              "    </tr>\n",
              "  </tbody>\n",
              "</table>\n",
              "<p>153 rows × 6 columns</p>\n",
              "</div>"
            ],
            "text/plain": [
              "      Unnamed: 0  ...                                    education_raw\n",
              "2195        2195  ...                                  Master's Degree\n",
              "2917        2917  ...                                  Master's Degree\n",
              "2909        2909  ...                                  Master's Degree\n",
              "2906        2906  ...                                  Master's Degree\n",
              "2889        2889  ...                                  Master's Degree\n",
              "2869        2869  ...  High School, Bachelor's Degree, Master's Degree\n",
              "2858        2858  ...                                  Master's Degree\n",
              "2821        2821  ...                                  Master's Degree\n",
              "2802        2802  ...                                  Master's Degree\n",
              "2759        2759  ...               Bachelor's Degree, Master's Degree\n",
              "2725        2725  ...                                  Master's Degree\n",
              "2705        2705  ...                                  Master's Degree\n",
              "2918        2918  ...                                  Master's Degree\n",
              "2678        2678  ...                                  Master's Degree\n",
              "2612        2612  ...                                  Master's Degree\n",
              "2599        2599  ...                                  Master's Degree\n",
              "2570        2570  ...                                  Master's Degree\n",
              "2536        2536  ...                                  Master's Degree\n",
              "2526        2526  ...                                  Master's Degree\n",
              "2483        2483  ...                                  Master's Degree\n",
              "2468        2468  ...                                  Master's Degree\n",
              "2359        2359  ...                                  Master's Degree\n",
              "2350        2350  ...                                  Master's Degree\n",
              "2346        2346  ...                                  Master's Degree\n",
              "2298        2298  ...                                  Master's Degree\n",
              "2615        2615  ...                                  Master's Degree\n",
              "2932        2932  ...                                  Master's Degree\n",
              "2957        2957  ...                                  Master's Degree\n",
              "2965        2965  ...                                  Master's Degree\n",
              "3778        3778  ...               Bachelor's Degree, Master's Degree\n",
              "...          ...  ...                                              ...\n",
              "2658        2658  ...  High School, Bachelor's Degree, Master's Degree\n",
              "2116        2116  ...                                  Master's Degree\n",
              "1610        1610  ...                                  Master's Degree\n",
              "1898        1898  ...                                  Master's Degree\n",
              "1791        1791  ...                                  Master's Degree\n",
              "2617        2617  ...                                  Master's Degree\n",
              "659          659  ...  High School, Bachelor's Degree, Master's Degree\n",
              "891          891  ...                                  Master's Degree\n",
              "110          110  ...                                  Master's Degree\n",
              "173          173  ...                                  Master's Degree\n",
              "1081        1081  ...                                  Master's Degree\n",
              "1932        1932  ...                                  Master's Degree\n",
              "147          147  ...                                  Master's Degree\n",
              "529          529  ...  High School, Bachelor's Degree, Master's Degree\n",
              "535          535  ...  High School, Bachelor's Degree, Master's Degree\n",
              "1648        1648  ...                                  Master's Degree\n",
              "163          163  ...                                  Master's Degree\n",
              "2046        2046  ...                                  Master's Degree\n",
              "1708        1708  ...                                  Master's Degree\n",
              "2587        2587  ...                                  Master's Degree\n",
              "1451        1451  ...                                  Master's Degree\n",
              "1915        1915  ...  High School, Bachelor's Degree, Master's Degree\n",
              "2079        2079  ...                                  Master's Degree\n",
              "832          832  ...                                  Master's Degree\n",
              "1829        1829  ...                                  Master's Degree\n",
              "3036        3036  ...                                  Master's Degree\n",
              "609          609  ...  High School, Bachelor's Degree, Master's Degree\n",
              "1949        1949  ...  High School, Bachelor's Degree, Master's Degree\n",
              "1298        1298  ...  High School, Bachelor's Degree, Master's Degree\n",
              "2043        2043  ...  High School, Bachelor's Degree, Master's Degree\n",
              "\n",
              "[153 rows x 6 columns]"
            ]
          },
          "metadata": {
            "tags": []
          },
          "execution_count": 31
        }
      ]
    },
    {
      "cell_type": "markdown",
      "metadata": {
        "id": "sIHLuzEqNoxe",
        "colab_type": "text"
      },
      "source": [
        "As seen above the person with most followers is @levelsio with 2182 followers"
      ]
    },
    {
      "cell_type": "markdown",
      "metadata": {
        "id": "z5Qt7wAVWpAY",
        "colab_type": "text"
      },
      "source": [
        "# Exercise 3: Trips"
      ]
    },
    {
      "cell_type": "markdown",
      "metadata": {
        "id": "B1ZIHb__Wsib",
        "colab_type": "text"
      },
      "source": [
        "# a. Which country received the highest number of trips?"
      ]
    },
    {
      "cell_type": "code",
      "metadata": {
        "id": "Cr7ZtX-vXMiv",
        "colab_type": "code",
        "outputId": "be3c2009-45f3-40c9-85c4-686b531fb294",
        "colab": {
          "base_uri": "https://localhost:8080/",
          "height": 425
        }
      },
      "source": [
        "# We glimpse the dataframe\n",
        "df_trips.head()"
      ],
      "execution_count": 0,
      "outputs": [
        {
          "output_type": "execute_result",
          "data": {
            "text/html": [
              "<div>\n",
              "<style scoped>\n",
              "    .dataframe tbody tr th:only-of-type {\n",
              "        vertical-align: middle;\n",
              "    }\n",
              "\n",
              "    .dataframe tbody tr th {\n",
              "        vertical-align: top;\n",
              "    }\n",
              "\n",
              "    .dataframe thead th {\n",
              "        text-align: right;\n",
              "    }\n",
              "</style>\n",
              "<table border=\"1\" class=\"dataframe\">\n",
              "  <thead>\n",
              "    <tr style=\"text-align: right;\">\n",
              "      <th></th>\n",
              "      <th>Unnamed: 0</th>\n",
              "      <th>username</th>\n",
              "      <th>country</th>\n",
              "      <th>country_code</th>\n",
              "      <th>country_slug</th>\n",
              "      <th>date_end</th>\n",
              "      <th>latitude</th>\n",
              "      <th>longitude</th>\n",
              "      <th>place</th>\n",
              "      <th>place_slug</th>\n",
              "      <th>duration</th>\n",
              "      <th>region</th>\n",
              "      <th>sub_region</th>\n",
              "    </tr>\n",
              "    <tr>\n",
              "      <th>date_start</th>\n",
              "      <th></th>\n",
              "      <th></th>\n",
              "      <th></th>\n",
              "      <th></th>\n",
              "      <th></th>\n",
              "      <th></th>\n",
              "      <th></th>\n",
              "      <th></th>\n",
              "      <th></th>\n",
              "      <th></th>\n",
              "      <th></th>\n",
              "      <th></th>\n",
              "      <th></th>\n",
              "    </tr>\n",
              "  </thead>\n",
              "  <tbody>\n",
              "    <tr>\n",
              "      <th>1979-07-02</th>\n",
              "      <td>40967</td>\n",
              "      <td>@allan</td>\n",
              "      <td>United States</td>\n",
              "      <td>US</td>\n",
              "      <td>united-states</td>\n",
              "      <td>1979-07-05</td>\n",
              "      <td>42</td>\n",
              "      <td>-78</td>\n",
              "      <td>Buffalo</td>\n",
              "      <td>buffalo-ny-united-states</td>\n",
              "      <td>3 days</td>\n",
              "      <td>Americas</td>\n",
              "      <td>Northern America</td>\n",
              "    </tr>\n",
              "    <tr>\n",
              "      <th>1981-07-12</th>\n",
              "      <td>40965</td>\n",
              "      <td>@allan</td>\n",
              "      <td>United States</td>\n",
              "      <td>US</td>\n",
              "      <td>united-states</td>\n",
              "      <td>1981-07-26</td>\n",
              "      <td>25</td>\n",
              "      <td>-80</td>\n",
              "      <td>Miami</td>\n",
              "      <td>miami-fl-united-states</td>\n",
              "      <td>14 days</td>\n",
              "      <td>Americas</td>\n",
              "      <td>Northern America</td>\n",
              "    </tr>\n",
              "    <tr>\n",
              "      <th>1981-07-26</th>\n",
              "      <td>40964</td>\n",
              "      <td>@allan</td>\n",
              "      <td>Canada</td>\n",
              "      <td>CA</td>\n",
              "      <td>canada</td>\n",
              "      <td>1981-12-12</td>\n",
              "      <td>51</td>\n",
              "      <td>-85</td>\n",
              "      <td>Ontario</td>\n",
              "      <td>canada</td>\n",
              "      <td>139 days</td>\n",
              "      <td>Americas</td>\n",
              "      <td>Northern America</td>\n",
              "    </tr>\n",
              "    <tr>\n",
              "      <th>1981-12-12</th>\n",
              "      <td>40963</td>\n",
              "      <td>@allan</td>\n",
              "      <td>Denmark</td>\n",
              "      <td>DK</td>\n",
              "      <td>denmark</td>\n",
              "      <td>1982-01-08</td>\n",
              "      <td>55</td>\n",
              "      <td>9</td>\n",
              "      <td>Hedensted</td>\n",
              "      <td>denmark</td>\n",
              "      <td>27 days</td>\n",
              "      <td>Europe</td>\n",
              "      <td>Northern Europe</td>\n",
              "    </tr>\n",
              "    <tr>\n",
              "      <th>1983-12-12</th>\n",
              "      <td>40961</td>\n",
              "      <td>@allan</td>\n",
              "      <td>Colombia</td>\n",
              "      <td>CO</td>\n",
              "      <td>colombia</td>\n",
              "      <td>1984-01-08</td>\n",
              "      <td>4</td>\n",
              "      <td>-74</td>\n",
              "      <td>Bogota</td>\n",
              "      <td>bogota-colombia</td>\n",
              "      <td>27 days</td>\n",
              "      <td>Americas</td>\n",
              "      <td>Latin America and the Caribbean</td>\n",
              "    </tr>\n",
              "  </tbody>\n",
              "</table>\n",
              "</div>"
            ],
            "text/plain": [
              "            Unnamed: 0 username  ...    region                       sub_region\n",
              "date_start                       ...                                           \n",
              "1979-07-02       40967   @allan  ...  Americas                 Northern America\n",
              "1981-07-12       40965   @allan  ...  Americas                 Northern America\n",
              "1981-07-26       40964   @allan  ...  Americas                 Northern America\n",
              "1981-12-12       40963   @allan  ...    Europe                  Northern Europe\n",
              "1983-12-12       40961   @allan  ...  Americas  Latin America and the Caribbean\n",
              "\n",
              "[5 rows x 13 columns]"
            ]
          },
          "metadata": {
            "tags": []
          },
          "execution_count": 50
        }
      ]
    },
    {
      "cell_type": "code",
      "metadata": {
        "id": "TdMP7JDIxudU",
        "colab_type": "code",
        "outputId": "c9426242-eaaf-4a6b-ecb4-9ddba3c19994",
        "colab": {
          "base_uri": "https://localhost:8080/",
          "height": 1000
        }
      },
      "source": [
        "# Using .value_counts function we count the amount of times the unique observations are present for the column 'country'.\n",
        "df_trips['country'].value_counts()"
      ],
      "execution_count": 0,
      "outputs": [
        {
          "output_type": "execute_result",
          "data": {
            "text/plain": [
              "United States                       6961\n",
              "Thailand                            3277\n",
              "United Kingdom                      2051\n",
              "Spain                               1875\n",
              "Germany                             1814\n",
              "France                              1388\n",
              "Indonesia                           1302\n",
              "China                               1065\n",
              "Italy                               1043\n",
              "Netherlands                          989\n",
              "Japan                                971\n",
              "Canada                               958\n",
              "Vietnam                              940\n",
              "Australia                            913\n",
              "Malaysia                             861\n",
              "Mexico                               859\n",
              "Portugal                             803\n",
              "India                                647\n",
              "Brazil                               553\n",
              "Singapore                            515\n",
              "Colombia                             507\n",
              "Russia                               466\n",
              "Hungary                              453\n",
              "New Zealand                          442\n",
              "Poland                               413\n",
              "Austria                              412\n",
              "Greece                               394\n",
              "Croatia                              376\n",
              "Cambodia                             361\n",
              "Taiwan                               359\n",
              "                                    ... \n",
              "AD100                                  1\n",
              "New Caledonia                          1\n",
              "Guernsey                               1\n",
              "Prishtina                              1\n",
              "Patagonia                              1\n",
              "Spania                                 1\n",
              "Saint Barthélemy                       1\n",
              "Saint Vincent and the Grenadines       1\n",
              "Finnland                               1\n",
              "Djibouti                               1\n",
              "DG6                                    1\n",
              "AB30                                   1\n",
              "Bethlehem                              1\n",
              "Côte d'Ivoire                          1\n",
              "Palestine                              1\n",
              "Yemen                                  1\n",
              "LL48                                   1\n",
              "East Timor                             1\n",
              "Saint Martin                           1\n",
              "Samoa                                  1\n",
              "Lower Subansiri                        1\n",
              "Bab al-Mandab Strait                   1\n",
              "Lake Titicaca                          1\n",
              "45230                                  1\n",
              "Liechtenstein                          1\n",
              "IV51                                   1\n",
              "Sanur                                  1\n",
              "Slovensko                              1\n",
              "Pai                                    1\n",
              "Somalia                                1\n",
              "Name: country, Length: 242, dtype: int64"
            ]
          },
          "metadata": {
            "tags": []
          },
          "execution_count": 33
        }
      ]
    },
    {
      "cell_type": "markdown",
      "metadata": {
        "id": "qlYKfdSrNwwW",
        "colab_type": "text"
      },
      "source": [
        "As shown above the most visited country is the United States with 6961 trips."
      ]
    },
    {
      "cell_type": "markdown",
      "metadata": {
        "id": "WEx1n9EOWvWv",
        "colab_type": "text"
      },
      "source": [
        "# b. Which country received the highest number of trips in 2017? Use the start of trips as a time reference. (python: use datetimeindex created in 1 as a selector)?"
      ]
    },
    {
      "cell_type": "code",
      "metadata": {
        "id": "MN2Rym-zyqBl",
        "colab_type": "code",
        "colab": {}
      },
      "source": [
        "# Using the .loc we show only observations from 2017\n",
        "df_trips_2017 = df_trips.loc['2017']"
      ],
      "execution_count": 0,
      "outputs": []
    },
    {
      "cell_type": "code",
      "metadata": {
        "id": "3u0t0EDyyxI7",
        "colab_type": "code",
        "outputId": "646711ad-a450-4238-f6cc-b393ce5b01b0",
        "colab": {
          "base_uri": "https://localhost:8080/",
          "height": 1000
        }
      },
      "source": [
        "# As we did in excercise 3.a we count the sum of unique observations for country.\n",
        "df_trips_2017['country'].value_counts()"
      ],
      "execution_count": 0,
      "outputs": [
        {
          "output_type": "execute_result",
          "data": {
            "text/plain": [
              "United States             1823\n",
              "Thailand                   893\n",
              "United Kingdom             612\n",
              "Spain                      598\n",
              "Germany                    456\n",
              "France                     391\n",
              "Indonesia                  375\n",
              "Vietnam                    357\n",
              "Mexico                     316\n",
              "Portugal                   304\n",
              "Italy                      299\n",
              "Netherlands                293\n",
              "Malaysia                   286\n",
              "Australia                  245\n",
              "Japan                      241\n",
              "Canada                     239\n",
              "China                      223\n",
              "Colombia                   192\n",
              "India                      169\n",
              "Brazil                     169\n",
              "Singapore                  152\n",
              "Russia                     147\n",
              "Hungary                    139\n",
              "New Zealand                137\n",
              "Poland                     127\n",
              "Taiwan                     127\n",
              "Greece                     115\n",
              "Sweden                     112\n",
              "Austria                    111\n",
              "Croatia                    111\n",
              "                          ... \n",
              "Seychelles                   1\n",
              "Saint Lucia                  1\n",
              "Bhutan                       1\n",
              "Trinidad and Tobago          1\n",
              "Rwanda                       1\n",
              "Curaçao                      1\n",
              "Åland Islands                1\n",
              "U.S. Virgin Islands          1\n",
              "Reunion                      1\n",
              "Tonga                        1\n",
              "Red Sea                      1\n",
              "Uganda                       1\n",
              "Lake Titicaca                1\n",
              "Senegal                      1\n",
              "Swaziland                    1\n",
              "Angola                       1\n",
              "Botswana                     1\n",
              "New Caledonia                1\n",
              "Guadeloupe                   1\n",
              "Algeria                      1\n",
              "Prishtina                    1\n",
              "Iguazu Falls                 1\n",
              "Namibia                      1\n",
              "Bosnia-Herzegovina           1\n",
              "Bab al-Mandab Strait         1\n",
              "Pakistan                     1\n",
              "Saint Kitts and Nevis        1\n",
              "Guernsey                     1\n",
              "Patagonia                    1\n",
              "British Virgin Islands       1\n",
              "Name: country, Length: 165, dtype: int64"
            ]
          },
          "metadata": {
            "tags": []
          },
          "execution_count": 36
        }
      ]
    },
    {
      "cell_type": "markdown",
      "metadata": {
        "id": "KiB7z901N-9F",
        "colab_type": "text"
      },
      "source": [
        "As shown above the most visited country in 2017 is the United States with 1823 trips."
      ]
    },
    {
      "cell_type": "markdown",
      "metadata": {
        "id": "COTj7rMsWvhY",
        "colab_type": "text"
      },
      "source": [
        "# c. Which is the country in 'Eastern Asia' where travellers spent on average least time when going there? Provide a visualization."
      ]
    },
    {
      "cell_type": "code",
      "metadata": {
        "id": "hvSdq91Ny6FM",
        "colab_type": "code",
        "colab": {}
      },
      "source": [
        "# Initially we create a new dataframe df_eastern_asia where we specify sub_region == 'Eastern Asia' \n",
        "df_eastern_asia = df_trips[df_trips['sub_region']=='Eastern Asia']"
      ],
      "execution_count": 0,
      "outputs": []
    },
    {
      "cell_type": "code",
      "metadata": {
        "id": "-zrpc3CMzIOW",
        "colab_type": "code",
        "outputId": "b73d5ab4-6c02-4ad9-96e7-e371bd8cd72e",
        "colab": {
          "base_uri": "https://localhost:8080/",
          "height": 357
        }
      },
      "source": [
        "# We check that it worked\n",
        "df_eastern_asia.head()"
      ],
      "execution_count": 0,
      "outputs": [
        {
          "output_type": "execute_result",
          "data": {
            "text/html": [
              "<div>\n",
              "<style scoped>\n",
              "    .dataframe tbody tr th:only-of-type {\n",
              "        vertical-align: middle;\n",
              "    }\n",
              "\n",
              "    .dataframe tbody tr th {\n",
              "        vertical-align: top;\n",
              "    }\n",
              "\n",
              "    .dataframe thead th {\n",
              "        text-align: right;\n",
              "    }\n",
              "</style>\n",
              "<table border=\"1\" class=\"dataframe\">\n",
              "  <thead>\n",
              "    <tr style=\"text-align: right;\">\n",
              "      <th></th>\n",
              "      <th>Unnamed: 0</th>\n",
              "      <th>username</th>\n",
              "      <th>country</th>\n",
              "      <th>country_code</th>\n",
              "      <th>country_slug</th>\n",
              "      <th>date_end</th>\n",
              "      <th>latitude</th>\n",
              "      <th>longitude</th>\n",
              "      <th>place</th>\n",
              "      <th>place_slug</th>\n",
              "      <th>duration</th>\n",
              "      <th>region</th>\n",
              "      <th>sub_region</th>\n",
              "    </tr>\n",
              "    <tr>\n",
              "      <th>date_start</th>\n",
              "      <th></th>\n",
              "      <th></th>\n",
              "      <th></th>\n",
              "      <th></th>\n",
              "      <th></th>\n",
              "      <th></th>\n",
              "      <th></th>\n",
              "      <th></th>\n",
              "      <th></th>\n",
              "      <th></th>\n",
              "      <th></th>\n",
              "      <th></th>\n",
              "      <th></th>\n",
              "    </tr>\n",
              "  </thead>\n",
              "  <tbody>\n",
              "    <tr>\n",
              "      <th>1988-11-20</th>\n",
              "      <td>44548</td>\n",
              "      <td>@allenlsy</td>\n",
              "      <td>China</td>\n",
              "      <td>CN</td>\n",
              "      <td>china</td>\n",
              "      <td>1988-12-01</td>\n",
              "      <td>31</td>\n",
              "      <td>104</td>\n",
              "      <td>Mianyang</td>\n",
              "      <td>china</td>\n",
              "      <td>11 days</td>\n",
              "      <td>Asia</td>\n",
              "      <td>Eastern Asia</td>\n",
              "    </tr>\n",
              "    <tr>\n",
              "      <th>1990-02-15</th>\n",
              "      <td>44547</td>\n",
              "      <td>@allenlsy</td>\n",
              "      <td>China</td>\n",
              "      <td>CN</td>\n",
              "      <td>china</td>\n",
              "      <td>1990-02-18</td>\n",
              "      <td>30</td>\n",
              "      <td>104</td>\n",
              "      <td>Chengdu</td>\n",
              "      <td>chengdu-china</td>\n",
              "      <td>3 days</td>\n",
              "      <td>Asia</td>\n",
              "      <td>Eastern Asia</td>\n",
              "    </tr>\n",
              "    <tr>\n",
              "      <th>1993-12-31</th>\n",
              "      <td>37678</td>\n",
              "      <td>@julianamundim</td>\n",
              "      <td>Japan</td>\n",
              "      <td>JP</td>\n",
              "      <td>japan</td>\n",
              "      <td>1994-01-07</td>\n",
              "      <td>35</td>\n",
              "      <td>139</td>\n",
              "      <td>Tokyo</td>\n",
              "      <td>tokyo-japan</td>\n",
              "      <td>7 days</td>\n",
              "      <td>Asia</td>\n",
              "      <td>Eastern Asia</td>\n",
              "    </tr>\n",
              "    <tr>\n",
              "      <th>1994-01-08</th>\n",
              "      <td>37677</td>\n",
              "      <td>@julianamundim</td>\n",
              "      <td>China</td>\n",
              "      <td>CN</td>\n",
              "      <td>china</td>\n",
              "      <td>1994-01-11</td>\n",
              "      <td>22</td>\n",
              "      <td>114</td>\n",
              "      <td>Hong Kong</td>\n",
              "      <td>hong-kong-china</td>\n",
              "      <td>3 days</td>\n",
              "      <td>Asia</td>\n",
              "      <td>Eastern Asia</td>\n",
              "    </tr>\n",
              "    <tr>\n",
              "      <th>1994-06-10</th>\n",
              "      <td>44546</td>\n",
              "      <td>@allenlsy</td>\n",
              "      <td>China</td>\n",
              "      <td>CN</td>\n",
              "      <td>china</td>\n",
              "      <td>1994-06-20</td>\n",
              "      <td>39</td>\n",
              "      <td>116</td>\n",
              "      <td>Beijing</td>\n",
              "      <td>beijing-china</td>\n",
              "      <td>10 days</td>\n",
              "      <td>Asia</td>\n",
              "      <td>Eastern Asia</td>\n",
              "    </tr>\n",
              "  </tbody>\n",
              "</table>\n",
              "</div>"
            ],
            "text/plain": [
              "            Unnamed: 0        username country  ... duration region    sub_region\n",
              "date_start                                      ...                              \n",
              "1988-11-20       44548       @allenlsy   China  ...  11 days   Asia  Eastern Asia\n",
              "1990-02-15       44547       @allenlsy   China  ...   3 days   Asia  Eastern Asia\n",
              "1993-12-31       37678  @julianamundim   Japan  ...   7 days   Asia  Eastern Asia\n",
              "1994-01-08       37677  @julianamundim   China  ...   3 days   Asia  Eastern Asia\n",
              "1994-06-10       44546       @allenlsy   China  ...  10 days   Asia  Eastern Asia\n",
              "\n",
              "[5 rows x 13 columns]"
            ]
          },
          "metadata": {
            "tags": []
          },
          "execution_count": 38
        }
      ]
    },
    {
      "cell_type": "code",
      "metadata": {
        "id": "REjDCHM6zNd7",
        "colab_type": "code",
        "outputId": "edcf93ab-fae6-4cf0-cdfc-2293313f8ca3",
        "colab": {
          "base_uri": "https://localhost:8080/",
          "height": 412
        }
      },
      "source": [
        "# We plot the duration of the stay using .plot and after we have grouped the dataframe by 'country'.\n",
        "df_eastern_asia.groupby('country')['duration'].mean(numeric_only=False).plot(kind='bar')"
      ],
      "execution_count": 0,
      "outputs": [
        {
          "output_type": "stream",
          "text": [
            "/usr/local/lib/python3.6/dist-packages/pandas/plotting/_core.py:223: FutureWarning: Passing integers to fillna is deprecated, will raise a TypeError in a future version.  To retain the old behavior, pass pd.Timedelta(seconds=n) instead.\n",
            "  data = data.fillna(fillna)\n"
          ],
          "name": "stderr"
        },
        {
          "output_type": "execute_result",
          "data": {
            "text/plain": [
              "<matplotlib.axes._subplots.AxesSubplot at 0x7f78de2a4780>"
            ]
          },
          "metadata": {
            "tags": []
          },
          "execution_count": 39
        },
        {
          "output_type": "display_data",
          "data": {
            "image/png": "[encoded data removed]",
            "text/plain": [
              "<Figure size 432x288 with 1 Axes>"
            ]
          },
          "metadata": {
            "tags": []
          }
        }
      ]
    },
    {
      "cell_type": "markdown",
      "metadata": {
        "id": "lXjRCKpLO4rj",
        "colab_type": "text"
      },
      "source": [
        "As seen above, North Korea is the country where people stay for the shortest duration."
      ]
    },
    {
      "cell_type": "markdown",
      "metadata": {
        "id": "DtWrmT74Wvuu",
        "colab_type": "text"
      },
      "source": [
        "# d. Do nomads that indicate working in “Software Dev” tend to have shorter or longer trips on average?"
      ]
    },
    {
      "cell_type": "code",
      "metadata": {
        "id": "ferVRWlxzViq",
        "colab_type": "code",
        "outputId": "34c81837-624d-491e-d8d9-4dd33d1633da",
        "colab": {
          "base_uri": "https://localhost:8080/",
          "height": 238
        }
      },
      "source": [
        "# We take a look at the two dataframes.\n",
        "df_people.head()"
      ],
      "execution_count": 0,
      "outputs": [
        {
          "output_type": "execute_result",
          "data": {
            "text/html": [
              "<div>\n",
              "<style scoped>\n",
              "    .dataframe tbody tr th:only-of-type {\n",
              "        vertical-align: middle;\n",
              "    }\n",
              "\n",
              "    .dataframe tbody tr th {\n",
              "        vertical-align: top;\n",
              "    }\n",
              "\n",
              "    .dataframe thead th {\n",
              "        text-align: right;\n",
              "    }\n",
              "</style>\n",
              "<table border=\"1\" class=\"dataframe\">\n",
              "  <thead>\n",
              "    <tr style=\"text-align: right;\">\n",
              "      <th></th>\n",
              "      <th>Unnamed: 0</th>\n",
              "      <th>username</th>\n",
              "      <th>followers</th>\n",
              "      <th>following</th>\n",
              "      <th>work_raw</th>\n",
              "      <th>education_raw</th>\n",
              "    </tr>\n",
              "  </thead>\n",
              "  <tbody>\n",
              "    <tr>\n",
              "      <th>0</th>\n",
              "      <td>0</td>\n",
              "      <td>@lewellenmichael</td>\n",
              "      <td>1</td>\n",
              "      <td>2</td>\n",
              "      <td>Software Dev, Startup Founder, Finance, Crypto...</td>\n",
              "      <td>High School, Bachelor's Degree</td>\n",
              "    </tr>\n",
              "    <tr>\n",
              "      <th>1</th>\n",
              "      <td>1</td>\n",
              "      <td>@waylandchin</td>\n",
              "      <td>0</td>\n",
              "      <td>2</td>\n",
              "      <td>NaN</td>\n",
              "      <td>NaN</td>\n",
              "    </tr>\n",
              "    <tr>\n",
              "      <th>2</th>\n",
              "      <td>2</td>\n",
              "      <td>@karan</td>\n",
              "      <td>2</td>\n",
              "      <td>1</td>\n",
              "      <td>NaN</td>\n",
              "      <td>NaN</td>\n",
              "    </tr>\n",
              "    <tr>\n",
              "      <th>3</th>\n",
              "      <td>3</td>\n",
              "      <td>@skaboss217</td>\n",
              "      <td>0</td>\n",
              "      <td>1</td>\n",
              "      <td>NaN</td>\n",
              "      <td>NaN</td>\n",
              "    </tr>\n",
              "    <tr>\n",
              "      <th>4</th>\n",
              "      <td>4</td>\n",
              "      <td>@apwn</td>\n",
              "      <td>17</td>\n",
              "      <td>426</td>\n",
              "      <td>Web Dev</td>\n",
              "      <td>NaN</td>\n",
              "    </tr>\n",
              "  </tbody>\n",
              "</table>\n",
              "</div>"
            ],
            "text/plain": [
              "   Unnamed: 0  ...                   education_raw\n",
              "0           0  ...  High School, Bachelor's Degree\n",
              "1           1  ...                             NaN\n",
              "2           2  ...                             NaN\n",
              "3           3  ...                             NaN\n",
              "4           4  ...                             NaN\n",
              "\n",
              "[5 rows x 6 columns]"
            ]
          },
          "metadata": {
            "tags": []
          },
          "execution_count": 40
        }
      ]
    },
    {
      "cell_type": "code",
      "metadata": {
        "id": "HlXuQI9AzX1I",
        "colab_type": "code",
        "outputId": "903608d3-3247-41d4-b5c0-7158f66ecdf4",
        "colab": {
          "base_uri": "https://localhost:8080/",
          "height": 425
        }
      },
      "source": [
        "df_trips.head()"
      ],
      "execution_count": 0,
      "outputs": [
        {
          "output_type": "execute_result",
          "data": {
            "text/html": [
              "<div>\n",
              "<style scoped>\n",
              "    .dataframe tbody tr th:only-of-type {\n",
              "        vertical-align: middle;\n",
              "    }\n",
              "\n",
              "    .dataframe tbody tr th {\n",
              "        vertical-align: top;\n",
              "    }\n",
              "\n",
              "    .dataframe thead th {\n",
              "        text-align: right;\n",
              "    }\n",
              "</style>\n",
              "<table border=\"1\" class=\"dataframe\">\n",
              "  <thead>\n",
              "    <tr style=\"text-align: right;\">\n",
              "      <th></th>\n",
              "      <th>Unnamed: 0</th>\n",
              "      <th>username</th>\n",
              "      <th>country</th>\n",
              "      <th>country_code</th>\n",
              "      <th>country_slug</th>\n",
              "      <th>date_end</th>\n",
              "      <th>latitude</th>\n",
              "      <th>longitude</th>\n",
              "      <th>place</th>\n",
              "      <th>place_slug</th>\n",
              "      <th>duration</th>\n",
              "      <th>region</th>\n",
              "      <th>sub_region</th>\n",
              "    </tr>\n",
              "    <tr>\n",
              "      <th>date_start</th>\n",
              "      <th></th>\n",
              "      <th></th>\n",
              "      <th></th>\n",
              "      <th></th>\n",
              "      <th></th>\n",
              "      <th></th>\n",
              "      <th></th>\n",
              "      <th></th>\n",
              "      <th></th>\n",
              "      <th></th>\n",
              "      <th></th>\n",
              "      <th></th>\n",
              "      <th></th>\n",
              "    </tr>\n",
              "  </thead>\n",
              "  <tbody>\n",
              "    <tr>\n",
              "      <th>1979-07-02</th>\n",
              "      <td>40967</td>\n",
              "      <td>@allan</td>\n",
              "      <td>United States</td>\n",
              "      <td>US</td>\n",
              "      <td>united-states</td>\n",
              "      <td>1979-07-05</td>\n",
              "      <td>42</td>\n",
              "      <td>-78</td>\n",
              "      <td>Buffalo</td>\n",
              "      <td>buffalo-ny-united-states</td>\n",
              "      <td>3 days</td>\n",
              "      <td>Americas</td>\n",
              "      <td>Northern America</td>\n",
              "    </tr>\n",
              "    <tr>\n",
              "      <th>1981-07-12</th>\n",
              "      <td>40965</td>\n",
              "      <td>@allan</td>\n",
              "      <td>United States</td>\n",
              "      <td>US</td>\n",
              "      <td>united-states</td>\n",
              "      <td>1981-07-26</td>\n",
              "      <td>25</td>\n",
              "      <td>-80</td>\n",
              "      <td>Miami</td>\n",
              "      <td>miami-fl-united-states</td>\n",
              "      <td>14 days</td>\n",
              "      <td>Americas</td>\n",
              "      <td>Northern America</td>\n",
              "    </tr>\n",
              "    <tr>\n",
              "      <th>1981-07-26</th>\n",
              "      <td>40964</td>\n",
              "      <td>@allan</td>\n",
              "      <td>Canada</td>\n",
              "      <td>CA</td>\n",
              "      <td>canada</td>\n",
              "      <td>1981-12-12</td>\n",
              "      <td>51</td>\n",
              "      <td>-85</td>\n",
              "      <td>Ontario</td>\n",
              "      <td>canada</td>\n",
              "      <td>139 days</td>\n",
              "      <td>Americas</td>\n",
              "      <td>Northern America</td>\n",
              "    </tr>\n",
              "    <tr>\n",
              "      <th>1981-12-12</th>\n",
              "      <td>40963</td>\n",
              "      <td>@allan</td>\n",
              "      <td>Denmark</td>\n",
              "      <td>DK</td>\n",
              "      <td>denmark</td>\n",
              "      <td>1982-01-08</td>\n",
              "      <td>55</td>\n",
              "      <td>9</td>\n",
              "      <td>Hedensted</td>\n",
              "      <td>denmark</td>\n",
              "      <td>27 days</td>\n",
              "      <td>Europe</td>\n",
              "      <td>Northern Europe</td>\n",
              "    </tr>\n",
              "    <tr>\n",
              "      <th>1983-12-12</th>\n",
              "      <td>40961</td>\n",
              "      <td>@allan</td>\n",
              "      <td>Colombia</td>\n",
              "      <td>CO</td>\n",
              "      <td>colombia</td>\n",
              "      <td>1984-01-08</td>\n",
              "      <td>4</td>\n",
              "      <td>-74</td>\n",
              "      <td>Bogota</td>\n",
              "      <td>bogota-colombia</td>\n",
              "      <td>27 days</td>\n",
              "      <td>Americas</td>\n",
              "      <td>Latin America and the Caribbean</td>\n",
              "    </tr>\n",
              "  </tbody>\n",
              "</table>\n",
              "</div>"
            ],
            "text/plain": [
              "            Unnamed: 0 username  ...    region                       sub_region\n",
              "date_start                       ...                                           \n",
              "1979-07-02       40967   @allan  ...  Americas                 Northern America\n",
              "1981-07-12       40965   @allan  ...  Americas                 Northern America\n",
              "1981-07-26       40964   @allan  ...  Americas                 Northern America\n",
              "1981-12-12       40963   @allan  ...    Europe                  Northern Europe\n",
              "1983-12-12       40961   @allan  ...  Americas  Latin America and the Caribbean\n",
              "\n",
              "[5 rows x 13 columns]"
            ]
          },
          "metadata": {
            "tags": []
          },
          "execution_count": 41
        }
      ]
    },
    {
      "cell_type": "code",
      "metadata": {
        "id": "bhdt_IL9zeTV",
        "colab_type": "code",
        "colab": {}
      },
      "source": [
        "# As in a previous exercise we merge the dataframes using .merge\n",
        "df_soft_trip = df_trips.merge(df_people, how='left', left_on='username', right_on='username')"
      ],
      "execution_count": 0,
      "outputs": []
    },
    {
      "cell_type": "code",
      "metadata": {
        "id": "ySNUOKgdzkkT",
        "colab_type": "code",
        "outputId": "92ffde42-9e2e-456b-e8e9-885a5bda6411",
        "colab": {
          "base_uri": "https://localhost:8080/",
          "height": 394
        }
      },
      "source": [
        "df_soft_trip.head()"
      ],
      "execution_count": 0,
      "outputs": [
        {
          "output_type": "execute_result",
          "data": {
            "text/html": [
              "<div>\n",
              "<style scoped>\n",
              "    .dataframe tbody tr th:only-of-type {\n",
              "        vertical-align: middle;\n",
              "    }\n",
              "\n",
              "    .dataframe tbody tr th {\n",
              "        vertical-align: top;\n",
              "    }\n",
              "\n",
              "    .dataframe thead th {\n",
              "        text-align: right;\n",
              "    }\n",
              "</style>\n",
              "<table border=\"1\" class=\"dataframe\">\n",
              "  <thead>\n",
              "    <tr style=\"text-align: right;\">\n",
              "      <th></th>\n",
              "      <th>Unnamed: 0_x</th>\n",
              "      <th>username</th>\n",
              "      <th>country</th>\n",
              "      <th>country_code</th>\n",
              "      <th>country_slug</th>\n",
              "      <th>date_end</th>\n",
              "      <th>latitude</th>\n",
              "      <th>longitude</th>\n",
              "      <th>place</th>\n",
              "      <th>place_slug</th>\n",
              "      <th>duration</th>\n",
              "      <th>region</th>\n",
              "      <th>sub_region</th>\n",
              "      <th>Unnamed: 0_y</th>\n",
              "      <th>followers</th>\n",
              "      <th>following</th>\n",
              "      <th>work_raw</th>\n",
              "      <th>education_raw</th>\n",
              "    </tr>\n",
              "  </thead>\n",
              "  <tbody>\n",
              "    <tr>\n",
              "      <th>0</th>\n",
              "      <td>40967</td>\n",
              "      <td>@allan</td>\n",
              "      <td>United States</td>\n",
              "      <td>US</td>\n",
              "      <td>united-states</td>\n",
              "      <td>1979-07-05</td>\n",
              "      <td>42</td>\n",
              "      <td>-78</td>\n",
              "      <td>Buffalo</td>\n",
              "      <td>buffalo-ny-united-states</td>\n",
              "      <td>3 days</td>\n",
              "      <td>Americas</td>\n",
              "      <td>Northern America</td>\n",
              "      <td>3420</td>\n",
              "      <td>0</td>\n",
              "      <td>1</td>\n",
              "      <td>Journalism, Blogging</td>\n",
              "      <td>NaN</td>\n",
              "    </tr>\n",
              "    <tr>\n",
              "      <th>1</th>\n",
              "      <td>40965</td>\n",
              "      <td>@allan</td>\n",
              "      <td>United States</td>\n",
              "      <td>US</td>\n",
              "      <td>united-states</td>\n",
              "      <td>1981-07-26</td>\n",
              "      <td>25</td>\n",
              "      <td>-80</td>\n",
              "      <td>Miami</td>\n",
              "      <td>miami-fl-united-states</td>\n",
              "      <td>14 days</td>\n",
              "      <td>Americas</td>\n",
              "      <td>Northern America</td>\n",
              "      <td>3420</td>\n",
              "      <td>0</td>\n",
              "      <td>1</td>\n",
              "      <td>Journalism, Blogging</td>\n",
              "      <td>NaN</td>\n",
              "    </tr>\n",
              "    <tr>\n",
              "      <th>2</th>\n",
              "      <td>40964</td>\n",
              "      <td>@allan</td>\n",
              "      <td>Canada</td>\n",
              "      <td>CA</td>\n",
              "      <td>canada</td>\n",
              "      <td>1981-12-12</td>\n",
              "      <td>51</td>\n",
              "      <td>-85</td>\n",
              "      <td>Ontario</td>\n",
              "      <td>canada</td>\n",
              "      <td>139 days</td>\n",
              "      <td>Americas</td>\n",
              "      <td>Northern America</td>\n",
              "      <td>3420</td>\n",
              "      <td>0</td>\n",
              "      <td>1</td>\n",
              "      <td>Journalism, Blogging</td>\n",
              "      <td>NaN</td>\n",
              "    </tr>\n",
              "    <tr>\n",
              "      <th>3</th>\n",
              "      <td>40963</td>\n",
              "      <td>@allan</td>\n",
              "      <td>Denmark</td>\n",
              "      <td>DK</td>\n",
              "      <td>denmark</td>\n",
              "      <td>1982-01-08</td>\n",
              "      <td>55</td>\n",
              "      <td>9</td>\n",
              "      <td>Hedensted</td>\n",
              "      <td>denmark</td>\n",
              "      <td>27 days</td>\n",
              "      <td>Europe</td>\n",
              "      <td>Northern Europe</td>\n",
              "      <td>3420</td>\n",
              "      <td>0</td>\n",
              "      <td>1</td>\n",
              "      <td>Journalism, Blogging</td>\n",
              "      <td>NaN</td>\n",
              "    </tr>\n",
              "    <tr>\n",
              "      <th>4</th>\n",
              "      <td>40961</td>\n",
              "      <td>@allan</td>\n",
              "      <td>Colombia</td>\n",
              "      <td>CO</td>\n",
              "      <td>colombia</td>\n",
              "      <td>1984-01-08</td>\n",
              "      <td>4</td>\n",
              "      <td>-74</td>\n",
              "      <td>Bogota</td>\n",
              "      <td>bogota-colombia</td>\n",
              "      <td>27 days</td>\n",
              "      <td>Americas</td>\n",
              "      <td>Latin America and the Caribbean</td>\n",
              "      <td>3420</td>\n",
              "      <td>0</td>\n",
              "      <td>1</td>\n",
              "      <td>Journalism, Blogging</td>\n",
              "      <td>NaN</td>\n",
              "    </tr>\n",
              "  </tbody>\n",
              "</table>\n",
              "</div>"
            ],
            "text/plain": [
              "   Unnamed: 0_x username  ...              work_raw education_raw\n",
              "0         40967   @allan  ...  Journalism, Blogging           NaN\n",
              "1         40965   @allan  ...  Journalism, Blogging           NaN\n",
              "2         40964   @allan  ...  Journalism, Blogging           NaN\n",
              "3         40963   @allan  ...  Journalism, Blogging           NaN\n",
              "4         40961   @allan  ...  Journalism, Blogging           NaN\n",
              "\n",
              "[5 rows x 18 columns]"
            ]
          },
          "metadata": {
            "tags": []
          },
          "execution_count": 44
        }
      ]
    },
    {
      "cell_type": "code",
      "metadata": {
        "id": "rFwhILKxzpKc",
        "colab_type": "code",
        "colab": {}
      },
      "source": [
        "# We specify that we are looking for people who work as a software developer. \n",
        "df_soft_trip2 = df_soft_trip[df_soft_trip['work_raw'].str.contains(\"Software Dev\") > 0]"
      ],
      "execution_count": 0,
      "outputs": []
    },
    {
      "cell_type": "code",
      "metadata": {
        "id": "oU_J0xrRztda",
        "colab_type": "code",
        "outputId": "aed050f7-a113-4b60-af14-e1565c69ff72",
        "colab": {
          "base_uri": "https://localhost:8080/",
          "height": 34
        }
      },
      "source": [
        "# We find the mean of the duration of our new dataframe.\n",
        "df_soft_trip2['duration'].mean(numeric_only=False)"
      ],
      "execution_count": 0,
      "outputs": [
        {
          "output_type": "execute_result",
          "data": {
            "text/plain": [
              "Timedelta('16 days 19:29:17.940594')"
            ]
          },
          "metadata": {
            "tags": []
          },
          "execution_count": 46
        }
      ]
    },
    {
      "cell_type": "code",
      "metadata": {
        "id": "jtBcEZhSzw8j",
        "colab_type": "code",
        "outputId": "90112e66-5bda-45b2-fb34-f08fc899065e",
        "colab": {
          "base_uri": "https://localhost:8080/",
          "height": 34
        }
      },
      "source": [
        "# We find the mean of the duration of our oringinal dataframe.\n",
        "df_trips['duration'].mean(numeric_only=False)"
      ],
      "execution_count": 0,
      "outputs": [
        {
          "output_type": "execute_result",
          "data": {
            "text/plain": [
              "Timedelta('18 days 01:26:19.851332')"
            ]
          },
          "metadata": {
            "tags": []
          },
          "execution_count": 47
        }
      ]
    },
    {
      "cell_type": "markdown",
      "metadata": {
        "id": "sKYhZSRCPx7V",
        "colab_type": "text"
      },
      "source": [
        "We find that software developers have a shorter stay of 16 days compared to the entire dataframe whose duration averages at 18 days."
      ]
    },
    {
      "cell_type": "markdown",
      "metadata": {
        "id": "2Zw1PZ2zWv7M",
        "colab_type": "text"
      },
      "source": [
        "# e. Visualize over-time median trip duration overall (bonus: and split by world-region). You will get a weird looking plot :-) Hint: Python – resample by week (‘W’) and calculate the size of observations."
      ]
    },
    {
      "cell_type": "markdown",
      "metadata": {
        "id": "xwF1gX8hP9jc",
        "colab_type": "text"
      },
      "source": [
        "Unable to complete this assignment."
      ]
    },
    {
      "cell_type": "code",
      "metadata": {
        "id": "IyL9YdspAMjz",
        "colab_type": "code",
        "outputId": "26c905f1-80ea-424d-d34c-43c7491fe115",
        "colab": {
          "base_uri": "https://localhost:8080/",
          "height": 425
        }
      },
      "source": [
        "df_trips.head()"
      ],
      "execution_count": 0,
      "outputs": [
        {
          "output_type": "execute_result",
          "data": {
            "text/html": [
              "<div>\n",
              "<style scoped>\n",
              "    .dataframe tbody tr th:only-of-type {\n",
              "        vertical-align: middle;\n",
              "    }\n",
              "\n",
              "    .dataframe tbody tr th {\n",
              "        vertical-align: top;\n",
              "    }\n",
              "\n",
              "    .dataframe thead th {\n",
              "        text-align: right;\n",
              "    }\n",
              "</style>\n",
              "<table border=\"1\" class=\"dataframe\">\n",
              "  <thead>\n",
              "    <tr style=\"text-align: right;\">\n",
              "      <th></th>\n",
              "      <th>Unnamed: 0</th>\n",
              "      <th>username</th>\n",
              "      <th>country</th>\n",
              "      <th>country_code</th>\n",
              "      <th>country_slug</th>\n",
              "      <th>date_end</th>\n",
              "      <th>latitude</th>\n",
              "      <th>longitude</th>\n",
              "      <th>place</th>\n",
              "      <th>place_slug</th>\n",
              "      <th>duration</th>\n",
              "      <th>region</th>\n",
              "      <th>sub_region</th>\n",
              "    </tr>\n",
              "    <tr>\n",
              "      <th>date_start</th>\n",
              "      <th></th>\n",
              "      <th></th>\n",
              "      <th></th>\n",
              "      <th></th>\n",
              "      <th></th>\n",
              "      <th></th>\n",
              "      <th></th>\n",
              "      <th></th>\n",
              "      <th></th>\n",
              "      <th></th>\n",
              "      <th></th>\n",
              "      <th></th>\n",
              "      <th></th>\n",
              "    </tr>\n",
              "  </thead>\n",
              "  <tbody>\n",
              "    <tr>\n",
              "      <th>1979-07-02</th>\n",
              "      <td>40967</td>\n",
              "      <td>@allan</td>\n",
              "      <td>United States</td>\n",
              "      <td>US</td>\n",
              "      <td>united-states</td>\n",
              "      <td>1979-07-05</td>\n",
              "      <td>42</td>\n",
              "      <td>-78</td>\n",
              "      <td>Buffalo</td>\n",
              "      <td>buffalo-ny-united-states</td>\n",
              "      <td>3 days</td>\n",
              "      <td>Americas</td>\n",
              "      <td>Northern America</td>\n",
              "    </tr>\n",
              "    <tr>\n",
              "      <th>1981-07-12</th>\n",
              "      <td>40965</td>\n",
              "      <td>@allan</td>\n",
              "      <td>United States</td>\n",
              "      <td>US</td>\n",
              "      <td>united-states</td>\n",
              "      <td>1981-07-26</td>\n",
              "      <td>25</td>\n",
              "      <td>-80</td>\n",
              "      <td>Miami</td>\n",
              "      <td>miami-fl-united-states</td>\n",
              "      <td>14 days</td>\n",
              "      <td>Americas</td>\n",
              "      <td>Northern America</td>\n",
              "    </tr>\n",
              "    <tr>\n",
              "      <th>1981-07-26</th>\n",
              "      <td>40964</td>\n",
              "      <td>@allan</td>\n",
              "      <td>Canada</td>\n",
              "      <td>CA</td>\n",
              "      <td>canada</td>\n",
              "      <td>1981-12-12</td>\n",
              "      <td>51</td>\n",
              "      <td>-85</td>\n",
              "      <td>Ontario</td>\n",
              "      <td>canada</td>\n",
              "      <td>139 days</td>\n",
              "      <td>Americas</td>\n",
              "      <td>Northern America</td>\n",
              "    </tr>\n",
              "    <tr>\n",
              "      <th>1981-12-12</th>\n",
              "      <td>40963</td>\n",
              "      <td>@allan</td>\n",
              "      <td>Denmark</td>\n",
              "      <td>DK</td>\n",
              "      <td>denmark</td>\n",
              "      <td>1982-01-08</td>\n",
              "      <td>55</td>\n",
              "      <td>9</td>\n",
              "      <td>Hedensted</td>\n",
              "      <td>denmark</td>\n",
              "      <td>27 days</td>\n",
              "      <td>Europe</td>\n",
              "      <td>Northern Europe</td>\n",
              "    </tr>\n",
              "    <tr>\n",
              "      <th>1983-12-12</th>\n",
              "      <td>40961</td>\n",
              "      <td>@allan</td>\n",
              "      <td>Colombia</td>\n",
              "      <td>CO</td>\n",
              "      <td>colombia</td>\n",
              "      <td>1984-01-08</td>\n",
              "      <td>4</td>\n",
              "      <td>-74</td>\n",
              "      <td>Bogota</td>\n",
              "      <td>bogota-colombia</td>\n",
              "      <td>27 days</td>\n",
              "      <td>Americas</td>\n",
              "      <td>Latin America and the Caribbean</td>\n",
              "    </tr>\n",
              "  </tbody>\n",
              "</table>\n",
              "</div>"
            ],
            "text/plain": [
              "            Unnamed: 0 username  ...    region                       sub_region\n",
              "date_start                       ...                                           \n",
              "1979-07-02       40967   @allan  ...  Americas                 Northern America\n",
              "1981-07-12       40965   @allan  ...  Americas                 Northern America\n",
              "1981-07-26       40964   @allan  ...  Americas                 Northern America\n",
              "1981-12-12       40963   @allan  ...    Europe                  Northern Europe\n",
              "1983-12-12       40961   @allan  ...  Americas  Latin America and the Caribbean\n",
              "\n",
              "[5 rows x 13 columns]"
            ]
          },
          "metadata": {
            "tags": []
          },
          "execution_count": 64
        }
      ]
    },
    {
      "cell_type": "code",
      "metadata": {
        "id": "fSH7UieF_T5e",
        "colab_type": "code",
        "outputId": "4e739162-e560-4458-b4c7-10c9214ade87",
        "colab": {
          "base_uri": "https://localhost:8080/",
          "height": 343
        }
      },
      "source": [
        "weekly_summary = pd.DataFrame()\n",
        "weekly_summary['start_date'] = df_trips.date_end.resample('W').median()\n"
      ],
      "execution_count": 0,
      "outputs": [
        {
          "output_type": "error",
          "ename": "DataError",
          "evalue": "ignored",
          "traceback": [
            "\u001b[0;31m---------------------------------------------------------------------------\u001b[0m",
            "\u001b[0;31mDataError\u001b[0m                                 Traceback (most recent call last)",
            "\u001b[0;32m<ipython-input-66-10564e9a5e23>\u001b[0m in \u001b[0;36m<module>\u001b[0;34m()\u001b[0m\n\u001b[1;32m      1\u001b[0m \u001b[0mweekly_summary\u001b[0m \u001b[0;34m=\u001b[0m \u001b[0mpd\u001b[0m\u001b[0;34m.\u001b[0m\u001b[0mDataFrame\u001b[0m\u001b[0;34m(\u001b[0m\u001b[0;34m)\u001b[0m\u001b[0;34m\u001b[0m\u001b[0;34m\u001b[0m\u001b[0m\n\u001b[0;32m----> 2\u001b[0;31m \u001b[0mweekly_summary\u001b[0m\u001b[0;34m[\u001b[0m\u001b[0;34m'start_date'\u001b[0m\u001b[0;34m]\u001b[0m \u001b[0;34m=\u001b[0m \u001b[0mdf_trips\u001b[0m\u001b[0;34m.\u001b[0m\u001b[0mdate_end\u001b[0m\u001b[0;34m.\u001b[0m\u001b[0mresample\u001b[0m\u001b[0;34m(\u001b[0m\u001b[0;34m'W'\u001b[0m\u001b[0;34m)\u001b[0m\u001b[0;34m.\u001b[0m\u001b[0mmedian\u001b[0m\u001b[0;34m(\u001b[0m\u001b[0;34m)\u001b[0m\u001b[0;34m\u001b[0m\u001b[0;34m\u001b[0m\u001b[0m\n\u001b[0m",
            "\u001b[0;32m/usr/local/lib/python3.6/dist-packages/pandas/core/resample.py\u001b[0m in \u001b[0;36mf\u001b[0;34m(self, _method, *args, **kwargs)\u001b[0m\n\u001b[1;32m    863\u001b[0m     \u001b[0;32mdef\u001b[0m \u001b[0mf\u001b[0m\u001b[0;34m(\u001b[0m\u001b[0mself\u001b[0m\u001b[0;34m,\u001b[0m \u001b[0m_method\u001b[0m\u001b[0;34m=\u001b[0m\u001b[0mmethod\u001b[0m\u001b[0;34m,\u001b[0m \u001b[0;34m*\u001b[0m\u001b[0margs\u001b[0m\u001b[0;34m,\u001b[0m \u001b[0;34m**\u001b[0m\u001b[0mkwargs\u001b[0m\u001b[0;34m)\u001b[0m\u001b[0;34m:\u001b[0m\u001b[0;34m\u001b[0m\u001b[0;34m\u001b[0m\u001b[0m\n\u001b[1;32m    864\u001b[0m         \u001b[0mnv\u001b[0m\u001b[0;34m.\u001b[0m\u001b[0mvalidate_resampler_func\u001b[0m\u001b[0;34m(\u001b[0m\u001b[0m_method\u001b[0m\u001b[0;34m,\u001b[0m \u001b[0margs\u001b[0m\u001b[0;34m,\u001b[0m \u001b[0mkwargs\u001b[0m\u001b[0;34m)\u001b[0m\u001b[0;34m\u001b[0m\u001b[0;34m\u001b[0m\u001b[0m\n\u001b[0;32m--> 865\u001b[0;31m         \u001b[0;32mreturn\u001b[0m \u001b[0mself\u001b[0m\u001b[0;34m.\u001b[0m\u001b[0m_downsample\u001b[0m\u001b[0;34m(\u001b[0m\u001b[0m_method\u001b[0m\u001b[0;34m)\u001b[0m\u001b[0;34m\u001b[0m\u001b[0;34m\u001b[0m\u001b[0m\n\u001b[0m\u001b[1;32m    866\u001b[0m     \u001b[0mf\u001b[0m\u001b[0;34m.\u001b[0m\u001b[0m__doc__\u001b[0m \u001b[0;34m=\u001b[0m \u001b[0mgetattr\u001b[0m\u001b[0;34m(\u001b[0m\u001b[0mGroupBy\u001b[0m\u001b[0;34m,\u001b[0m \u001b[0mmethod\u001b[0m\u001b[0;34m)\u001b[0m\u001b[0;34m.\u001b[0m\u001b[0m__doc__\u001b[0m\u001b[0;34m\u001b[0m\u001b[0;34m\u001b[0m\u001b[0m\n\u001b[1;32m    867\u001b[0m     \u001b[0msetattr\u001b[0m\u001b[0;34m(\u001b[0m\u001b[0mResampler\u001b[0m\u001b[0;34m,\u001b[0m \u001b[0mmethod\u001b[0m\u001b[0;34m,\u001b[0m \u001b[0mf\u001b[0m\u001b[0;34m)\u001b[0m\u001b[0;34m\u001b[0m\u001b[0;34m\u001b[0m\u001b[0m\n",
            "\u001b[0;32m/usr/local/lib/python3.6/dist-packages/pandas/core/resample.py\u001b[0m in \u001b[0;36m_downsample\u001b[0;34m(self, how, **kwargs)\u001b[0m\n\u001b[1;32m   1018\u001b[0m         \u001b[0;31m# we want to call the actual grouper method here\u001b[0m\u001b[0;34m\u001b[0m\u001b[0;34m\u001b[0m\u001b[0;34m\u001b[0m\u001b[0m\n\u001b[1;32m   1019\u001b[0m         result = obj.groupby(\n\u001b[0;32m-> 1020\u001b[0;31m             self.grouper, axis=self.axis).aggregate(how, **kwargs)\n\u001b[0m\u001b[1;32m   1021\u001b[0m \u001b[0;34m\u001b[0m\u001b[0m\n\u001b[1;32m   1022\u001b[0m         \u001b[0mresult\u001b[0m \u001b[0;34m=\u001b[0m \u001b[0mself\u001b[0m\u001b[0;34m.\u001b[0m\u001b[0m_apply_loffset\u001b[0m\u001b[0;34m(\u001b[0m\u001b[0mresult\u001b[0m\u001b[0;34m)\u001b[0m\u001b[0;34m\u001b[0m\u001b[0;34m\u001b[0m\u001b[0m\n",
            "\u001b[0;32m/usr/local/lib/python3.6/dist-packages/pandas/core/groupby/generic.py\u001b[0m in \u001b[0;36maggregate\u001b[0;34m(self, func_or_funcs, *args, **kwargs)\u001b[0m\n\u001b[1;32m    758\u001b[0m         \u001b[0m_level\u001b[0m \u001b[0;34m=\u001b[0m \u001b[0mkwargs\u001b[0m\u001b[0;34m.\u001b[0m\u001b[0mpop\u001b[0m\u001b[0;34m(\u001b[0m\u001b[0;34m'_level'\u001b[0m\u001b[0;34m,\u001b[0m \u001b[0;32mNone\u001b[0m\u001b[0;34m)\u001b[0m\u001b[0;34m\u001b[0m\u001b[0;34m\u001b[0m\u001b[0m\n\u001b[1;32m    759\u001b[0m         \u001b[0;32mif\u001b[0m \u001b[0misinstance\u001b[0m\u001b[0;34m(\u001b[0m\u001b[0mfunc_or_funcs\u001b[0m\u001b[0;34m,\u001b[0m \u001b[0mcompat\u001b[0m\u001b[0;34m.\u001b[0m\u001b[0mstring_types\u001b[0m\u001b[0;34m)\u001b[0m\u001b[0;34m:\u001b[0m\u001b[0;34m\u001b[0m\u001b[0;34m\u001b[0m\u001b[0m\n\u001b[0;32m--> 760\u001b[0;31m             \u001b[0;32mreturn\u001b[0m \u001b[0mgetattr\u001b[0m\u001b[0;34m(\u001b[0m\u001b[0mself\u001b[0m\u001b[0;34m,\u001b[0m \u001b[0mfunc_or_funcs\u001b[0m\u001b[0;34m)\u001b[0m\u001b[0;34m(\u001b[0m\u001b[0;34m*\u001b[0m\u001b[0margs\u001b[0m\u001b[0;34m,\u001b[0m \u001b[0;34m**\u001b[0m\u001b[0mkwargs\u001b[0m\u001b[0;34m)\u001b[0m\u001b[0;34m\u001b[0m\u001b[0;34m\u001b[0m\u001b[0m\n\u001b[0m\u001b[1;32m    761\u001b[0m \u001b[0;34m\u001b[0m\u001b[0m\n\u001b[1;32m    762\u001b[0m         \u001b[0;32mif\u001b[0m \u001b[0misinstance\u001b[0m\u001b[0;34m(\u001b[0m\u001b[0mfunc_or_funcs\u001b[0m\u001b[0;34m,\u001b[0m \u001b[0mcompat\u001b[0m\u001b[0;34m.\u001b[0m\u001b[0mIterable\u001b[0m\u001b[0;34m)\u001b[0m\u001b[0;34m:\u001b[0m\u001b[0;34m\u001b[0m\u001b[0;34m\u001b[0m\u001b[0m\n",
            "\u001b[0;32m/usr/local/lib/python3.6/dist-packages/pandas/core/groupby/groupby.py\u001b[0m in \u001b[0;36mmedian\u001b[0;34m(self, **kwargs)\u001b[0m\n\u001b[1;32m   1147\u001b[0m         \"\"\"\n\u001b[1;32m   1148\u001b[0m         \u001b[0;32mtry\u001b[0m\u001b[0;34m:\u001b[0m\u001b[0;34m\u001b[0m\u001b[0;34m\u001b[0m\u001b[0m\n\u001b[0;32m-> 1149\u001b[0;31m             \u001b[0;32mreturn\u001b[0m \u001b[0mself\u001b[0m\u001b[0;34m.\u001b[0m\u001b[0m_cython_agg_general\u001b[0m\u001b[0;34m(\u001b[0m\u001b[0;34m'median'\u001b[0m\u001b[0;34m,\u001b[0m \u001b[0;34m**\u001b[0m\u001b[0mkwargs\u001b[0m\u001b[0;34m)\u001b[0m\u001b[0;34m\u001b[0m\u001b[0;34m\u001b[0m\u001b[0m\n\u001b[0m\u001b[1;32m   1150\u001b[0m         \u001b[0;32mexcept\u001b[0m \u001b[0mGroupByError\u001b[0m\u001b[0;34m:\u001b[0m\u001b[0;34m\u001b[0m\u001b[0;34m\u001b[0m\u001b[0m\n\u001b[1;32m   1151\u001b[0m             \u001b[0;32mraise\u001b[0m\u001b[0;34m\u001b[0m\u001b[0;34m\u001b[0m\u001b[0m\n",
            "\u001b[0;32m/usr/local/lib/python3.6/dist-packages/pandas/core/groupby/groupby.py\u001b[0m in \u001b[0;36m_cython_agg_general\u001b[0;34m(self, how, alt, numeric_only, min_count)\u001b[0m\n\u001b[1;32m    836\u001b[0m \u001b[0;34m\u001b[0m\u001b[0m\n\u001b[1;32m    837\u001b[0m         \u001b[0;32mif\u001b[0m \u001b[0mlen\u001b[0m\u001b[0;34m(\u001b[0m\u001b[0moutput\u001b[0m\u001b[0;34m)\u001b[0m \u001b[0;34m==\u001b[0m \u001b[0;36m0\u001b[0m\u001b[0;34m:\u001b[0m\u001b[0;34m\u001b[0m\u001b[0;34m\u001b[0m\u001b[0m\n\u001b[0;32m--> 838\u001b[0;31m             \u001b[0;32mraise\u001b[0m \u001b[0mDataError\u001b[0m\u001b[0;34m(\u001b[0m\u001b[0;34m'No numeric types to aggregate'\u001b[0m\u001b[0;34m)\u001b[0m\u001b[0;34m\u001b[0m\u001b[0;34m\u001b[0m\u001b[0m\n\u001b[0m\u001b[1;32m    839\u001b[0m \u001b[0;34m\u001b[0m\u001b[0m\n\u001b[1;32m    840\u001b[0m         \u001b[0;32mreturn\u001b[0m \u001b[0mself\u001b[0m\u001b[0;34m.\u001b[0m\u001b[0m_wrap_aggregated_output\u001b[0m\u001b[0;34m(\u001b[0m\u001b[0moutput\u001b[0m\u001b[0;34m,\u001b[0m \u001b[0mnames\u001b[0m\u001b[0;34m)\u001b[0m\u001b[0;34m\u001b[0m\u001b[0;34m\u001b[0m\u001b[0m\n",
            "\u001b[0;31mDataError\u001b[0m: No numeric types to aggregate"
          ]
        }
      ]
    },
    {
      "cell_type": "code",
      "metadata": {
        "id": "_dwV320u-Hw-",
        "colab_type": "code",
        "outputId": "18940bbd-5cc5-4584-a68b-7cd88d1499b6",
        "colab": {
          "base_uri": "https://localhost:8080/",
          "height": 282
        }
      },
      "source": [
        "df_trips_weekly = df_trips.date_start.resample('W').mean()"
      ],
      "execution_count": 0,
      "outputs": [
        {
          "output_type": "error",
          "ename": "AttributeError",
          "evalue": "ignored",
          "traceback": [
            "\u001b[0;31m---------------------------------------------------------------------------\u001b[0m",
            "\u001b[0;31mAttributeError\u001b[0m                            Traceback (most recent call last)",
            "\u001b[0;32m<ipython-input-56-b7cfea35f121>\u001b[0m in \u001b[0;36m<module>\u001b[0;34m()\u001b[0m\n\u001b[0;32m----> 1\u001b[0;31m \u001b[0mdf_trips_weekly\u001b[0m \u001b[0;34m=\u001b[0m \u001b[0mdf_trips\u001b[0m\u001b[0;34m.\u001b[0m\u001b[0mdate_start\u001b[0m\u001b[0;34m.\u001b[0m\u001b[0mresample\u001b[0m\u001b[0;34m(\u001b[0m\u001b[0;34m'W'\u001b[0m\u001b[0;34m)\u001b[0m\u001b[0;34m.\u001b[0m\u001b[0mmean\u001b[0m\u001b[0;34m(\u001b[0m\u001b[0;34m)\u001b[0m\u001b[0;34m\u001b[0m\u001b[0;34m\u001b[0m\u001b[0m\n\u001b[0m",
            "\u001b[0;32m/usr/local/lib/python3.6/dist-packages/pandas/core/generic.py\u001b[0m in \u001b[0;36m__getattr__\u001b[0;34m(self, name)\u001b[0m\n\u001b[1;32m   5065\u001b[0m             \u001b[0;32mif\u001b[0m \u001b[0mself\u001b[0m\u001b[0;34m.\u001b[0m\u001b[0m_info_axis\u001b[0m\u001b[0;34m.\u001b[0m\u001b[0m_can_hold_identifiers_and_holds_name\u001b[0m\u001b[0;34m(\u001b[0m\u001b[0mname\u001b[0m\u001b[0;34m)\u001b[0m\u001b[0;34m:\u001b[0m\u001b[0;34m\u001b[0m\u001b[0;34m\u001b[0m\u001b[0m\n\u001b[1;32m   5066\u001b[0m                 \u001b[0;32mreturn\u001b[0m \u001b[0mself\u001b[0m\u001b[0;34m[\u001b[0m\u001b[0mname\u001b[0m\u001b[0;34m]\u001b[0m\u001b[0;34m\u001b[0m\u001b[0;34m\u001b[0m\u001b[0m\n\u001b[0;32m-> 5067\u001b[0;31m             \u001b[0;32mreturn\u001b[0m \u001b[0mobject\u001b[0m\u001b[0;34m.\u001b[0m\u001b[0m__getattribute__\u001b[0m\u001b[0;34m(\u001b[0m\u001b[0mself\u001b[0m\u001b[0;34m,\u001b[0m \u001b[0mname\u001b[0m\u001b[0;34m)\u001b[0m\u001b[0;34m\u001b[0m\u001b[0;34m\u001b[0m\u001b[0m\n\u001b[0m\u001b[1;32m   5068\u001b[0m \u001b[0;34m\u001b[0m\u001b[0m\n\u001b[1;32m   5069\u001b[0m     \u001b[0;32mdef\u001b[0m \u001b[0m__setattr__\u001b[0m\u001b[0;34m(\u001b[0m\u001b[0mself\u001b[0m\u001b[0;34m,\u001b[0m \u001b[0mname\u001b[0m\u001b[0;34m,\u001b[0m \u001b[0mvalue\u001b[0m\u001b[0;34m)\u001b[0m\u001b[0;34m:\u001b[0m\u001b[0;34m\u001b[0m\u001b[0;34m\u001b[0m\u001b[0m\n",
            "\u001b[0;31mAttributeError\u001b[0m: 'DataFrame' object has no attribute 'date_start'"
          ]
        }
      ]
    },
    {
      "cell_type": "markdown",
      "metadata": {
        "id": "QpMo-JIM-x2F",
        "colab_type": "text"
      },
      "source": [
        ""
      ]
    }
  ]
}